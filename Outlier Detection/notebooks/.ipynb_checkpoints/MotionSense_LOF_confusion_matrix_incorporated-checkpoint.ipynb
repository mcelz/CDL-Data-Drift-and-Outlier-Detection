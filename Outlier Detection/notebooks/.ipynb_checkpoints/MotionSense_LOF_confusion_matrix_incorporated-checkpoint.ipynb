{
 "cells": [
  {
   "cell_type": "code",
   "execution_count": 1,
   "id": "a58492ba",
   "metadata": {},
   "outputs": [],
   "source": [
    "import pandas as pd\n",
    "import numpy as np\n",
    "import matplotlib.pyplot as plt\n",
    "from skmultiflow.anomaly_detection import HalfSpaceTrees\n",
    "import glob\n",
    "from collections import deque\n",
    "import dask.dataframe as da\n",
    "import math\n",
    "import itertools\n",
    "from sklearn.neighbors import LocalOutlierFactor\n",
    "from sklearn.metrics import classification_report\n",
    "import time\n",
    "from sklearn.metrics import accuracy_score, confusion_matrix\n",
    "from sklearn.metrics import f1_score, recall_score, precision_score\n",
    "import warnings\n",
    "warnings.filterwarnings(\"ignore\")"
   ]
  },
  {
   "cell_type": "markdown",
   "id": "92b03233",
   "metadata": {
    "tags": []
   },
   "source": [
    "# Load data\n"
   ]
  },
  {
   "cell_type": "code",
   "execution_count": 4,
   "id": "ca07508e",
   "metadata": {},
   "outputs": [],
   "source": [
    "dat1 = pd.read_csv('../datasets/revised_sub20_data_Ishu_modification.csv')"
   ]
  },
  {
   "cell_type": "code",
   "execution_count": 5,
   "id": "1476ba0f-3c59-4ac1-958a-99631d0c5ede",
   "metadata": {},
   "outputs": [
    {
     "data": {
      "text/plain": [
       "array(['sit', 'std'], dtype=object)"
      ]
     },
     "execution_count": 5,
     "metadata": {},
     "output_type": "execute_result"
    }
   ],
   "source": [
    "# Only sit and stand are outliers\n",
    "dat1[dat1['outlier'] == 1]['type'].unique()"
   ]
  },
  {
   "cell_type": "code",
   "execution_count": 6,
   "id": "27c691e3-727d-41a5-82b7-caddb6d314e9",
   "metadata": {},
   "outputs": [
    {
     "data": {
      "text/plain": [
       "0    32900\n",
       "1      332\n",
       "Name: outlier, dtype: int64"
      ]
     },
     "execution_count": 6,
     "metadata": {},
     "output_type": "execute_result"
    }
   ],
   "source": [
    "# ~1% are outliers. Their percentage have been decreased\n",
    "dat1['outlier'].value_counts() "
   ]
  },
  {
   "cell_type": "code",
   "execution_count": null,
   "id": "4b75beb6-46ec-4d37-bd79-5f1364058413",
   "metadata": {},
   "outputs": [],
   "source": []
  },
  {
   "cell_type": "markdown",
   "id": "2726b9fd",
   "metadata": {},
   "source": [
    "# Read Data chunk by chunk"
   ]
  },
  {
   "cell_type": "code",
   "execution_count": 7,
   "id": "2c53ebcc-ad59-4b65-b7a1-f6542ea4d2a7",
   "metadata": {},
   "outputs": [],
   "source": [
    "import re\n",
    "numbers = re.compile(r'(\\d+)')"
   ]
  },
  {
   "cell_type": "code",
   "execution_count": 8,
   "id": "6de35fd2-9274-466f-b842-3b727fa66394",
   "metadata": {},
   "outputs": [],
   "source": [
    "def numericalSort(value):\n",
    "    parts = numbers.split(value)\n",
    "    parts[1::2] = map(int, parts[1::2])\n",
    "    return parts"
   ]
  },
  {
   "cell_type": "code",
   "execution_count": 11,
   "id": "6afceaa9-4d9f-497d-967e-37a2e8d6c51c",
   "metadata": {},
   "outputs": [],
   "source": [
    "all_files = sorted(glob.glob('../datasets/revised_sub20_data_Ishu_modification.csv'), key=numericalSort)\n",
    "li = []"
   ]
  },
  {
   "cell_type": "code",
   "execution_count": 13,
   "id": "9a10b10f-38c3-4b92-8635-ea7863a744d1",
   "metadata": {},
   "outputs": [
    {
     "data": {
      "text/plain": [
       "(33232, 19)"
      ]
     },
     "execution_count": 13,
     "metadata": {},
     "output_type": "execute_result"
    }
   ],
   "source": [
    "dat1.shape"
   ]
  },
  {
   "cell_type": "code",
   "execution_count": 14,
   "id": "2db5af86-f383-4bae-ba52-05a8bc4eb9ed",
   "metadata": {},
   "outputs": [
    {
     "data": {
      "text/plain": [
       "['../datasets/revised_sub20_data_Ishu_modification.csv']"
      ]
     },
     "execution_count": 14,
     "metadata": {},
     "output_type": "execute_result"
    }
   ],
   "source": [
    "all_files"
   ]
  },
  {
   "cell_type": "code",
   "execution_count": 15,
   "id": "44e79c3a-a8ae-4492-bcb6-94d367f8a14a",
   "metadata": {},
   "outputs": [],
   "source": [
    "window_len = 1000\n",
    "buffer = deque()\n",
    "for file in all_files:\n",
    "    window_start = 0\n",
    "    dfs = pd.read_csv(all_files[0], iterator = True, chunksize = window_len)\n",
    "    for idx, df in enumerate(dfs):\n",
    "        ## Use this df chunk\n",
    "        buffer.append(df)"
   ]
  },
  {
   "cell_type": "code",
   "execution_count": 16,
   "id": "e4bc4aea-a223-45dc-b414-019973b04f38",
   "metadata": {},
   "outputs": [
    {
     "data": {
      "text/plain": [
       "34"
      ]
     },
     "execution_count": 16,
     "metadata": {},
     "output_type": "execute_result"
    }
   ],
   "source": [
    "len(buffer)"
   ]
  },
  {
   "cell_type": "code",
   "execution_count": 17,
   "id": "cfcb3f1e-fcbe-49a2-8c9e-6286dbdd200f",
   "metadata": {},
   "outputs": [
    {
     "data": {
      "text/plain": [
       "(232, 19)"
      ]
     },
     "execution_count": 17,
     "metadata": {},
     "output_type": "execute_result"
    }
   ],
   "source": [
    "buffer[-1].shape"
   ]
  },
  {
   "cell_type": "code",
   "execution_count": 18,
   "id": "85223bfe-1c73-4b2d-9439-3258abc6e0f6",
   "metadata": {},
   "outputs": [],
   "source": [
    "# Buffer is a deque of pandas dataframe. While its use is like a list, we made it a deque in case in future we need to append at the end or left or need to pop from left or right and we can do it in less time complexity"
   ]
  },
  {
   "cell_type": "code",
   "execution_count": 19,
   "id": "5e663e0c-74bf-4350-b707-5177fd8ab1fc",
   "metadata": {},
   "outputs": [
    {
     "data": {
      "text/plain": [
       "(True, 34)"
      ]
     },
     "execution_count": 19,
     "metadata": {},
     "output_type": "execute_result"
    }
   ],
   "source": [
    "math.ceil(dat1.shape[0] / window_len) * len(all_files) == len(buffer), len(buffer)"
   ]
  },
  {
   "cell_type": "code",
   "execution_count": 20,
   "id": "621584dc-19a8-48bd-9327-1aae717ba0c1",
   "metadata": {},
   "outputs": [],
   "source": [
    "# Checking if we are able to divide the total rows in our data exactly by the window size"
   ]
  },
  {
   "cell_type": "code",
   "execution_count": 21,
   "id": "4c771379-15ef-46dd-8341-a4b9ce384c55",
   "metadata": {},
   "outputs": [],
   "source": [
    "# std at 19771 and sit at 9479 is when they start in subject 1 data"
   ]
  },
  {
   "cell_type": "code",
   "execution_count": 22,
   "id": "230f17a9-a22e-4e09-bea6-a485bd83f741",
   "metadata": {},
   "outputs": [],
   "source": [
    "outlier_buffer = deque()\n",
    "reference = pd.DataFrame()\n",
    "reference_end = 3\n",
    "reference = pd.concat(list(itertools.islice(buffer, 0, reference_end))) # concat dataframes from start to end-1"
   ]
  },
  {
   "cell_type": "code",
   "execution_count": 23,
   "id": "404a08eb-11d4-46a1-8c9a-5f0bd82c12b0",
   "metadata": {},
   "outputs": [
    {
     "data": {
      "text/html": [
       "<div>\n",
       "<style scoped>\n",
       "    .dataframe tbody tr th:only-of-type {\n",
       "        vertical-align: middle;\n",
       "    }\n",
       "\n",
       "    .dataframe tbody tr th {\n",
       "        vertical-align: top;\n",
       "    }\n",
       "\n",
       "    .dataframe thead th {\n",
       "        text-align: right;\n",
       "    }\n",
       "</style>\n",
       "<table border=\"1\" class=\"dataframe\">\n",
       "  <thead>\n",
       "    <tr style=\"text-align: right;\">\n",
       "      <th></th>\n",
       "      <th>Unnamed: 0</th>\n",
       "      <th>Unnamed: 0.1</th>\n",
       "      <th>Unnamed: 0.1.1</th>\n",
       "      <th>Unnamed: 0.1.1.1</th>\n",
       "      <th>attitude.roll</th>\n",
       "      <th>attitude.pitch</th>\n",
       "      <th>attitude.yaw</th>\n",
       "      <th>gravity.x</th>\n",
       "      <th>gravity.y</th>\n",
       "      <th>gravity.z</th>\n",
       "      <th>rotationRate.x</th>\n",
       "      <th>rotationRate.y</th>\n",
       "      <th>rotationRate.z</th>\n",
       "      <th>userAcceleration.x</th>\n",
       "      <th>userAcceleration.y</th>\n",
       "      <th>userAcceleration.z</th>\n",
       "      <th>type</th>\n",
       "      <th>row_num</th>\n",
       "      <th>outlier</th>\n",
       "    </tr>\n",
       "  </thead>\n",
       "  <tbody>\n",
       "    <tr>\n",
       "      <th>0</th>\n",
       "      <td>0</td>\n",
       "      <td>0</td>\n",
       "      <td>0</td>\n",
       "      <td>0</td>\n",
       "      <td>1.172703</td>\n",
       "      <td>-1.217849</td>\n",
       "      <td>0.633634</td>\n",
       "      <td>0.318633</td>\n",
       "      <td>0.938358</td>\n",
       "      <td>-0.134000</td>\n",
       "      <td>-1.221689</td>\n",
       "      <td>0.095745</td>\n",
       "      <td>0.650700</td>\n",
       "      <td>0.597170</td>\n",
       "      <td>0.081509</td>\n",
       "      <td>-0.071948</td>\n",
       "      <td>dws</td>\n",
       "      <td>0</td>\n",
       "      <td>0</td>\n",
       "    </tr>\n",
       "    <tr>\n",
       "      <th>1</th>\n",
       "      <td>1</td>\n",
       "      <td>1</td>\n",
       "      <td>1</td>\n",
       "      <td>1</td>\n",
       "      <td>1.230989</td>\n",
       "      <td>-1.218272</td>\n",
       "      <td>0.702610</td>\n",
       "      <td>0.325523</td>\n",
       "      <td>0.938504</td>\n",
       "      <td>-0.115079</td>\n",
       "      <td>-0.724416</td>\n",
       "      <td>-0.825562</td>\n",
       "      <td>0.181063</td>\n",
       "      <td>0.140922</td>\n",
       "      <td>2.183841</td>\n",
       "      <td>-0.698596</td>\n",
       "      <td>dws</td>\n",
       "      <td>1</td>\n",
       "      <td>0</td>\n",
       "    </tr>\n",
       "    <tr>\n",
       "      <th>2</th>\n",
       "      <td>2</td>\n",
       "      <td>2</td>\n",
       "      <td>2</td>\n",
       "      <td>2</td>\n",
       "      <td>1.220374</td>\n",
       "      <td>-1.217347</td>\n",
       "      <td>0.695971</td>\n",
       "      <td>0.325099</td>\n",
       "      <td>0.938184</td>\n",
       "      <td>-0.118826</td>\n",
       "      <td>0.424864</td>\n",
       "      <td>0.286293</td>\n",
       "      <td>0.057343</td>\n",
       "      <td>0.091450</td>\n",
       "      <td>-0.118314</td>\n",
       "      <td>0.177435</td>\n",
       "      <td>dws</td>\n",
       "      <td>2</td>\n",
       "      <td>0</td>\n",
       "    </tr>\n",
       "    <tr>\n",
       "      <th>3</th>\n",
       "      <td>3</td>\n",
       "      <td>3</td>\n",
       "      <td>3</td>\n",
       "      <td>3</td>\n",
       "      <td>1.196626</td>\n",
       "      <td>-1.215197</td>\n",
       "      <td>0.674119</td>\n",
       "      <td>0.324063</td>\n",
       "      <td>0.937438</td>\n",
       "      <td>-0.127249</td>\n",
       "      <td>0.289479</td>\n",
       "      <td>-0.389842</td>\n",
       "      <td>-0.170267</td>\n",
       "      <td>-0.001020</td>\n",
       "      <td>0.076020</td>\n",
       "      <td>0.182624</td>\n",
       "      <td>dws</td>\n",
       "      <td>3</td>\n",
       "      <td>0</td>\n",
       "    </tr>\n",
       "    <tr>\n",
       "      <th>4</th>\n",
       "      <td>4</td>\n",
       "      <td>4</td>\n",
       "      <td>4</td>\n",
       "      <td>4</td>\n",
       "      <td>1.183103</td>\n",
       "      <td>-1.220570</td>\n",
       "      <td>0.669148</td>\n",
       "      <td>0.317645</td>\n",
       "      <td>0.939295</td>\n",
       "      <td>-0.129714</td>\n",
       "      <td>-0.193776</td>\n",
       "      <td>-0.518626</td>\n",
       "      <td>-0.312347</td>\n",
       "      <td>0.015118</td>\n",
       "      <td>-0.019785</td>\n",
       "      <td>0.194854</td>\n",
       "      <td>dws</td>\n",
       "      <td>4</td>\n",
       "      <td>0</td>\n",
       "    </tr>\n",
       "    <tr>\n",
       "      <th>...</th>\n",
       "      <td>...</td>\n",
       "      <td>...</td>\n",
       "      <td>...</td>\n",
       "      <td>...</td>\n",
       "      <td>...</td>\n",
       "      <td>...</td>\n",
       "      <td>...</td>\n",
       "      <td>...</td>\n",
       "      <td>...</td>\n",
       "      <td>...</td>\n",
       "      <td>...</td>\n",
       "      <td>...</td>\n",
       "      <td>...</td>\n",
       "      <td>...</td>\n",
       "      <td>...</td>\n",
       "      <td>...</td>\n",
       "      <td>...</td>\n",
       "      <td>...</td>\n",
       "      <td>...</td>\n",
       "    </tr>\n",
       "    <tr>\n",
       "      <th>2995</th>\n",
       "      <td>2995</td>\n",
       "      <td>2995</td>\n",
       "      <td>759</td>\n",
       "      <td>759</td>\n",
       "      <td>0.575103</td>\n",
       "      <td>-1.080960</td>\n",
       "      <td>0.040832</td>\n",
       "      <td>0.255905</td>\n",
       "      <td>0.882410</td>\n",
       "      <td>-0.394798</td>\n",
       "      <td>-1.236159</td>\n",
       "      <td>-1.000644</td>\n",
       "      <td>-0.801171</td>\n",
       "      <td>-1.700119</td>\n",
       "      <td>0.092459</td>\n",
       "      <td>1.011589</td>\n",
       "      <td>dws</td>\n",
       "      <td>2995</td>\n",
       "      <td>0</td>\n",
       "    </tr>\n",
       "    <tr>\n",
       "      <th>2996</th>\n",
       "      <td>2996</td>\n",
       "      <td>2996</td>\n",
       "      <td>760</td>\n",
       "      <td>760</td>\n",
       "      <td>0.497197</td>\n",
       "      <td>-1.075108</td>\n",
       "      <td>0.002675</td>\n",
       "      <td>0.226861</td>\n",
       "      <td>0.879642</td>\n",
       "      <td>-0.418048</td>\n",
       "      <td>1.222504</td>\n",
       "      <td>-1.723262</td>\n",
       "      <td>-0.445513</td>\n",
       "      <td>0.163031</td>\n",
       "      <td>-0.387912</td>\n",
       "      <td>0.543246</td>\n",
       "      <td>dws</td>\n",
       "      <td>2996</td>\n",
       "      <td>0</td>\n",
       "    </tr>\n",
       "    <tr>\n",
       "      <th>2997</th>\n",
       "      <td>2997</td>\n",
       "      <td>2997</td>\n",
       "      <td>761</td>\n",
       "      <td>761</td>\n",
       "      <td>0.485638</td>\n",
       "      <td>-1.072850</td>\n",
       "      <td>-0.004095</td>\n",
       "      <td>0.222941</td>\n",
       "      <td>0.878565</td>\n",
       "      <td>-0.422398</td>\n",
       "      <td>-0.745496</td>\n",
       "      <td>0.017073</td>\n",
       "      <td>0.009596</td>\n",
       "      <td>0.711355</td>\n",
       "      <td>0.090398</td>\n",
       "      <td>0.632999</td>\n",
       "      <td>dws</td>\n",
       "      <td>2997</td>\n",
       "      <td>0</td>\n",
       "    </tr>\n",
       "    <tr>\n",
       "      <th>2998</th>\n",
       "      <td>2998</td>\n",
       "      <td>2998</td>\n",
       "      <td>762</td>\n",
       "      <td>762</td>\n",
       "      <td>0.496527</td>\n",
       "      <td>-1.102632</td>\n",
       "      <td>0.012019</td>\n",
       "      <td>0.214963</td>\n",
       "      <td>0.892398</td>\n",
       "      <td>-0.396757</td>\n",
       "      <td>-1.595081</td>\n",
       "      <td>-0.344315</td>\n",
       "      <td>-0.520372</td>\n",
       "      <td>0.314654</td>\n",
       "      <td>0.753812</td>\n",
       "      <td>0.348081</td>\n",
       "      <td>dws</td>\n",
       "      <td>2998</td>\n",
       "      <td>0</td>\n",
       "    </tr>\n",
       "    <tr>\n",
       "      <th>2999</th>\n",
       "      <td>2999</td>\n",
       "      <td>2999</td>\n",
       "      <td>763</td>\n",
       "      <td>763</td>\n",
       "      <td>0.476467</td>\n",
       "      <td>-1.132345</td>\n",
       "      <td>0.022336</td>\n",
       "      <td>0.194711</td>\n",
       "      <td>0.905410</td>\n",
       "      <td>-0.377252</td>\n",
       "      <td>-1.419979</td>\n",
       "      <td>-2.088223</td>\n",
       "      <td>-0.393000</td>\n",
       "      <td>0.510383</td>\n",
       "      <td>0.759644</td>\n",
       "      <td>0.435922</td>\n",
       "      <td>dws</td>\n",
       "      <td>2999</td>\n",
       "      <td>0</td>\n",
       "    </tr>\n",
       "  </tbody>\n",
       "</table>\n",
       "<p>3000 rows × 19 columns</p>\n",
       "</div>"
      ],
      "text/plain": [
       "      Unnamed: 0  Unnamed: 0.1  Unnamed: 0.1.1  Unnamed: 0.1.1.1  \\\n",
       "0              0             0               0                 0   \n",
       "1              1             1               1                 1   \n",
       "2              2             2               2                 2   \n",
       "3              3             3               3                 3   \n",
       "4              4             4               4                 4   \n",
       "...          ...           ...             ...               ...   \n",
       "2995        2995          2995             759               759   \n",
       "2996        2996          2996             760               760   \n",
       "2997        2997          2997             761               761   \n",
       "2998        2998          2998             762               762   \n",
       "2999        2999          2999             763               763   \n",
       "\n",
       "      attitude.roll  attitude.pitch  attitude.yaw  gravity.x  gravity.y  \\\n",
       "0          1.172703       -1.217849      0.633634   0.318633   0.938358   \n",
       "1          1.230989       -1.218272      0.702610   0.325523   0.938504   \n",
       "2          1.220374       -1.217347      0.695971   0.325099   0.938184   \n",
       "3          1.196626       -1.215197      0.674119   0.324063   0.937438   \n",
       "4          1.183103       -1.220570      0.669148   0.317645   0.939295   \n",
       "...             ...             ...           ...        ...        ...   \n",
       "2995       0.575103       -1.080960      0.040832   0.255905   0.882410   \n",
       "2996       0.497197       -1.075108      0.002675   0.226861   0.879642   \n",
       "2997       0.485638       -1.072850     -0.004095   0.222941   0.878565   \n",
       "2998       0.496527       -1.102632      0.012019   0.214963   0.892398   \n",
       "2999       0.476467       -1.132345      0.022336   0.194711   0.905410   \n",
       "\n",
       "      gravity.z  rotationRate.x  rotationRate.y  rotationRate.z  \\\n",
       "0     -0.134000       -1.221689        0.095745        0.650700   \n",
       "1     -0.115079       -0.724416       -0.825562        0.181063   \n",
       "2     -0.118826        0.424864        0.286293        0.057343   \n",
       "3     -0.127249        0.289479       -0.389842       -0.170267   \n",
       "4     -0.129714       -0.193776       -0.518626       -0.312347   \n",
       "...         ...             ...             ...             ...   \n",
       "2995  -0.394798       -1.236159       -1.000644       -0.801171   \n",
       "2996  -0.418048        1.222504       -1.723262       -0.445513   \n",
       "2997  -0.422398       -0.745496        0.017073        0.009596   \n",
       "2998  -0.396757       -1.595081       -0.344315       -0.520372   \n",
       "2999  -0.377252       -1.419979       -2.088223       -0.393000   \n",
       "\n",
       "      userAcceleration.x  userAcceleration.y  userAcceleration.z type  \\\n",
       "0               0.597170            0.081509           -0.071948  dws   \n",
       "1               0.140922            2.183841           -0.698596  dws   \n",
       "2               0.091450           -0.118314            0.177435  dws   \n",
       "3              -0.001020            0.076020            0.182624  dws   \n",
       "4               0.015118           -0.019785            0.194854  dws   \n",
       "...                  ...                 ...                 ...  ...   \n",
       "2995           -1.700119            0.092459            1.011589  dws   \n",
       "2996            0.163031           -0.387912            0.543246  dws   \n",
       "2997            0.711355            0.090398            0.632999  dws   \n",
       "2998            0.314654            0.753812            0.348081  dws   \n",
       "2999            0.510383            0.759644            0.435922  dws   \n",
       "\n",
       "      row_num  outlier  \n",
       "0           0        0  \n",
       "1           1        0  \n",
       "2           2        0  \n",
       "3           3        0  \n",
       "4           4        0  \n",
       "...       ...      ...  \n",
       "2995     2995        0  \n",
       "2996     2996        0  \n",
       "2997     2997        0  \n",
       "2998     2998        0  \n",
       "2999     2999        0  \n",
       "\n",
       "[3000 rows x 19 columns]"
      ]
     },
     "execution_count": 23,
     "metadata": {},
     "output_type": "execute_result"
    }
   ],
   "source": [
    "reference"
   ]
  },
  {
   "cell_type": "code",
   "execution_count": 24,
   "id": "3007b6cb-c5ed-48d3-8583-9d4fd83d3bae",
   "metadata": {},
   "outputs": [],
   "source": [
    "change_reference = 1\n",
    "# 0 means don't change the reference on which the model was trained (static)\n",
    "# 1 means change it and make it equal to the previous chunk\n",
    "# 2 means grow the reference. So it has all the previous chunks. This may slow down the training but sometimes gives better performance"
   ]
  },
  {
   "cell_type": "code",
   "execution_count": 25,
   "id": "20aaec61-8bec-4998-b554-c5baccc0c72c",
   "metadata": {},
   "outputs": [],
   "source": [
    "accuracy_only_outliers, accuracy = [], []"
   ]
  },
  {
   "cell_type": "code",
   "execution_count": 26,
   "id": "5cab148b-280a-4f06-ad46-8fef394c2d90",
   "metadata": {},
   "outputs": [],
   "source": [
    "columns_to_use_numerical_all = [i for i in range(4, 16)] # Only use these columns to train\n",
    "columns_to_use_numerical_better = [5,7,8] # Using parsimonious columns gives better results. These 3 perform better than giving all the columns\n",
    "columns_to_use = columns_to_use_numerical_better # Using parsimonious columns to get better results"
   ]
  },
  {
   "cell_type": "code",
   "execution_count": 27,
   "id": "72d609ee-49d0-4b1f-b370-53d5e7d07c6d",
   "metadata": {},
   "outputs": [
    {
     "name": "stdout",
     "output_type": "stream",
     "text": [
      "**************************************************************\n",
      "Results for idx = 3 and rows from 3000 to 3999 is\n",
      "Accuracy is 0.991\n",
      "No outliers in this buffer chunk\n",
      "**************************************************************\n",
      "Results for idx = 4 and rows from 4000 to 4999 is\n",
      "Accuracy is 0.988\n",
      "No outliers in this buffer chunk\n",
      "**************************************************************\n",
      "Results for idx = 5 and rows from 5000 to 5999 is\n",
      "Accuracy is 0.865\n",
      "No outliers in this buffer chunk\n",
      "**************************************************************\n",
      "Results for idx = 6 and rows from 6000 to 6999 is\n",
      "Accuracy is 0.987\n",
      "No outliers in this buffer chunk\n",
      "**************************************************************\n",
      "Results for idx = 7 and rows from 7000 to 7999 is\n",
      "Accuracy is 0.853\n",
      "No outliers in this buffer chunk\n",
      "**************************************************************\n",
      "Results for idx = 8 and rows from 8000 to 8999 is\n",
      "Accuracy is 0.951\n",
      "No outliers in this buffer chunk\n",
      "**************************************************************\n",
      "Results for idx = 9 and rows from 9000 to 9999 is\n",
      "Accuracy is 0.962\n",
      "No outliers in this buffer chunk\n",
      "**************************************************************\n",
      "Results for idx = 10 and rows from 10000 to 10999 is\n",
      "Accuracy is 0.904\n",
      "Outlier accuracy is 0.9961089494163424\n",
      "**************************************************************\n",
      "Results for idx = 11 and rows from 11000 to 11999 is\n",
      "Accuracy is 0.903\n",
      "No outliers in this buffer chunk\n",
      "**************************************************************\n",
      "Results for idx = 12 and rows from 12000 to 12999 is\n",
      "Accuracy is 0.912\n",
      "No outliers in this buffer chunk\n",
      "**************************************************************\n",
      "Results for idx = 13 and rows from 13000 to 13999 is\n",
      "Accuracy is 0.941\n",
      "No outliers in this buffer chunk\n",
      "**************************************************************\n",
      "Results for idx = 14 and rows from 14000 to 14999 is\n",
      "Accuracy is 0.709\n",
      "No outliers in this buffer chunk\n",
      "**************************************************************\n",
      "Results for idx = 15 and rows from 15000 to 15999 is\n",
      "Accuracy is 0.771\n",
      "No outliers in this buffer chunk\n",
      "**************************************************************\n",
      "Results for idx = 16 and rows from 16000 to 16999 is\n",
      "Accuracy is 0.553\n",
      "No outliers in this buffer chunk\n",
      "**************************************************************\n",
      "Results for idx = 17 and rows from 17000 to 17999 is\n",
      "Accuracy is 0.799\n",
      "No outliers in this buffer chunk\n",
      "**************************************************************\n",
      "Results for idx = 18 and rows from 18000 to 18999 is\n",
      "Accuracy is 0.929\n",
      "No outliers in this buffer chunk\n",
      "**************************************************************\n",
      "Results for idx = 19 and rows from 19000 to 19999 is\n",
      "Accuracy is 0.888\n",
      "No outliers in this buffer chunk\n",
      "**************************************************************\n",
      "Results for idx = 20 and rows from 20000 to 20999 is\n",
      "Accuracy is 0.816\n",
      "No outliers in this buffer chunk\n",
      "**************************************************************\n",
      "Results for idx = 21 and rows from 21000 to 21999 is\n",
      "Accuracy is 0.741\n",
      "No outliers in this buffer chunk\n",
      "**************************************************************\n",
      "Results for idx = 22 and rows from 22000 to 22999 is\n",
      "Accuracy is 0.787\n",
      "No outliers in this buffer chunk\n",
      "**************************************************************\n",
      "Results for idx = 23 and rows from 23000 to 23999 is\n",
      "Accuracy is 0.88\n",
      "No outliers in this buffer chunk\n",
      "**************************************************************\n",
      "Results for idx = 24 and rows from 24000 to 24999 is\n",
      "Accuracy is 0.762\n",
      "No outliers in this buffer chunk\n",
      "**************************************************************\n",
      "Results for idx = 25 and rows from 25000 to 25999 is\n",
      "Accuracy is 0.99\n",
      "No outliers in this buffer chunk\n",
      "**************************************************************\n",
      "Results for idx = 26 and rows from 26000 to 26999 is\n",
      "Accuracy is 0.655\n",
      "No outliers in this buffer chunk\n",
      "**************************************************************\n",
      "Results for idx = 27 and rows from 27000 to 27999 is\n",
      "Accuracy is 0.723\n",
      "No outliers in this buffer chunk\n",
      "**************************************************************\n",
      "Results for idx = 28 and rows from 28000 to 28999 is\n",
      "Accuracy is 0.913\n",
      "Outlier accuracy is 0.6266666666666667\n",
      "**************************************************************\n",
      "Results for idx = 29 and rows from 29000 to 29999 is\n",
      "Accuracy is 0.966\n",
      "No outliers in this buffer chunk\n",
      "**************************************************************\n",
      "Results for idx = 30 and rows from 30000 to 30999 is\n",
      "Accuracy is 0.834\n",
      "No outliers in this buffer chunk\n",
      "**************************************************************\n",
      "Results for idx = 31 and rows from 31000 to 31999 is\n",
      "Accuracy is 0.715\n",
      "No outliers in this buffer chunk\n",
      "**************************************************************\n",
      "Results for idx = 32 and rows from 32000 to 32999 is\n",
      "Accuracy is 0.79\n",
      "No outliers in this buffer chunk\n",
      "**************************************************************\n",
      "Results for idx = 33 and rows from 33000 to 33231 is\n",
      "Accuracy is 0.9913793103448276\n",
      "No outliers in this buffer chunk\n"
     ]
    }
   ],
   "source": [
    "start = time.time()\n",
    "for i in range(len(buffer)):\n",
    "    if i < reference_end:\n",
    "        continue # Start predicting when we are not in the reference\n",
    "    lof_novelty = LocalOutlierFactor(n_neighbors=10, novelty=True).fit(reference.iloc[:, columns_to_use]) # Train on reference\n",
    "    prediction_novelty = lof_novelty.predict(buffer[i].iloc[:, columns_to_use]) # Predict for the next chunk\n",
    "    # Change the anomalies' values to make it consistent with the true values\n",
    "    prediction_novelty = [1 if i==-1 else 0 for i in prediction_novelty] # Change -1 to 1 and 1 to 0\n",
    "    \n",
    "    ones_zeroes_series = pd.Series(prediction_novelty) # convert this 1 and 0 array to pd.Series to later convert to a dataframe\n",
    "    series_value_counts = pd.Series(prediction_novelty).value_counts(dropna = False) # Get value counts of 0s and 1s\n",
    "    series_total = series_value_counts.sum() # Basically, total (0s + 1s)\n",
    "    buffer[i]['pred'] = ones_zeroes_series.values # Prediction column\n",
    "    buffer[i]['matched'] = np.where(buffer[i]['outlier'] == buffer[i]['pred'], 1, 0) # Matched to the label or not. 1 denotes successfull match and 0 denotes mismatch\n",
    "    \n",
    "    # Check the model performance. Commented out to get clean output\n",
    "    \n",
    "    # print(\"**************************************************************\")\n",
    "    # print(f\"Results for idx = {i} and rows from {buffer[i].index.min()} to {buffer[i].index.max()} is\")\n",
    "    # print(series_value_counts)\n",
    "    # print(f'Performance for idx = {i} and rows from {buffer[i].index.min()} to {buffer[i].index.max()} is')\n",
    "    # print(buffer[i]['matched'].value_counts(dropna = False))\n",
    "    # print(\"**************************************************************\")\n",
    "    # print(f'Ground truth for idx = {i} and rows from {buffer[i].index.min()} to {buffer[i].index.max()} is')\n",
    "    # print(buffer[i]['outlier'].value_counts(dropna = False))\n",
    "    # display(buffer[i])\n",
    "    # print(buffer[i].matched.value_counts(dropna = False))\n",
    "    # print(buffer[i].pred.value_counts(dropna = False))\n",
    "    \n",
    "    print(\"**************************************************************\")\n",
    "    print(f\"Results for idx = {i} and rows from {buffer[i].index.min()} to {buffer[i].index.max()} is\")\n",
    "    \n",
    "    acc = sum(buffer[i]['matched'])/len(buffer[i]['matched']) # Accuracy is matched == 1 / total\n",
    "    print('Accuracy is ' + str(acc))\n",
    "    accuracy.append(acc)\n",
    "    \n",
    "    # Check if the chunk had outlier to get outlier detection accuracy and append it to the accuracy_only_outliers else append -1\n",
    "    if len(buffer[i][buffer[i]['outlier'] == 1]) > 0:\n",
    "        acc_only_outliers = sum(buffer[i][(buffer[i]['matched'] == 1) & (buffer[i]['outlier'] == 1)]['matched']) / len(buffer[i][buffer[i]['outlier'] == 1])\n",
    "        print('Outlier accuracy is ' + str(acc_only_outliers))\n",
    "        accuracy_only_outliers.append(acc_only_outliers)\n",
    "    else:\n",
    "        print(\"No outliers in this buffer chunk\")\n",
    "        accuracy_only_outliers.append(-1)\n",
    "        \n",
    "    if change_reference == 1:\n",
    "        reference = buffer[i]\n",
    "    elif change_reference == 2:\n",
    "        reference = pd.concat([reference, buffer[i]])\n",
    "    elif change_reference == 0:\n",
    "        pass\n",
    "    else:\n",
    "        raise(\"Unimplemented error for change_reference flag meaning\")\n",
    "        \n",
    "\n",
    "end = time.time()\n",
    "total_time = end - start"
   ]
  },
  {
   "cell_type": "code",
   "execution_count": 28,
   "id": "be468559-14e2-45f7-83cf-75cb8333278b",
   "metadata": {},
   "outputs": [
    {
     "data": {
      "text/plain": [
       "0.8538509454949944"
      ]
     },
     "execution_count": 28,
     "metadata": {},
     "output_type": "execute_result"
    }
   ],
   "source": [
    "np.mean(accuracy)"
   ]
  },
  {
   "cell_type": "code",
   "execution_count": 29,
   "id": "48868544-0df1-4beb-9d76-4dead59d8184",
   "metadata": {},
   "outputs": [
    {
     "data": {
      "text/plain": [
       "0.8113878080415046"
      ]
     },
     "execution_count": 29,
     "metadata": {},
     "output_type": "execute_result"
    }
   ],
   "source": [
    "np.mean([i for i in accuracy_only_outliers if i != -1]) # Accuracy of only outliers"
   ]
  },
  {
   "cell_type": "code",
   "execution_count": 30,
   "id": "4a9a8c50",
   "metadata": {},
   "outputs": [
    {
     "name": "stdout",
     "output_type": "stream",
     "text": [
      "Total time taken is 0.4248628616333008 seconds\n"
     ]
    }
   ],
   "source": [
    "print(f\"Total time taken is {total_time} seconds\")"
   ]
  },
  {
   "cell_type": "code",
   "execution_count": 31,
   "id": "4ecc29d8",
   "metadata": {},
   "outputs": [],
   "source": [
    "truth = []\n",
    "prediction = []\n",
    "for i in range(reference_end,len(buffer)):\n",
    "    truth += list(buffer[i].outlier)\n",
    "    prediction += list(buffer[i].pred)"
   ]
  },
  {
   "cell_type": "code",
   "execution_count": 32,
   "id": "ffc9413f-7649-401d-8992-5a38a0a95cc4",
   "metadata": {},
   "outputs": [
    {
     "name": "stdout",
     "output_type": "stream",
     "text": [
      "       0     1\n",
      "0  25405  4495\n",
      "1     29   303\n"
     ]
    }
   ],
   "source": [
    "print(pd.DataFrame(confusion_matrix(truth,prediction)))"
   ]
  },
  {
   "cell_type": "code",
   "execution_count": 33,
   "id": "59024156",
   "metadata": {},
   "outputs": [
    {
     "name": "stdout",
     "output_type": "stream",
     "text": [
      "F1 Score is 0.11813\n"
     ]
    }
   ],
   "source": [
    "print('F1 Score is {:.5}'.format(f1_score(truth,prediction)))"
   ]
  },
  {
   "cell_type": "code",
   "execution_count": 34,
   "id": "9ad5c759",
   "metadata": {},
   "outputs": [
    {
     "name": "stdout",
     "output_type": "stream",
     "text": [
      "Recall is 0.91265\n"
     ]
    }
   ],
   "source": [
    "print('Recall is {:.5}'.format(recall_score(truth,prediction)))"
   ]
  },
  {
   "cell_type": "code",
   "execution_count": 35,
   "id": "ab70b2cc",
   "metadata": {},
   "outputs": [
    {
     "name": "stdout",
     "output_type": "stream",
     "text": [
      "Precision is 0.063151\n"
     ]
    }
   ],
   "source": [
    "print('Precision is {:.5}'.format(precision_score(truth,prediction)))"
   ]
  },
  {
   "cell_type": "code",
   "execution_count": null,
   "id": "8ca59a00-e7b9-4607-bf9a-b87732451dc6",
   "metadata": {},
   "outputs": [],
   "source": []
  },
  {
   "cell_type": "code",
   "execution_count": null,
   "id": "5198de92-0629-4b17-a52d-a512281d0dbb",
   "metadata": {},
   "outputs": [],
   "source": []
  },
  {
   "cell_type": "code",
   "execution_count": null,
   "id": "d19f1d1d-49f6-496a-8ec1-6352c14c0909",
   "metadata": {},
   "outputs": [],
   "source": []
  }
 ],
 "metadata": {
  "kernelspec": {
   "display_name": "Python 3 (ipykernel)",
   "language": "python",
   "name": "python3"
  },
  "language_info": {
   "codemirror_mode": {
    "name": "ipython",
    "version": 3
   },
   "file_extension": ".py",
   "mimetype": "text/x-python",
   "name": "python",
   "nbconvert_exporter": "python",
   "pygments_lexer": "ipython3",
   "version": "3.9.7"
  }
 },
 "nbformat": 4,
 "nbformat_minor": 5
}
