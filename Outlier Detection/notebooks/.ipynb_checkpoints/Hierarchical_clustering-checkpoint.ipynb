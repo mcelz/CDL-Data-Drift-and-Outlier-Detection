{
 "cells": [
  {
   "cell_type": "code",
   "execution_count": 1,
   "id": "281aa66f-55ea-4b7f-895a-9216f0df15ad",
   "metadata": {},
   "outputs": [],
   "source": [
    "from sklearn.decomposition import PCA\n",
    "from sklearn.decomposition import KernelPCA\n",
    "from sklearn.manifold import TSNE\n",
    "from scipy.cluster.hierarchy import dendrogram, linkage\n",
    "from sklearn.neighbors import kneighbors_graph"
   ]
  },
  {
   "cell_type": "code",
   "execution_count": 2,
   "id": "a433c5b0-c87b-44d1-9f82-34c4c4d450a9",
   "metadata": {},
   "outputs": [
    {
     "name": "stderr",
     "output_type": "stream",
     "text": [
      "2023-06-07 09:32:39.212154: I tensorflow/core/util/port.cc:110] oneDNN custom operations are on. You may see slightly different numerical results due to floating-point round-off errors from different computation orders. To turn them off, set the environment variable `TF_ENABLE_ONEDNN_OPTS=0`.\n",
      "2023-06-07 09:32:39.280593: I tensorflow/core/platform/cpu_feature_guard.cc:182] This TensorFlow binary is optimized to use available CPU instructions in performance-critical operations.\n",
      "To enable the following instructions: AVX2 AVX512F AVX512_VNNI FMA, in other operations, rebuild TensorFlow with the appropriate compiler flags.\n",
      "2023-06-07 09:32:41.044150: W tensorflow/compiler/tf2tensorrt/utils/py_utils.cc:38] TF-TRT Warning: Could not find TensorRT\n"
     ]
    }
   ],
   "source": [
    "from umap import UMAP"
   ]
  },
  {
   "cell_type": "code",
   "execution_count": 2,
   "id": "f0299c47-d633-4433-9489-30fc6388a670",
   "metadata": {},
   "outputs": [],
   "source": [
    "import numpy as np\n",
    "import pandas as pd \n",
    "import matplotlib.pyplot as plt\n",
    "from sklearn import datasets\n",
    "from matplotlib.ticker import MaxNLocator\n",
    "import seaborn as sns"
   ]
  },
  {
   "cell_type": "code",
   "execution_count": 3,
   "id": "e43b3eab-bd76-4a87-818d-611896d0008e",
   "metadata": {},
   "outputs": [],
   "source": [
    "# import tensorflow\n",
    "from scipy.stats import entropy\n",
    "from scipy.special import rel_entr\n",
    "from numpy.random import seed\n",
    "from numpy.random import normal\n",
    "from sklearn.cluster import AgglomerativeClustering"
   ]
  },
  {
   "cell_type": "code",
   "execution_count": 4,
   "id": "496d591b",
   "metadata": {},
   "outputs": [],
   "source": [
    "datao = pd.read_csv('../datasets/revised_sub20_data_Ishu_modification.csv')"
   ]
  },
  {
   "cell_type": "code",
   "execution_count": 5,
   "id": "47d7d69b",
   "metadata": {},
   "outputs": [
    {
     "data": {
      "text/plain": [
       "(33232, 19)"
      ]
     },
     "execution_count": 5,
     "metadata": {},
     "output_type": "execute_result"
    }
   ],
   "source": [
    "datao.shape"
   ]
  },
  {
   "cell_type": "code",
   "execution_count": 6,
   "id": "4075a4fb-4906-48da-9d7a-358eb02a760f",
   "metadata": {},
   "outputs": [
    {
     "data": {
      "text/plain": [
       "0    32900\n",
       "1      332\n",
       "Name: outlier, dtype: int64"
      ]
     },
     "execution_count": 6,
     "metadata": {},
     "output_type": "execute_result"
    }
   ],
   "source": [
    "datao.outlier.value_counts()"
   ]
  },
  {
   "cell_type": "code",
   "execution_count": 7,
   "id": "d8b252b4",
   "metadata": {},
   "outputs": [],
   "source": [
    "datao = datao.iloc[:, 4:]"
   ]
  },
  {
   "cell_type": "code",
   "execution_count": 8,
   "id": "6885e1e5-12ab-476d-98ee-377da37af96d",
   "metadata": {},
   "outputs": [],
   "source": [
    "def normalize_between_a_b(col, a = -1, b = 1):\n",
    "    min_val = np.min(col)\n",
    "    max_val = np.max(col)\n",
    "    new_col = col.map(lambda x: ((b-a) * (x - min_val)/(max_val - min_val)) + a)\n",
    "    return new_col"
   ]
  },
  {
   "cell_type": "code",
   "execution_count": 9,
   "id": "501abbd9-0d88-4495-815e-6ec6dd10e6ba",
   "metadata": {},
   "outputs": [],
   "source": [
    "cols_to_update = list(datao.columns[:12])"
   ]
  },
  {
   "cell_type": "code",
   "execution_count": 10,
   "id": "c493e966-b9f6-4a48-aeb9-fd7ea7187e34",
   "metadata": {},
   "outputs": [
    {
     "data": {
      "text/plain": [
       "['attitude.roll',\n",
       " 'attitude.pitch',\n",
       " 'attitude.yaw',\n",
       " 'gravity.x',\n",
       " 'gravity.y',\n",
       " 'gravity.z',\n",
       " 'rotationRate.x',\n",
       " 'rotationRate.y',\n",
       " 'rotationRate.z',\n",
       " 'userAcceleration.x',\n",
       " 'userAcceleration.y',\n",
       " 'userAcceleration.z']"
      ]
     },
     "execution_count": 10,
     "metadata": {},
     "output_type": "execute_result"
    }
   ],
   "source": [
    "cols_to_update"
   ]
  },
  {
   "cell_type": "code",
   "execution_count": 11,
   "id": "eb8e7c59-884b-4145-94eb-ff5b4c8e0aed",
   "metadata": {},
   "outputs": [
    {
     "data": {
      "text/html": [
       "<div>\n",
       "<style scoped>\n",
       "    .dataframe tbody tr th:only-of-type {\n",
       "        vertical-align: middle;\n",
       "    }\n",
       "\n",
       "    .dataframe tbody tr th {\n",
       "        vertical-align: top;\n",
       "    }\n",
       "\n",
       "    .dataframe thead th {\n",
       "        text-align: right;\n",
       "    }\n",
       "</style>\n",
       "<table border=\"1\" class=\"dataframe\">\n",
       "  <thead>\n",
       "    <tr style=\"text-align: right;\">\n",
       "      <th></th>\n",
       "      <th>attitude.roll</th>\n",
       "      <th>attitude.pitch</th>\n",
       "      <th>attitude.yaw</th>\n",
       "      <th>gravity.x</th>\n",
       "      <th>gravity.y</th>\n",
       "      <th>gravity.z</th>\n",
       "      <th>rotationRate.x</th>\n",
       "      <th>rotationRate.y</th>\n",
       "      <th>rotationRate.z</th>\n",
       "      <th>userAcceleration.x</th>\n",
       "      <th>userAcceleration.y</th>\n",
       "      <th>userAcceleration.z</th>\n",
       "      <th>type</th>\n",
       "      <th>row_num</th>\n",
       "      <th>outlier</th>\n",
       "    </tr>\n",
       "  </thead>\n",
       "  <tbody>\n",
       "    <tr>\n",
       "      <th>0</th>\n",
       "      <td>1.172703</td>\n",
       "      <td>-1.217849</td>\n",
       "      <td>0.633634</td>\n",
       "      <td>0.318633</td>\n",
       "      <td>0.938358</td>\n",
       "      <td>-0.134000</td>\n",
       "      <td>-1.221689</td>\n",
       "      <td>0.095745</td>\n",
       "      <td>0.650700</td>\n",
       "      <td>0.597170</td>\n",
       "      <td>0.081509</td>\n",
       "      <td>-0.071948</td>\n",
       "      <td>dws</td>\n",
       "      <td>0</td>\n",
       "      <td>0</td>\n",
       "    </tr>\n",
       "    <tr>\n",
       "      <th>1</th>\n",
       "      <td>1.230989</td>\n",
       "      <td>-1.218272</td>\n",
       "      <td>0.702610</td>\n",
       "      <td>0.325523</td>\n",
       "      <td>0.938504</td>\n",
       "      <td>-0.115079</td>\n",
       "      <td>-0.724416</td>\n",
       "      <td>-0.825562</td>\n",
       "      <td>0.181063</td>\n",
       "      <td>0.140922</td>\n",
       "      <td>2.183841</td>\n",
       "      <td>-0.698596</td>\n",
       "      <td>dws</td>\n",
       "      <td>1</td>\n",
       "      <td>0</td>\n",
       "    </tr>\n",
       "    <tr>\n",
       "      <th>2</th>\n",
       "      <td>1.220374</td>\n",
       "      <td>-1.217347</td>\n",
       "      <td>0.695971</td>\n",
       "      <td>0.325099</td>\n",
       "      <td>0.938184</td>\n",
       "      <td>-0.118826</td>\n",
       "      <td>0.424864</td>\n",
       "      <td>0.286293</td>\n",
       "      <td>0.057343</td>\n",
       "      <td>0.091450</td>\n",
       "      <td>-0.118314</td>\n",
       "      <td>0.177435</td>\n",
       "      <td>dws</td>\n",
       "      <td>2</td>\n",
       "      <td>0</td>\n",
       "    </tr>\n",
       "    <tr>\n",
       "      <th>3</th>\n",
       "      <td>1.196626</td>\n",
       "      <td>-1.215197</td>\n",
       "      <td>0.674119</td>\n",
       "      <td>0.324063</td>\n",
       "      <td>0.937438</td>\n",
       "      <td>-0.127249</td>\n",
       "      <td>0.289479</td>\n",
       "      <td>-0.389842</td>\n",
       "      <td>-0.170267</td>\n",
       "      <td>-0.001020</td>\n",
       "      <td>0.076020</td>\n",
       "      <td>0.182624</td>\n",
       "      <td>dws</td>\n",
       "      <td>3</td>\n",
       "      <td>0</td>\n",
       "    </tr>\n",
       "    <tr>\n",
       "      <th>4</th>\n",
       "      <td>1.183103</td>\n",
       "      <td>-1.220570</td>\n",
       "      <td>0.669148</td>\n",
       "      <td>0.317645</td>\n",
       "      <td>0.939295</td>\n",
       "      <td>-0.129714</td>\n",
       "      <td>-0.193776</td>\n",
       "      <td>-0.518626</td>\n",
       "      <td>-0.312347</td>\n",
       "      <td>0.015118</td>\n",
       "      <td>-0.019785</td>\n",
       "      <td>0.194854</td>\n",
       "      <td>dws</td>\n",
       "      <td>4</td>\n",
       "      <td>0</td>\n",
       "    </tr>\n",
       "  </tbody>\n",
       "</table>\n",
       "</div>"
      ],
      "text/plain": [
       "   attitude.roll  attitude.pitch  attitude.yaw  gravity.x  gravity.y  \\\n",
       "0       1.172703       -1.217849      0.633634   0.318633   0.938358   \n",
       "1       1.230989       -1.218272      0.702610   0.325523   0.938504   \n",
       "2       1.220374       -1.217347      0.695971   0.325099   0.938184   \n",
       "3       1.196626       -1.215197      0.674119   0.324063   0.937438   \n",
       "4       1.183103       -1.220570      0.669148   0.317645   0.939295   \n",
       "\n",
       "   gravity.z  rotationRate.x  rotationRate.y  rotationRate.z  \\\n",
       "0  -0.134000       -1.221689        0.095745        0.650700   \n",
       "1  -0.115079       -0.724416       -0.825562        0.181063   \n",
       "2  -0.118826        0.424864        0.286293        0.057343   \n",
       "3  -0.127249        0.289479       -0.389842       -0.170267   \n",
       "4  -0.129714       -0.193776       -0.518626       -0.312347   \n",
       "\n",
       "   userAcceleration.x  userAcceleration.y  userAcceleration.z type  row_num  \\\n",
       "0            0.597170            0.081509           -0.071948  dws        0   \n",
       "1            0.140922            2.183841           -0.698596  dws        1   \n",
       "2            0.091450           -0.118314            0.177435  dws        2   \n",
       "3           -0.001020            0.076020            0.182624  dws        3   \n",
       "4            0.015118           -0.019785            0.194854  dws        4   \n",
       "\n",
       "   outlier  \n",
       "0        0  \n",
       "1        0  \n",
       "2        0  \n",
       "3        0  \n",
       "4        0  "
      ]
     },
     "execution_count": 11,
     "metadata": {},
     "output_type": "execute_result"
    }
   ],
   "source": [
    "datao.head()"
   ]
  },
  {
   "cell_type": "code",
   "execution_count": 12,
   "id": "f7a4bb98-8cde-409c-a983-68410cda94b1",
   "metadata": {},
   "outputs": [],
   "source": [
    "for col in cols_to_update:\n",
    "    datao[col] = normalize_between_a_b(datao[col])"
   ]
  },
  {
   "cell_type": "code",
   "execution_count": 13,
   "id": "ed8959e4-1114-4cb9-b27c-94f7e2a8f860",
   "metadata": {},
   "outputs": [
    {
     "data": {
      "text/html": [
       "<div>\n",
       "<style scoped>\n",
       "    .dataframe tbody tr th:only-of-type {\n",
       "        vertical-align: middle;\n",
       "    }\n",
       "\n",
       "    .dataframe tbody tr th {\n",
       "        vertical-align: top;\n",
       "    }\n",
       "\n",
       "    .dataframe thead th {\n",
       "        text-align: right;\n",
       "    }\n",
       "</style>\n",
       "<table border=\"1\" class=\"dataframe\">\n",
       "  <thead>\n",
       "    <tr style=\"text-align: right;\">\n",
       "      <th></th>\n",
       "      <th>attitude.roll</th>\n",
       "      <th>attitude.pitch</th>\n",
       "      <th>attitude.yaw</th>\n",
       "      <th>gravity.x</th>\n",
       "      <th>gravity.y</th>\n",
       "      <th>gravity.z</th>\n",
       "      <th>rotationRate.x</th>\n",
       "      <th>rotationRate.y</th>\n",
       "      <th>rotationRate.z</th>\n",
       "      <th>userAcceleration.x</th>\n",
       "      <th>userAcceleration.y</th>\n",
       "      <th>userAcceleration.z</th>\n",
       "      <th>type</th>\n",
       "      <th>row_num</th>\n",
       "      <th>outlier</th>\n",
       "    </tr>\n",
       "  </thead>\n",
       "  <tbody>\n",
       "    <tr>\n",
       "      <th>0</th>\n",
       "      <td>0.373285</td>\n",
       "      <td>-0.474464</td>\n",
       "      <td>0.201808</td>\n",
       "      <td>0.065526</td>\n",
       "      <td>0.839291</td>\n",
       "      <td>0.023280</td>\n",
       "      <td>-0.211991</td>\n",
       "      <td>0.164801</td>\n",
       "      <td>0.217720</td>\n",
       "      <td>0.079346</td>\n",
       "      <td>-0.327072</td>\n",
       "      <td>0.100466</td>\n",
       "      <td>dws</td>\n",
       "      <td>0</td>\n",
       "      <td>0</td>\n",
       "    </tr>\n",
       "    <tr>\n",
       "      <th>1</th>\n",
       "      <td>0.391838</td>\n",
       "      <td>-0.475099</td>\n",
       "      <td>0.223767</td>\n",
       "      <td>0.077177</td>\n",
       "      <td>0.839671</td>\n",
       "      <td>0.051275</td>\n",
       "      <td>-0.112647</td>\n",
       "      <td>0.086734</td>\n",
       "      <td>0.137153</td>\n",
       "      <td>-0.069276</td>\n",
       "      <td>0.198770</td>\n",
       "      <td>-0.035517</td>\n",
       "      <td>dws</td>\n",
       "      <td>1</td>\n",
       "      <td>0</td>\n",
       "    </tr>\n",
       "    <tr>\n",
       "      <th>2</th>\n",
       "      <td>0.388459</td>\n",
       "      <td>-0.473711</td>\n",
       "      <td>0.221654</td>\n",
       "      <td>0.076460</td>\n",
       "      <td>0.838837</td>\n",
       "      <td>0.045731</td>\n",
       "      <td>0.116955</td>\n",
       "      <td>0.180947</td>\n",
       "      <td>0.115928</td>\n",
       "      <td>-0.085392</td>\n",
       "      <td>-0.377053</td>\n",
       "      <td>0.154583</td>\n",
       "      <td>dws</td>\n",
       "      <td>2</td>\n",
       "      <td>0</td>\n",
       "    </tr>\n",
       "    <tr>\n",
       "      <th>3</th>\n",
       "      <td>0.380900</td>\n",
       "      <td>-0.470485</td>\n",
       "      <td>0.214697</td>\n",
       "      <td>0.074708</td>\n",
       "      <td>0.836892</td>\n",
       "      <td>0.033269</td>\n",
       "      <td>0.089908</td>\n",
       "      <td>0.123655</td>\n",
       "      <td>0.076881</td>\n",
       "      <td>-0.115514</td>\n",
       "      <td>-0.328445</td>\n",
       "      <td>0.155709</td>\n",
       "      <td>dws</td>\n",
       "      <td>3</td>\n",
       "      <td>0</td>\n",
       "    </tr>\n",
       "    <tr>\n",
       "      <th>4</th>\n",
       "      <td>0.376595</td>\n",
       "      <td>-0.478547</td>\n",
       "      <td>0.213114</td>\n",
       "      <td>0.063856</td>\n",
       "      <td>0.841734</td>\n",
       "      <td>0.029621</td>\n",
       "      <td>-0.006636</td>\n",
       "      <td>0.112743</td>\n",
       "      <td>0.052507</td>\n",
       "      <td>-0.110257</td>\n",
       "      <td>-0.352408</td>\n",
       "      <td>0.158363</td>\n",
       "      <td>dws</td>\n",
       "      <td>4</td>\n",
       "      <td>0</td>\n",
       "    </tr>\n",
       "  </tbody>\n",
       "</table>\n",
       "</div>"
      ],
      "text/plain": [
       "   attitude.roll  attitude.pitch  attitude.yaw  gravity.x  gravity.y  \\\n",
       "0       0.373285       -0.474464      0.201808   0.065526   0.839291   \n",
       "1       0.391838       -0.475099      0.223767   0.077177   0.839671   \n",
       "2       0.388459       -0.473711      0.221654   0.076460   0.838837   \n",
       "3       0.380900       -0.470485      0.214697   0.074708   0.836892   \n",
       "4       0.376595       -0.478547      0.213114   0.063856   0.841734   \n",
       "\n",
       "   gravity.z  rotationRate.x  rotationRate.y  rotationRate.z  \\\n",
       "0   0.023280       -0.211991        0.164801        0.217720   \n",
       "1   0.051275       -0.112647        0.086734        0.137153   \n",
       "2   0.045731        0.116955        0.180947        0.115928   \n",
       "3   0.033269        0.089908        0.123655        0.076881   \n",
       "4   0.029621       -0.006636        0.112743        0.052507   \n",
       "\n",
       "   userAcceleration.x  userAcceleration.y  userAcceleration.z type  row_num  \\\n",
       "0            0.079346           -0.327072            0.100466  dws        0   \n",
       "1           -0.069276            0.198770           -0.035517  dws        1   \n",
       "2           -0.085392           -0.377053            0.154583  dws        2   \n",
       "3           -0.115514           -0.328445            0.155709  dws        3   \n",
       "4           -0.110257           -0.352408            0.158363  dws        4   \n",
       "\n",
       "   outlier  \n",
       "0        0  \n",
       "1        0  \n",
       "2        0  \n",
       "3        0  \n",
       "4        0  "
      ]
     },
     "execution_count": 13,
     "metadata": {},
     "output_type": "execute_result"
    }
   ],
   "source": [
    "datao.head()"
   ]
  },
  {
   "cell_type": "code",
   "execution_count": 14,
   "id": "947b2fce-1c9b-4d74-ae6e-76ee94240b66",
   "metadata": {},
   "outputs": [],
   "source": [
    "data = datao.iloc[:, :12]"
   ]
  },
  {
   "cell_type": "markdown",
   "id": "541199c5-af75-40ac-82e4-5b214a45a6c2",
   "metadata": {},
   "source": [
    "# Hierarchical Clustering"
   ]
  },
  {
   "cell_type": "markdown",
   "id": "4df9d0c4-a009-452b-b7f3-479401382f1e",
   "metadata": {},
   "source": [
    "## Making categories"
   ]
  },
  {
   "cell_type": "code",
   "execution_count": 15,
   "id": "7b36ec10-30da-4137-b6c6-379afefdf63f",
   "metadata": {},
   "outputs": [
    {
     "data": {
      "text/html": [
       "<div>\n",
       "<style scoped>\n",
       "    .dataframe tbody tr th:only-of-type {\n",
       "        vertical-align: middle;\n",
       "    }\n",
       "\n",
       "    .dataframe tbody tr th {\n",
       "        vertical-align: top;\n",
       "    }\n",
       "\n",
       "    .dataframe thead th {\n",
       "        text-align: right;\n",
       "    }\n",
       "</style>\n",
       "<table border=\"1\" class=\"dataframe\">\n",
       "  <thead>\n",
       "    <tr style=\"text-align: right;\">\n",
       "      <th></th>\n",
       "      <th>attitude.roll</th>\n",
       "      <th>attitude.pitch</th>\n",
       "      <th>attitude.yaw</th>\n",
       "      <th>gravity.x</th>\n",
       "      <th>gravity.y</th>\n",
       "      <th>gravity.z</th>\n",
       "      <th>rotationRate.x</th>\n",
       "      <th>rotationRate.y</th>\n",
       "      <th>rotationRate.z</th>\n",
       "      <th>userAcceleration.x</th>\n",
       "      <th>userAcceleration.y</th>\n",
       "      <th>userAcceleration.z</th>\n",
       "      <th>type</th>\n",
       "      <th>row_num</th>\n",
       "      <th>outlier</th>\n",
       "    </tr>\n",
       "  </thead>\n",
       "  <tbody>\n",
       "    <tr>\n",
       "      <th>0</th>\n",
       "      <td>0.373285</td>\n",
       "      <td>-0.474464</td>\n",
       "      <td>0.201808</td>\n",
       "      <td>0.065526</td>\n",
       "      <td>0.839291</td>\n",
       "      <td>0.023280</td>\n",
       "      <td>-0.211991</td>\n",
       "      <td>0.164801</td>\n",
       "      <td>0.217720</td>\n",
       "      <td>0.079346</td>\n",
       "      <td>-0.327072</td>\n",
       "      <td>0.100466</td>\n",
       "      <td>dws</td>\n",
       "      <td>0</td>\n",
       "      <td>0</td>\n",
       "    </tr>\n",
       "    <tr>\n",
       "      <th>1</th>\n",
       "      <td>0.391838</td>\n",
       "      <td>-0.475099</td>\n",
       "      <td>0.223767</td>\n",
       "      <td>0.077177</td>\n",
       "      <td>0.839671</td>\n",
       "      <td>0.051275</td>\n",
       "      <td>-0.112647</td>\n",
       "      <td>0.086734</td>\n",
       "      <td>0.137153</td>\n",
       "      <td>-0.069276</td>\n",
       "      <td>0.198770</td>\n",
       "      <td>-0.035517</td>\n",
       "      <td>dws</td>\n",
       "      <td>1</td>\n",
       "      <td>0</td>\n",
       "    </tr>\n",
       "    <tr>\n",
       "      <th>2</th>\n",
       "      <td>0.388459</td>\n",
       "      <td>-0.473711</td>\n",
       "      <td>0.221654</td>\n",
       "      <td>0.076460</td>\n",
       "      <td>0.838837</td>\n",
       "      <td>0.045731</td>\n",
       "      <td>0.116955</td>\n",
       "      <td>0.180947</td>\n",
       "      <td>0.115928</td>\n",
       "      <td>-0.085392</td>\n",
       "      <td>-0.377053</td>\n",
       "      <td>0.154583</td>\n",
       "      <td>dws</td>\n",
       "      <td>2</td>\n",
       "      <td>0</td>\n",
       "    </tr>\n",
       "    <tr>\n",
       "      <th>3</th>\n",
       "      <td>0.380900</td>\n",
       "      <td>-0.470485</td>\n",
       "      <td>0.214697</td>\n",
       "      <td>0.074708</td>\n",
       "      <td>0.836892</td>\n",
       "      <td>0.033269</td>\n",
       "      <td>0.089908</td>\n",
       "      <td>0.123655</td>\n",
       "      <td>0.076881</td>\n",
       "      <td>-0.115514</td>\n",
       "      <td>-0.328445</td>\n",
       "      <td>0.155709</td>\n",
       "      <td>dws</td>\n",
       "      <td>3</td>\n",
       "      <td>0</td>\n",
       "    </tr>\n",
       "    <tr>\n",
       "      <th>4</th>\n",
       "      <td>0.376595</td>\n",
       "      <td>-0.478547</td>\n",
       "      <td>0.213114</td>\n",
       "      <td>0.063856</td>\n",
       "      <td>0.841734</td>\n",
       "      <td>0.029621</td>\n",
       "      <td>-0.006636</td>\n",
       "      <td>0.112743</td>\n",
       "      <td>0.052507</td>\n",
       "      <td>-0.110257</td>\n",
       "      <td>-0.352408</td>\n",
       "      <td>0.158363</td>\n",
       "      <td>dws</td>\n",
       "      <td>4</td>\n",
       "      <td>0</td>\n",
       "    </tr>\n",
       "    <tr>\n",
       "      <th>...</th>\n",
       "      <td>...</td>\n",
       "      <td>...</td>\n",
       "      <td>...</td>\n",
       "      <td>...</td>\n",
       "      <td>...</td>\n",
       "      <td>...</td>\n",
       "      <td>...</td>\n",
       "      <td>...</td>\n",
       "      <td>...</td>\n",
       "      <td>...</td>\n",
       "      <td>...</td>\n",
       "      <td>...</td>\n",
       "      <td>...</td>\n",
       "      <td>...</td>\n",
       "      <td>...</td>\n",
       "    </tr>\n",
       "    <tr>\n",
       "      <th>33227</th>\n",
       "      <td>-0.832022</td>\n",
       "      <td>-0.888747</td>\n",
       "      <td>-0.127284</td>\n",
       "      <td>-0.538513</td>\n",
       "      <td>0.992321</td>\n",
       "      <td>0.319523</td>\n",
       "      <td>0.077894</td>\n",
       "      <td>0.209239</td>\n",
       "      <td>-0.023768</td>\n",
       "      <td>0.076236</td>\n",
       "      <td>-0.371129</td>\n",
       "      <td>0.062907</td>\n",
       "      <td>jog</td>\n",
       "      <td>55148</td>\n",
       "      <td>0</td>\n",
       "    </tr>\n",
       "    <tr>\n",
       "      <th>33228</th>\n",
       "      <td>-0.770531</td>\n",
       "      <td>-0.895371</td>\n",
       "      <td>-0.071727</td>\n",
       "      <td>-0.553875</td>\n",
       "      <td>0.993179</td>\n",
       "      <td>0.301840</td>\n",
       "      <td>0.169089</td>\n",
       "      <td>0.254584</td>\n",
       "      <td>0.074703</td>\n",
       "      <td>0.109312</td>\n",
       "      <td>-0.446234</td>\n",
       "      <td>0.068450</td>\n",
       "      <td>jog</td>\n",
       "      <td>55149</td>\n",
       "      <td>0</td>\n",
       "    </tr>\n",
       "    <tr>\n",
       "      <th>33229</th>\n",
       "      <td>-0.720872</td>\n",
       "      <td>-0.915913</td>\n",
       "      <td>-0.030514</td>\n",
       "      <td>-0.549367</td>\n",
       "      <td>0.995518</td>\n",
       "      <td>0.276956</td>\n",
       "      <td>0.187958</td>\n",
       "      <td>0.273587</td>\n",
       "      <td>0.173724</td>\n",
       "      <td>0.093239</td>\n",
       "      <td>-0.574458</td>\n",
       "      <td>0.065414</td>\n",
       "      <td>jog</td>\n",
       "      <td>55150</td>\n",
       "      <td>0</td>\n",
       "    </tr>\n",
       "    <tr>\n",
       "      <th>33230</th>\n",
       "      <td>-0.682549</td>\n",
       "      <td>-0.943711</td>\n",
       "      <td>0.001495</td>\n",
       "      <td>-0.530065</td>\n",
       "      <td>0.997906</td>\n",
       "      <td>0.253661</td>\n",
       "      <td>0.174823</td>\n",
       "      <td>0.208143</td>\n",
       "      <td>0.229891</td>\n",
       "      <td>0.095719</td>\n",
       "      <td>-0.661652</td>\n",
       "      <td>0.064099</td>\n",
       "      <td>jog</td>\n",
       "      <td>55151</td>\n",
       "      <td>0</td>\n",
       "    </tr>\n",
       "    <tr>\n",
       "      <th>33231</th>\n",
       "      <td>-0.668633</td>\n",
       "      <td>-0.972724</td>\n",
       "      <td>0.017648</td>\n",
       "      <td>-0.503170</td>\n",
       "      <td>0.999445</td>\n",
       "      <td>0.236882</td>\n",
       "      <td>0.136262</td>\n",
       "      <td>0.076922</td>\n",
       "      <td>0.245760</td>\n",
       "      <td>0.094012</td>\n",
       "      <td>-0.683611</td>\n",
       "      <td>0.061229</td>\n",
       "      <td>jog</td>\n",
       "      <td>55152</td>\n",
       "      <td>0</td>\n",
       "    </tr>\n",
       "  </tbody>\n",
       "</table>\n",
       "<p>33232 rows × 15 columns</p>\n",
       "</div>"
      ],
      "text/plain": [
       "       attitude.roll  attitude.pitch  attitude.yaw  gravity.x  gravity.y  \\\n",
       "0           0.373285       -0.474464      0.201808   0.065526   0.839291   \n",
       "1           0.391838       -0.475099      0.223767   0.077177   0.839671   \n",
       "2           0.388459       -0.473711      0.221654   0.076460   0.838837   \n",
       "3           0.380900       -0.470485      0.214697   0.074708   0.836892   \n",
       "4           0.376595       -0.478547      0.213114   0.063856   0.841734   \n",
       "...              ...             ...           ...        ...        ...   \n",
       "33227      -0.832022       -0.888747     -0.127284  -0.538513   0.992321   \n",
       "33228      -0.770531       -0.895371     -0.071727  -0.553875   0.993179   \n",
       "33229      -0.720872       -0.915913     -0.030514  -0.549367   0.995518   \n",
       "33230      -0.682549       -0.943711      0.001495  -0.530065   0.997906   \n",
       "33231      -0.668633       -0.972724      0.017648  -0.503170   0.999445   \n",
       "\n",
       "       gravity.z  rotationRate.x  rotationRate.y  rotationRate.z  \\\n",
       "0       0.023280       -0.211991        0.164801        0.217720   \n",
       "1       0.051275       -0.112647        0.086734        0.137153   \n",
       "2       0.045731        0.116955        0.180947        0.115928   \n",
       "3       0.033269        0.089908        0.123655        0.076881   \n",
       "4       0.029621       -0.006636        0.112743        0.052507   \n",
       "...          ...             ...             ...             ...   \n",
       "33227   0.319523        0.077894        0.209239       -0.023768   \n",
       "33228   0.301840        0.169089        0.254584        0.074703   \n",
       "33229   0.276956        0.187958        0.273587        0.173724   \n",
       "33230   0.253661        0.174823        0.208143        0.229891   \n",
       "33231   0.236882        0.136262        0.076922        0.245760   \n",
       "\n",
       "       userAcceleration.x  userAcceleration.y  userAcceleration.z type  \\\n",
       "0                0.079346           -0.327072            0.100466  dws   \n",
       "1               -0.069276            0.198770           -0.035517  dws   \n",
       "2               -0.085392           -0.377053            0.154583  dws   \n",
       "3               -0.115514           -0.328445            0.155709  dws   \n",
       "4               -0.110257           -0.352408            0.158363  dws   \n",
       "...                   ...                 ...                 ...  ...   \n",
       "33227            0.076236           -0.371129            0.062907  jog   \n",
       "33228            0.109312           -0.446234            0.068450  jog   \n",
       "33229            0.093239           -0.574458            0.065414  jog   \n",
       "33230            0.095719           -0.661652            0.064099  jog   \n",
       "33231            0.094012           -0.683611            0.061229  jog   \n",
       "\n",
       "       row_num  outlier  \n",
       "0            0        0  \n",
       "1            1        0  \n",
       "2            2        0  \n",
       "3            3        0  \n",
       "4            4        0  \n",
       "...        ...      ...  \n",
       "33227    55148        0  \n",
       "33228    55149        0  \n",
       "33229    55150        0  \n",
       "33230    55151        0  \n",
       "33231    55152        0  \n",
       "\n",
       "[33232 rows x 15 columns]"
      ]
     },
     "execution_count": 15,
     "metadata": {},
     "output_type": "execute_result"
    }
   ],
   "source": [
    "datao"
   ]
  },
  {
   "cell_type": "code",
   "execution_count": 48,
   "id": "c67daf22-3331-4921-9d99-4b00c0567b85",
   "metadata": {},
   "outputs": [],
   "source": [
    "columns_to_categorize = ['attitude.roll', 'attitude.pitch', 'attitude.yaw', 'gravity.x',\n",
    "       'gravity.y', 'gravity.z', 'rotationRate.x', 'rotationRate.y',\n",
    "       'rotationRate.z', 'userAcceleration.x', 'userAcceleration.y',\n",
    "       'userAcceleration.z']\n",
    "colums_to_not_categorize = ['type', 'row_num', 'outlier']"
   ]
  },
  {
   "cell_type": "code",
   "execution_count": 49,
   "id": "6946dd53-e661-439c-9691-48cfdc2c5df9",
   "metadata": {},
   "outputs": [
    {
     "name": "stdout",
     "output_type": "stream",
     "text": [
      "col = attitude.roll,            min = -1.0, max = 1.0\n",
      "col = attitude.pitch,           min = -1.0, max = 1.0\n",
      "col = attitude.yaw,             min = -1.0, max = 1.0\n",
      "col = gravity.x,                min = -1.0, max = 1.0\n",
      "col = gravity.y,                min = -1.0, max = 1.0\n",
      "col = gravity.z,                min = -1.0, max = 1.0\n",
      "col = rotationRate.x,           min = -1.0, max = 1.0\n",
      "col = rotationRate.y,           min = -1.0, max = 1.0\n",
      "col = rotationRate.z,           min = -1.0, max = 1.0\n",
      "col = userAcceleration.x,       min = -1.0, max = 1.0\n",
      "col = userAcceleration.y,       min = -1.0, max = 1.0\n",
      "col = userAcceleration.z,       min = -1.0, max = 1.0\n"
     ]
    }
   ],
   "source": [
    "space_cols = 25\n",
    "for col in columns_to_categorize:\n",
    "    print(f\"col = {col},{' ' * (space_cols - len(col))}min = {datao[col].min()}, max = {datao[col].max()}\")"
   ]
  },
  {
   "cell_type": "code",
   "execution_count": 50,
   "id": "2fa463a2-7c12-4c9e-b1bf-5482f133d5f0",
   "metadata": {},
   "outputs": [],
   "source": [
    "df_4_cats = pd.DataFrame()"
   ]
  },
  {
   "cell_type": "code",
   "execution_count": 51,
   "id": "029873e5-8a24-4cba-a628-b51f8a0373e7",
   "metadata": {},
   "outputs": [],
   "source": [
    "for col in columns_to_categorize:\n",
    "    df_4_cats[col] = pd.cut(datao[col], bins=[-1, -0.5, 0, 0.5, 1.0], labels = ['lowest', 'low', 'mid', 'high'], include_lowest=True)"
   ]
  },
  {
   "cell_type": "code",
   "execution_count": 52,
   "id": "a272da74-a17c-4af5-9f22-64e0bf0fbe5d",
   "metadata": {},
   "outputs": [],
   "source": [
    "for col in colums_to_not_categorize:\n",
    "    df_4_cats[col] = datao[col]"
   ]
  },
  {
   "cell_type": "code",
   "execution_count": 53,
   "id": "c8324e4a-8ada-4bfe-bdd5-5d745dd81971",
   "metadata": {},
   "outputs": [
    {
     "data": {
      "text/html": [
       "<div>\n",
       "<style scoped>\n",
       "    .dataframe tbody tr th:only-of-type {\n",
       "        vertical-align: middle;\n",
       "    }\n",
       "\n",
       "    .dataframe tbody tr th {\n",
       "        vertical-align: top;\n",
       "    }\n",
       "\n",
       "    .dataframe thead th {\n",
       "        text-align: right;\n",
       "    }\n",
       "</style>\n",
       "<table border=\"1\" class=\"dataframe\">\n",
       "  <thead>\n",
       "    <tr style=\"text-align: right;\">\n",
       "      <th></th>\n",
       "      <th>attitude.roll</th>\n",
       "      <th>attitude.pitch</th>\n",
       "      <th>attitude.yaw</th>\n",
       "      <th>gravity.x</th>\n",
       "      <th>gravity.y</th>\n",
       "      <th>gravity.z</th>\n",
       "      <th>rotationRate.x</th>\n",
       "      <th>rotationRate.y</th>\n",
       "      <th>rotationRate.z</th>\n",
       "      <th>userAcceleration.x</th>\n",
       "      <th>userAcceleration.y</th>\n",
       "      <th>userAcceleration.z</th>\n",
       "      <th>type</th>\n",
       "      <th>row_num</th>\n",
       "      <th>outlier</th>\n",
       "    </tr>\n",
       "  </thead>\n",
       "  <tbody>\n",
       "    <tr>\n",
       "      <th>0</th>\n",
       "      <td>mid</td>\n",
       "      <td>low</td>\n",
       "      <td>mid</td>\n",
       "      <td>mid</td>\n",
       "      <td>high</td>\n",
       "      <td>mid</td>\n",
       "      <td>low</td>\n",
       "      <td>mid</td>\n",
       "      <td>mid</td>\n",
       "      <td>mid</td>\n",
       "      <td>low</td>\n",
       "      <td>mid</td>\n",
       "      <td>dws</td>\n",
       "      <td>0</td>\n",
       "      <td>0</td>\n",
       "    </tr>\n",
       "    <tr>\n",
       "      <th>1</th>\n",
       "      <td>mid</td>\n",
       "      <td>low</td>\n",
       "      <td>mid</td>\n",
       "      <td>mid</td>\n",
       "      <td>high</td>\n",
       "      <td>mid</td>\n",
       "      <td>low</td>\n",
       "      <td>mid</td>\n",
       "      <td>mid</td>\n",
       "      <td>low</td>\n",
       "      <td>mid</td>\n",
       "      <td>low</td>\n",
       "      <td>dws</td>\n",
       "      <td>1</td>\n",
       "      <td>0</td>\n",
       "    </tr>\n",
       "    <tr>\n",
       "      <th>2</th>\n",
       "      <td>mid</td>\n",
       "      <td>low</td>\n",
       "      <td>mid</td>\n",
       "      <td>mid</td>\n",
       "      <td>high</td>\n",
       "      <td>mid</td>\n",
       "      <td>mid</td>\n",
       "      <td>mid</td>\n",
       "      <td>mid</td>\n",
       "      <td>low</td>\n",
       "      <td>low</td>\n",
       "      <td>mid</td>\n",
       "      <td>dws</td>\n",
       "      <td>2</td>\n",
       "      <td>0</td>\n",
       "    </tr>\n",
       "    <tr>\n",
       "      <th>3</th>\n",
       "      <td>mid</td>\n",
       "      <td>low</td>\n",
       "      <td>mid</td>\n",
       "      <td>mid</td>\n",
       "      <td>high</td>\n",
       "      <td>mid</td>\n",
       "      <td>mid</td>\n",
       "      <td>mid</td>\n",
       "      <td>mid</td>\n",
       "      <td>low</td>\n",
       "      <td>low</td>\n",
       "      <td>mid</td>\n",
       "      <td>dws</td>\n",
       "      <td>3</td>\n",
       "      <td>0</td>\n",
       "    </tr>\n",
       "    <tr>\n",
       "      <th>4</th>\n",
       "      <td>mid</td>\n",
       "      <td>low</td>\n",
       "      <td>mid</td>\n",
       "      <td>mid</td>\n",
       "      <td>high</td>\n",
       "      <td>mid</td>\n",
       "      <td>low</td>\n",
       "      <td>mid</td>\n",
       "      <td>mid</td>\n",
       "      <td>low</td>\n",
       "      <td>low</td>\n",
       "      <td>mid</td>\n",
       "      <td>dws</td>\n",
       "      <td>4</td>\n",
       "      <td>0</td>\n",
       "    </tr>\n",
       "    <tr>\n",
       "      <th>...</th>\n",
       "      <td>...</td>\n",
       "      <td>...</td>\n",
       "      <td>...</td>\n",
       "      <td>...</td>\n",
       "      <td>...</td>\n",
       "      <td>...</td>\n",
       "      <td>...</td>\n",
       "      <td>...</td>\n",
       "      <td>...</td>\n",
       "      <td>...</td>\n",
       "      <td>...</td>\n",
       "      <td>...</td>\n",
       "      <td>...</td>\n",
       "      <td>...</td>\n",
       "      <td>...</td>\n",
       "    </tr>\n",
       "    <tr>\n",
       "      <th>33227</th>\n",
       "      <td>lowest</td>\n",
       "      <td>lowest</td>\n",
       "      <td>low</td>\n",
       "      <td>lowest</td>\n",
       "      <td>high</td>\n",
       "      <td>mid</td>\n",
       "      <td>mid</td>\n",
       "      <td>mid</td>\n",
       "      <td>low</td>\n",
       "      <td>mid</td>\n",
       "      <td>low</td>\n",
       "      <td>mid</td>\n",
       "      <td>jog</td>\n",
       "      <td>55148</td>\n",
       "      <td>0</td>\n",
       "    </tr>\n",
       "    <tr>\n",
       "      <th>33228</th>\n",
       "      <td>lowest</td>\n",
       "      <td>lowest</td>\n",
       "      <td>low</td>\n",
       "      <td>lowest</td>\n",
       "      <td>high</td>\n",
       "      <td>mid</td>\n",
       "      <td>mid</td>\n",
       "      <td>mid</td>\n",
       "      <td>mid</td>\n",
       "      <td>mid</td>\n",
       "      <td>low</td>\n",
       "      <td>mid</td>\n",
       "      <td>jog</td>\n",
       "      <td>55149</td>\n",
       "      <td>0</td>\n",
       "    </tr>\n",
       "    <tr>\n",
       "      <th>33229</th>\n",
       "      <td>lowest</td>\n",
       "      <td>lowest</td>\n",
       "      <td>low</td>\n",
       "      <td>lowest</td>\n",
       "      <td>high</td>\n",
       "      <td>mid</td>\n",
       "      <td>mid</td>\n",
       "      <td>mid</td>\n",
       "      <td>mid</td>\n",
       "      <td>mid</td>\n",
       "      <td>lowest</td>\n",
       "      <td>mid</td>\n",
       "      <td>jog</td>\n",
       "      <td>55150</td>\n",
       "      <td>0</td>\n",
       "    </tr>\n",
       "    <tr>\n",
       "      <th>33230</th>\n",
       "      <td>lowest</td>\n",
       "      <td>lowest</td>\n",
       "      <td>mid</td>\n",
       "      <td>lowest</td>\n",
       "      <td>high</td>\n",
       "      <td>mid</td>\n",
       "      <td>mid</td>\n",
       "      <td>mid</td>\n",
       "      <td>mid</td>\n",
       "      <td>mid</td>\n",
       "      <td>lowest</td>\n",
       "      <td>mid</td>\n",
       "      <td>jog</td>\n",
       "      <td>55151</td>\n",
       "      <td>0</td>\n",
       "    </tr>\n",
       "    <tr>\n",
       "      <th>33231</th>\n",
       "      <td>lowest</td>\n",
       "      <td>lowest</td>\n",
       "      <td>mid</td>\n",
       "      <td>lowest</td>\n",
       "      <td>high</td>\n",
       "      <td>mid</td>\n",
       "      <td>mid</td>\n",
       "      <td>mid</td>\n",
       "      <td>mid</td>\n",
       "      <td>mid</td>\n",
       "      <td>lowest</td>\n",
       "      <td>mid</td>\n",
       "      <td>jog</td>\n",
       "      <td>55152</td>\n",
       "      <td>0</td>\n",
       "    </tr>\n",
       "  </tbody>\n",
       "</table>\n",
       "<p>33232 rows × 15 columns</p>\n",
       "</div>"
      ],
      "text/plain": [
       "      attitude.roll attitude.pitch attitude.yaw gravity.x gravity.y gravity.z  \\\n",
       "0               mid            low          mid       mid      high       mid   \n",
       "1               mid            low          mid       mid      high       mid   \n",
       "2               mid            low          mid       mid      high       mid   \n",
       "3               mid            low          mid       mid      high       mid   \n",
       "4               mid            low          mid       mid      high       mid   \n",
       "...             ...            ...          ...       ...       ...       ...   \n",
       "33227        lowest         lowest          low    lowest      high       mid   \n",
       "33228        lowest         lowest          low    lowest      high       mid   \n",
       "33229        lowest         lowest          low    lowest      high       mid   \n",
       "33230        lowest         lowest          mid    lowest      high       mid   \n",
       "33231        lowest         lowest          mid    lowest      high       mid   \n",
       "\n",
       "      rotationRate.x rotationRate.y rotationRate.z userAcceleration.x  \\\n",
       "0                low            mid            mid                mid   \n",
       "1                low            mid            mid                low   \n",
       "2                mid            mid            mid                low   \n",
       "3                mid            mid            mid                low   \n",
       "4                low            mid            mid                low   \n",
       "...              ...            ...            ...                ...   \n",
       "33227            mid            mid            low                mid   \n",
       "33228            mid            mid            mid                mid   \n",
       "33229            mid            mid            mid                mid   \n",
       "33230            mid            mid            mid                mid   \n",
       "33231            mid            mid            mid                mid   \n",
       "\n",
       "      userAcceleration.y userAcceleration.z type  row_num  outlier  \n",
       "0                    low                mid  dws        0        0  \n",
       "1                    mid                low  dws        1        0  \n",
       "2                    low                mid  dws        2        0  \n",
       "3                    low                mid  dws        3        0  \n",
       "4                    low                mid  dws        4        0  \n",
       "...                  ...                ...  ...      ...      ...  \n",
       "33227                low                mid  jog    55148        0  \n",
       "33228                low                mid  jog    55149        0  \n",
       "33229             lowest                mid  jog    55150        0  \n",
       "33230             lowest                mid  jog    55151        0  \n",
       "33231             lowest                mid  jog    55152        0  \n",
       "\n",
       "[33232 rows x 15 columns]"
      ]
     },
     "execution_count": 53,
     "metadata": {},
     "output_type": "execute_result"
    }
   ],
   "source": [
    "df_4_cats"
   ]
  },
  {
   "cell_type": "code",
   "execution_count": 54,
   "id": "4ba35e79-715f-4174-ae8e-fd2d517cc920",
   "metadata": {},
   "outputs": [],
   "source": [
    "# col1 = 'attitude.roll'\n",
    "# col2 = 'gravity.x'\n",
    "# y_col = 'type'\n",
    "# df = df_4_cats\n",
    "# plt.figure(figsize=(8, 8))\n",
    "# plt.scatter(df[col1], df[col2], c='r')\n",
    "\n",
    "# # Create numbered labels for each point\n",
    "# labels = []\n",
    "# for index, row in df.iterrows():\n",
    "#     plt.annotate(str(row[y_col]), xy=(row[col1], row[col2]), xytext=(1, 1), textcoords='offset points')\n",
    "#     labels.append(row[y_col])\n",
    "# plt.xlabel(col1)\n",
    "# plt.ylabel(col2)\n",
    "# plt.title('motion type')\n",
    "# plt.locator_params(nbins=10)\n",
    "# plt.grid()\n",
    "\n",
    "# plt.show()"
   ]
  },
  {
   "cell_type": "markdown",
   "id": "21b017f5-49d4-4dd5-b40d-141ddcfbaa9b",
   "metadata": {},
   "source": [
    "We will compare linkage functions for calculating the distance between clusters below:\n",
    "single, average, weighted, centroid, median, and ward.  "
   ]
  },
  {
   "cell_type": "code",
   "execution_count": 55,
   "id": "6b359ed0-6cba-4bc4-9633-0dc398ef88b1",
   "metadata": {},
   "outputs": [],
   "source": [
    "# lat_long= data_scaled.to_numpy()"
   ]
  },
  {
   "cell_type": "code",
   "execution_count": 56,
   "id": "83d97075-2610-41ee-a741-ccfad10e1f6b",
   "metadata": {},
   "outputs": [],
   "source": [
    "from scipy.cluster.hierarchy import dendrogram, linkage"
   ]
  },
  {
   "cell_type": "code",
   "execution_count": 57,
   "id": "c839fe97-f6ad-4c3c-a834-bfa49ec750d6",
   "metadata": {},
   "outputs": [],
   "source": [
    "# datao[[columns_to_categorize]]"
   ]
  },
  {
   "cell_type": "code",
   "execution_count": 58,
   "id": "50fd6775-2b3d-4161-bf08-e631a5ad8253",
   "metadata": {},
   "outputs": [],
   "source": [
    "# Z1 = linkage(, method='single', metric='euclidean')"
   ]
  },
  {
   "cell_type": "code",
   "execution_count": 59,
   "id": "3c94769f-aa15-4f2e-b5b8-b9c92ad97f2e",
   "metadata": {},
   "outputs": [],
   "source": [
    "from scipy.cluster.hierarchy import dendrogram, linkage\n",
    "\n",
    "Z1 = linkage(datao[columns_to_categorize].to_numpy(), method='single', metric='euclidean')\n",
    "Z2 = linkage(datao[columns_to_categorize].to_numpy(), method='complete', metric='euclidean')\n",
    "Z3 = linkage(datao[columns_to_categorize].to_numpy(), method='average', metric='euclidean')\n",
    "Z4 = linkage(datao[columns_to_categorize].to_numpy(), method='ward', metric='euclidean')"
   ]
  },
  {
   "cell_type": "markdown",
   "id": "072176ac-7e41-4991-b058-45ed2cb7443d",
   "metadata": {},
   "source": [
    "### Dendrogram\n",
    "\n",
    "Notice that each distance method produces different linkages for the same data."
   ]
  },
  {
   "cell_type": "code",
   "execution_count": 60,
   "id": "e6621f94-d778-4442-84c5-50a57e0d03f8",
   "metadata": {},
   "outputs": [],
   "source": [
    "labels = list(datao['type'].values)"
   ]
  },
  {
   "cell_type": "code",
   "execution_count": 77,
   "id": "856e7480-f301-43d6-a3d1-5cc20a16b0a3",
   "metadata": {},
   "outputs": [],
   "source": [
    "# Takes too much time so commenting out\n",
    "\n",
    "# plt.figure(figsize=(12, 20))\n",
    "# # plt.subplot(2,2,1), dendrogram(Z1,labels=labels), plt.title('Single') # Max recursion depth exceeded error\n",
    "# plt.subplot(2,2,2), dendrogram(Z2,labels=labels), plt.title('Complete')\n",
    "# plt.subplot(2,2,3), dendrogram(Z3,labels=labels), plt.title('Average')\n",
    "# plt.subplot(2,2,4), dendrogram(Z4,labels=labels), plt.title('Ward')\n",
    "# plt.show()"
   ]
  },
  {
   "cell_type": "markdown",
   "id": "9fb519fc-55aa-44c9-a8aa-bcab3269a316",
   "metadata": {},
   "source": [
    "### Create Clusters"
   ]
  },
  {
   "cell_type": "code",
   "execution_count": 78,
   "id": "7584e269-82c3-44f4-88bc-57ef76cd9b1f",
   "metadata": {},
   "outputs": [
    {
     "data": {
      "text/plain": [
       "6"
      ]
     },
     "execution_count": 78,
     "metadata": {},
     "output_type": "execute_result"
    }
   ],
   "source": [
    "len(datao['type'].unique())"
   ]
  },
  {
   "cell_type": "code",
   "execution_count": 79,
   "id": "a9e2e137-4861-46da-8d78-d730ef279a54",
   "metadata": {},
   "outputs": [],
   "source": [
    "# Creating Dendrogram for our data\n",
    "# max_d = cut-off/ Threshold value\n",
    "max_d = len(datao['type'].unique())\n",
    "\n",
    "# plt.figure(figsize=(10, 8))\n",
    "# dendrogram(Z4,labels=labels), plt.title('Ward')\n",
    "  \n",
    "# # # Cutting the dendrogram at max_d\n",
    "# plt.axhline(y=max_d, c='k')\n",
    "# plt.show()"
   ]
  },
  {
   "cell_type": "code",
   "execution_count": 80,
   "id": "7c928257-48de-429e-aef3-afe0f59d9e80",
   "metadata": {},
   "outputs": [],
   "source": [
    "df = df_4_cats"
   ]
  },
  {
   "cell_type": "markdown",
   "id": "2646774b-a4df-4cb1-ac74-f7839f3c6d4d",
   "metadata": {},
   "source": [
    "### Flat Clustering\n",
    "\n",
    "These functions cut hierarchical clusterings into flat clusterings or find the roots of the forest formed by a cut by providing the flat cluster ids of each observation."
   ]
  },
  {
   "cell_type": "code",
   "execution_count": 81,
   "id": "323e15d9-5824-4d6c-84eb-1994f8d3da1c",
   "metadata": {},
   "outputs": [
    {
     "name": "stdout",
     "output_type": "stream",
     "text": [
      "Clusters: [4 4 4 ... 3 3 3]\n"
     ]
    }
   ],
   "source": [
    "from scipy.cluster.hierarchy import fcluster\n",
    "\n",
    "f1 = fcluster(Z4, max_d, criterion='maxclust')\n",
    "\n",
    "print(f\"Clusters: {f1}\")"
   ]
  },
  {
   "cell_type": "code",
   "execution_count": 82,
   "id": "73c79ea0-2540-4236-902f-da7368a6bd3b",
   "metadata": {},
   "outputs": [
    {
     "data": {
      "text/plain": [
       "array([1, 2, 3, 4, 5, 6], dtype=int32)"
      ]
     },
     "execution_count": 82,
     "metadata": {},
     "output_type": "execute_result"
    }
   ],
   "source": [
    "np.unique(f1)"
   ]
  },
  {
   "cell_type": "markdown",
   "id": "7358283c-8e69-4bed-91c6-4f0dff627868",
   "metadata": {},
   "source": [
    "### Sklearn Hierarchical Clustering"
   ]
  },
  {
   "cell_type": "markdown",
   "id": "d3671ed1-9af4-4ba9-b9e4-902e25a45d70",
   "metadata": {},
   "source": [
    "## Ward with Euclidean (Z4)"
   ]
  },
  {
   "cell_type": "code",
   "execution_count": 83,
   "id": "d5bcccb2-8219-4d69-a5e3-663d4ae05e84",
   "metadata": {},
   "outputs": [
    {
     "name": "stdout",
     "output_type": "stream",
     "text": [
      "[3 3 3 ... 2 2 2]\n"
     ]
    }
   ],
   "source": [
    "Z5 = AgglomerativeClustering(n_clusters=len(datao['type'].unique()), linkage='ward')\n",
    "Z5.fit_predict(datao[columns_to_categorize])\n",
    "print(Z5.labels_)"
   ]
  },
  {
   "cell_type": "code",
   "execution_count": 84,
   "id": "ff2044e0-e3b6-44c2-97ac-8e249000c177",
   "metadata": {},
   "outputs": [],
   "source": [
    "df['labels'] = Z5.labels_"
   ]
  },
  {
   "cell_type": "code",
   "execution_count": 85,
   "id": "ba19e675-4b08-4f03-ba9a-b95665648348",
   "metadata": {},
   "outputs": [
    {
     "data": {
      "text/html": [
       "<div>\n",
       "<style scoped>\n",
       "    .dataframe tbody tr th:only-of-type {\n",
       "        vertical-align: middle;\n",
       "    }\n",
       "\n",
       "    .dataframe tbody tr th {\n",
       "        vertical-align: top;\n",
       "    }\n",
       "\n",
       "    .dataframe thead th {\n",
       "        text-align: right;\n",
       "    }\n",
       "</style>\n",
       "<table border=\"1\" class=\"dataframe\">\n",
       "  <thead>\n",
       "    <tr style=\"text-align: right;\">\n",
       "      <th></th>\n",
       "      <th>attitude.roll</th>\n",
       "      <th>attitude.pitch</th>\n",
       "      <th>attitude.yaw</th>\n",
       "      <th>gravity.x</th>\n",
       "      <th>gravity.y</th>\n",
       "      <th>gravity.z</th>\n",
       "      <th>rotationRate.x</th>\n",
       "      <th>rotationRate.y</th>\n",
       "      <th>rotationRate.z</th>\n",
       "      <th>userAcceleration.x</th>\n",
       "      <th>userAcceleration.y</th>\n",
       "      <th>userAcceleration.z</th>\n",
       "      <th>type</th>\n",
       "      <th>row_num</th>\n",
       "      <th>outlier</th>\n",
       "      <th>labels</th>\n",
       "    </tr>\n",
       "  </thead>\n",
       "  <tbody>\n",
       "    <tr>\n",
       "      <th>0</th>\n",
       "      <td>mid</td>\n",
       "      <td>low</td>\n",
       "      <td>mid</td>\n",
       "      <td>mid</td>\n",
       "      <td>high</td>\n",
       "      <td>mid</td>\n",
       "      <td>low</td>\n",
       "      <td>mid</td>\n",
       "      <td>mid</td>\n",
       "      <td>mid</td>\n",
       "      <td>low</td>\n",
       "      <td>mid</td>\n",
       "      <td>dws</td>\n",
       "      <td>0</td>\n",
       "      <td>0</td>\n",
       "      <td>3</td>\n",
       "    </tr>\n",
       "    <tr>\n",
       "      <th>1</th>\n",
       "      <td>mid</td>\n",
       "      <td>low</td>\n",
       "      <td>mid</td>\n",
       "      <td>mid</td>\n",
       "      <td>high</td>\n",
       "      <td>mid</td>\n",
       "      <td>low</td>\n",
       "      <td>mid</td>\n",
       "      <td>mid</td>\n",
       "      <td>low</td>\n",
       "      <td>mid</td>\n",
       "      <td>low</td>\n",
       "      <td>dws</td>\n",
       "      <td>1</td>\n",
       "      <td>0</td>\n",
       "      <td>3</td>\n",
       "    </tr>\n",
       "    <tr>\n",
       "      <th>2</th>\n",
       "      <td>mid</td>\n",
       "      <td>low</td>\n",
       "      <td>mid</td>\n",
       "      <td>mid</td>\n",
       "      <td>high</td>\n",
       "      <td>mid</td>\n",
       "      <td>mid</td>\n",
       "      <td>mid</td>\n",
       "      <td>mid</td>\n",
       "      <td>low</td>\n",
       "      <td>low</td>\n",
       "      <td>mid</td>\n",
       "      <td>dws</td>\n",
       "      <td>2</td>\n",
       "      <td>0</td>\n",
       "      <td>3</td>\n",
       "    </tr>\n",
       "    <tr>\n",
       "      <th>3</th>\n",
       "      <td>mid</td>\n",
       "      <td>low</td>\n",
       "      <td>mid</td>\n",
       "      <td>mid</td>\n",
       "      <td>high</td>\n",
       "      <td>mid</td>\n",
       "      <td>mid</td>\n",
       "      <td>mid</td>\n",
       "      <td>mid</td>\n",
       "      <td>low</td>\n",
       "      <td>low</td>\n",
       "      <td>mid</td>\n",
       "      <td>dws</td>\n",
       "      <td>3</td>\n",
       "      <td>0</td>\n",
       "      <td>3</td>\n",
       "    </tr>\n",
       "    <tr>\n",
       "      <th>4</th>\n",
       "      <td>mid</td>\n",
       "      <td>low</td>\n",
       "      <td>mid</td>\n",
       "      <td>mid</td>\n",
       "      <td>high</td>\n",
       "      <td>mid</td>\n",
       "      <td>low</td>\n",
       "      <td>mid</td>\n",
       "      <td>mid</td>\n",
       "      <td>low</td>\n",
       "      <td>low</td>\n",
       "      <td>mid</td>\n",
       "      <td>dws</td>\n",
       "      <td>4</td>\n",
       "      <td>0</td>\n",
       "      <td>3</td>\n",
       "    </tr>\n",
       "  </tbody>\n",
       "</table>\n",
       "</div>"
      ],
      "text/plain": [
       "  attitude.roll attitude.pitch attitude.yaw gravity.x gravity.y gravity.z  \\\n",
       "0           mid            low          mid       mid      high       mid   \n",
       "1           mid            low          mid       mid      high       mid   \n",
       "2           mid            low          mid       mid      high       mid   \n",
       "3           mid            low          mid       mid      high       mid   \n",
       "4           mid            low          mid       mid      high       mid   \n",
       "\n",
       "  rotationRate.x rotationRate.y rotationRate.z userAcceleration.x  \\\n",
       "0            low            mid            mid                mid   \n",
       "1            low            mid            mid                low   \n",
       "2            mid            mid            mid                low   \n",
       "3            mid            mid            mid                low   \n",
       "4            low            mid            mid                low   \n",
       "\n",
       "  userAcceleration.y userAcceleration.z type  row_num  outlier  labels  \n",
       "0                low                mid  dws        0        0       3  \n",
       "1                mid                low  dws        1        0       3  \n",
       "2                low                mid  dws        2        0       3  \n",
       "3                low                mid  dws        3        0       3  \n",
       "4                low                mid  dws        4        0       3  "
      ]
     },
     "execution_count": 85,
     "metadata": {},
     "output_type": "execute_result"
    }
   ],
   "source": [
    "df.head()"
   ]
  },
  {
   "cell_type": "code",
   "execution_count": 86,
   "id": "44a6c3bf-2314-435d-b423-b10cc91d089b",
   "metadata": {},
   "outputs": [
    {
     "name": "stdout",
     "output_type": "stream",
     "text": [
      "labels        0       1       2       3       4       5\n",
      "outlier                                                \n",
      "0        4473.0  7394.0  2952.0  5635.0  5849.0  6597.0\n",
      "1           0.0    37.0   137.0     0.0     1.0   157.0\n"
     ]
    }
   ],
   "source": [
    "df_temp = df[['outlier', 'labels']]\n",
    "counts = df_temp.groupby('outlier')['labels'].value_counts().unstack().fillna(0)\n",
    "print(counts)\n"
   ]
  },
  {
   "cell_type": "code",
   "execution_count": 87,
   "id": "8eebce48-93f8-48da-bbef-9130cd4719e2",
   "metadata": {},
   "outputs": [
    {
     "name": "stdout",
     "output_type": "stream",
     "text": [
      "labels       0       1       2       3       4       5\n",
      "type                                                  \n",
      "dws     1006.0  2382.0   217.0  1235.0   619.0   293.0\n",
      "jog      317.0  1651.0  1367.0   789.0  1056.0   348.0\n",
      "sit        0.0     0.0     0.0     0.0     0.0   157.0\n",
      "std        0.0    37.0   137.0     0.0     1.0     0.0\n",
      "ups     1358.0  1617.0   596.0   929.0  1209.0  1010.0\n",
      "wlk     1792.0  1744.0   772.0  2682.0  2965.0  4946.0\n"
     ]
    }
   ],
   "source": [
    "df_temp = df[['type', 'labels']]\n",
    "counts = df_temp.groupby('type')['labels'].value_counts().unstack().fillna(0)\n",
    "print(counts)\n"
   ]
  },
  {
   "cell_type": "markdown",
   "id": "2dcc329c-a308-49dc-987d-5440eaab0528",
   "metadata": {
    "tags": []
   },
   "source": [
    "### Taking sit and stand as one category so 5 clusters"
   ]
  },
  {
   "cell_type": "code",
   "execution_count": 88,
   "id": "ed0a2eaa-1f28-44f9-affa-d07ee81a5455",
   "metadata": {},
   "outputs": [
    {
     "name": "stdout",
     "output_type": "stream",
     "text": [
      "[3 3 3 ... 2 2 2]\n"
     ]
    }
   ],
   "source": [
    "Z5 = AgglomerativeClustering(n_clusters=5, linkage='ward')\n",
    "Z5.fit_predict(datao[columns_to_categorize])\n",
    "print(Z5.labels_)"
   ]
  },
  {
   "cell_type": "code",
   "execution_count": 89,
   "id": "889d9492-984e-4c1e-a9e1-2dec56ff813d",
   "metadata": {},
   "outputs": [],
   "source": [
    "df['labels'] = Z5.labels_"
   ]
  },
  {
   "cell_type": "code",
   "execution_count": 90,
   "id": "e81711b6-195d-40ab-b848-0b51f08703b9",
   "metadata": {},
   "outputs": [
    {
     "data": {
      "text/html": [
       "<div>\n",
       "<style scoped>\n",
       "    .dataframe tbody tr th:only-of-type {\n",
       "        vertical-align: middle;\n",
       "    }\n",
       "\n",
       "    .dataframe tbody tr th {\n",
       "        vertical-align: top;\n",
       "    }\n",
       "\n",
       "    .dataframe thead th {\n",
       "        text-align: right;\n",
       "    }\n",
       "</style>\n",
       "<table border=\"1\" class=\"dataframe\">\n",
       "  <thead>\n",
       "    <tr style=\"text-align: right;\">\n",
       "      <th></th>\n",
       "      <th>attitude.roll</th>\n",
       "      <th>attitude.pitch</th>\n",
       "      <th>attitude.yaw</th>\n",
       "      <th>gravity.x</th>\n",
       "      <th>gravity.y</th>\n",
       "      <th>gravity.z</th>\n",
       "      <th>rotationRate.x</th>\n",
       "      <th>rotationRate.y</th>\n",
       "      <th>rotationRate.z</th>\n",
       "      <th>userAcceleration.x</th>\n",
       "      <th>userAcceleration.y</th>\n",
       "      <th>userAcceleration.z</th>\n",
       "      <th>type</th>\n",
       "      <th>row_num</th>\n",
       "      <th>outlier</th>\n",
       "      <th>labels</th>\n",
       "    </tr>\n",
       "  </thead>\n",
       "  <tbody>\n",
       "    <tr>\n",
       "      <th>0</th>\n",
       "      <td>mid</td>\n",
       "      <td>low</td>\n",
       "      <td>mid</td>\n",
       "      <td>mid</td>\n",
       "      <td>high</td>\n",
       "      <td>mid</td>\n",
       "      <td>low</td>\n",
       "      <td>mid</td>\n",
       "      <td>mid</td>\n",
       "      <td>mid</td>\n",
       "      <td>low</td>\n",
       "      <td>mid</td>\n",
       "      <td>dws</td>\n",
       "      <td>0</td>\n",
       "      <td>0</td>\n",
       "      <td>3</td>\n",
       "    </tr>\n",
       "    <tr>\n",
       "      <th>1</th>\n",
       "      <td>mid</td>\n",
       "      <td>low</td>\n",
       "      <td>mid</td>\n",
       "      <td>mid</td>\n",
       "      <td>high</td>\n",
       "      <td>mid</td>\n",
       "      <td>low</td>\n",
       "      <td>mid</td>\n",
       "      <td>mid</td>\n",
       "      <td>low</td>\n",
       "      <td>mid</td>\n",
       "      <td>low</td>\n",
       "      <td>dws</td>\n",
       "      <td>1</td>\n",
       "      <td>0</td>\n",
       "      <td>3</td>\n",
       "    </tr>\n",
       "    <tr>\n",
       "      <th>2</th>\n",
       "      <td>mid</td>\n",
       "      <td>low</td>\n",
       "      <td>mid</td>\n",
       "      <td>mid</td>\n",
       "      <td>high</td>\n",
       "      <td>mid</td>\n",
       "      <td>mid</td>\n",
       "      <td>mid</td>\n",
       "      <td>mid</td>\n",
       "      <td>low</td>\n",
       "      <td>low</td>\n",
       "      <td>mid</td>\n",
       "      <td>dws</td>\n",
       "      <td>2</td>\n",
       "      <td>0</td>\n",
       "      <td>3</td>\n",
       "    </tr>\n",
       "    <tr>\n",
       "      <th>3</th>\n",
       "      <td>mid</td>\n",
       "      <td>low</td>\n",
       "      <td>mid</td>\n",
       "      <td>mid</td>\n",
       "      <td>high</td>\n",
       "      <td>mid</td>\n",
       "      <td>mid</td>\n",
       "      <td>mid</td>\n",
       "      <td>mid</td>\n",
       "      <td>low</td>\n",
       "      <td>low</td>\n",
       "      <td>mid</td>\n",
       "      <td>dws</td>\n",
       "      <td>3</td>\n",
       "      <td>0</td>\n",
       "      <td>3</td>\n",
       "    </tr>\n",
       "    <tr>\n",
       "      <th>4</th>\n",
       "      <td>mid</td>\n",
       "      <td>low</td>\n",
       "      <td>mid</td>\n",
       "      <td>mid</td>\n",
       "      <td>high</td>\n",
       "      <td>mid</td>\n",
       "      <td>low</td>\n",
       "      <td>mid</td>\n",
       "      <td>mid</td>\n",
       "      <td>low</td>\n",
       "      <td>low</td>\n",
       "      <td>mid</td>\n",
       "      <td>dws</td>\n",
       "      <td>4</td>\n",
       "      <td>0</td>\n",
       "      <td>3</td>\n",
       "    </tr>\n",
       "  </tbody>\n",
       "</table>\n",
       "</div>"
      ],
      "text/plain": [
       "  attitude.roll attitude.pitch attitude.yaw gravity.x gravity.y gravity.z  \\\n",
       "0           mid            low          mid       mid      high       mid   \n",
       "1           mid            low          mid       mid      high       mid   \n",
       "2           mid            low          mid       mid      high       mid   \n",
       "3           mid            low          mid       mid      high       mid   \n",
       "4           mid            low          mid       mid      high       mid   \n",
       "\n",
       "  rotationRate.x rotationRate.y rotationRate.z userAcceleration.x  \\\n",
       "0            low            mid            mid                mid   \n",
       "1            low            mid            mid                low   \n",
       "2            mid            mid            mid                low   \n",
       "3            mid            mid            mid                low   \n",
       "4            low            mid            mid                low   \n",
       "\n",
       "  userAcceleration.y userAcceleration.z type  row_num  outlier  labels  \n",
       "0                low                mid  dws        0        0       3  \n",
       "1                mid                low  dws        1        0       3  \n",
       "2                low                mid  dws        2        0       3  \n",
       "3                low                mid  dws        3        0       3  \n",
       "4                low                mid  dws        4        0       3  "
      ]
     },
     "execution_count": 90,
     "metadata": {},
     "output_type": "execute_result"
    }
   ],
   "source": [
    "df.head()"
   ]
  },
  {
   "cell_type": "code",
   "execution_count": 91,
   "id": "b09ff3c4-3def-4ae3-beee-abdcdb473c70",
   "metadata": {},
   "outputs": [
    {
     "name": "stdout",
     "output_type": "stream",
     "text": [
      "labels         0       1       2       3       4\n",
      "outlier                                         \n",
      "0        11070.0  7394.0  2952.0  5635.0  5849.0\n",
      "1          157.0    37.0   137.0     0.0     1.0\n"
     ]
    }
   ],
   "source": [
    "df_temp = df[['outlier', 'labels']]\n",
    "counts = df_temp.groupby('outlier')['labels'].value_counts().unstack().fillna(0)\n",
    "print(counts)\n"
   ]
  },
  {
   "cell_type": "code",
   "execution_count": 92,
   "id": "e849f357-3430-4ac3-b0ba-c151050c7fbc",
   "metadata": {},
   "outputs": [
    {
     "name": "stdout",
     "output_type": "stream",
     "text": [
      "labels       0       1       2       3       4\n",
      "type                                          \n",
      "dws     1299.0  2382.0   217.0  1235.0   619.0\n",
      "jog      665.0  1651.0  1367.0   789.0  1056.0\n",
      "sit      157.0     0.0     0.0     0.0     0.0\n",
      "std        0.0    37.0   137.0     0.0     1.0\n",
      "ups     2368.0  1617.0   596.0   929.0  1209.0\n",
      "wlk     6738.0  1744.0   772.0  2682.0  2965.0\n"
     ]
    }
   ],
   "source": [
    "df_temp = df[['type', 'labels']]\n",
    "counts = df_temp.groupby('type')['labels'].value_counts().unstack().fillna(0)\n",
    "print(counts)\n"
   ]
  },
  {
   "cell_type": "markdown",
   "id": "70577fcb-8e65-45d0-8bfb-6418456efbe2",
   "metadata": {},
   "source": [
    "### Taking motion (downstairs, upstairs, run, walk) or no motion (sit and stand) as the only categories so 2 clusters"
   ]
  },
  {
   "cell_type": "code",
   "execution_count": 93,
   "id": "8b1eefa1-864e-49c1-a8ac-636f0cba7c7e",
   "metadata": {},
   "outputs": [
    {
     "name": "stdout",
     "output_type": "stream",
     "text": [
      "[0 0 0 ... 0 0 0]\n"
     ]
    }
   ],
   "source": [
    "Z5 = AgglomerativeClustering(n_clusters=2, linkage='ward')\n",
    "Z5.fit_predict(datao[columns_to_categorize])\n",
    "print(Z5.labels_)"
   ]
  },
  {
   "cell_type": "code",
   "execution_count": 94,
   "id": "9b818a15-943c-44c5-b9eb-c9f77f4a9705",
   "metadata": {},
   "outputs": [],
   "source": [
    "df['labels'] = Z5.labels_"
   ]
  },
  {
   "cell_type": "code",
   "execution_count": 95,
   "id": "f0b986a7-d7ab-4466-ab39-f3c07c836a3e",
   "metadata": {},
   "outputs": [
    {
     "data": {
      "text/html": [
       "<div>\n",
       "<style scoped>\n",
       "    .dataframe tbody tr th:only-of-type {\n",
       "        vertical-align: middle;\n",
       "    }\n",
       "\n",
       "    .dataframe tbody tr th {\n",
       "        vertical-align: top;\n",
       "    }\n",
       "\n",
       "    .dataframe thead th {\n",
       "        text-align: right;\n",
       "    }\n",
       "</style>\n",
       "<table border=\"1\" class=\"dataframe\">\n",
       "  <thead>\n",
       "    <tr style=\"text-align: right;\">\n",
       "      <th></th>\n",
       "      <th>attitude.roll</th>\n",
       "      <th>attitude.pitch</th>\n",
       "      <th>attitude.yaw</th>\n",
       "      <th>gravity.x</th>\n",
       "      <th>gravity.y</th>\n",
       "      <th>gravity.z</th>\n",
       "      <th>rotationRate.x</th>\n",
       "      <th>rotationRate.y</th>\n",
       "      <th>rotationRate.z</th>\n",
       "      <th>userAcceleration.x</th>\n",
       "      <th>userAcceleration.y</th>\n",
       "      <th>userAcceleration.z</th>\n",
       "      <th>type</th>\n",
       "      <th>row_num</th>\n",
       "      <th>outlier</th>\n",
       "      <th>labels</th>\n",
       "    </tr>\n",
       "  </thead>\n",
       "  <tbody>\n",
       "    <tr>\n",
       "      <th>0</th>\n",
       "      <td>mid</td>\n",
       "      <td>low</td>\n",
       "      <td>mid</td>\n",
       "      <td>mid</td>\n",
       "      <td>high</td>\n",
       "      <td>mid</td>\n",
       "      <td>low</td>\n",
       "      <td>mid</td>\n",
       "      <td>mid</td>\n",
       "      <td>mid</td>\n",
       "      <td>low</td>\n",
       "      <td>mid</td>\n",
       "      <td>dws</td>\n",
       "      <td>0</td>\n",
       "      <td>0</td>\n",
       "      <td>0</td>\n",
       "    </tr>\n",
       "    <tr>\n",
       "      <th>1</th>\n",
       "      <td>mid</td>\n",
       "      <td>low</td>\n",
       "      <td>mid</td>\n",
       "      <td>mid</td>\n",
       "      <td>high</td>\n",
       "      <td>mid</td>\n",
       "      <td>low</td>\n",
       "      <td>mid</td>\n",
       "      <td>mid</td>\n",
       "      <td>low</td>\n",
       "      <td>mid</td>\n",
       "      <td>low</td>\n",
       "      <td>dws</td>\n",
       "      <td>1</td>\n",
       "      <td>0</td>\n",
       "      <td>0</td>\n",
       "    </tr>\n",
       "    <tr>\n",
       "      <th>2</th>\n",
       "      <td>mid</td>\n",
       "      <td>low</td>\n",
       "      <td>mid</td>\n",
       "      <td>mid</td>\n",
       "      <td>high</td>\n",
       "      <td>mid</td>\n",
       "      <td>mid</td>\n",
       "      <td>mid</td>\n",
       "      <td>mid</td>\n",
       "      <td>low</td>\n",
       "      <td>low</td>\n",
       "      <td>mid</td>\n",
       "      <td>dws</td>\n",
       "      <td>2</td>\n",
       "      <td>0</td>\n",
       "      <td>0</td>\n",
       "    </tr>\n",
       "    <tr>\n",
       "      <th>3</th>\n",
       "      <td>mid</td>\n",
       "      <td>low</td>\n",
       "      <td>mid</td>\n",
       "      <td>mid</td>\n",
       "      <td>high</td>\n",
       "      <td>mid</td>\n",
       "      <td>mid</td>\n",
       "      <td>mid</td>\n",
       "      <td>mid</td>\n",
       "      <td>low</td>\n",
       "      <td>low</td>\n",
       "      <td>mid</td>\n",
       "      <td>dws</td>\n",
       "      <td>3</td>\n",
       "      <td>0</td>\n",
       "      <td>0</td>\n",
       "    </tr>\n",
       "    <tr>\n",
       "      <th>4</th>\n",
       "      <td>mid</td>\n",
       "      <td>low</td>\n",
       "      <td>mid</td>\n",
       "      <td>mid</td>\n",
       "      <td>high</td>\n",
       "      <td>mid</td>\n",
       "      <td>low</td>\n",
       "      <td>mid</td>\n",
       "      <td>mid</td>\n",
       "      <td>low</td>\n",
       "      <td>low</td>\n",
       "      <td>mid</td>\n",
       "      <td>dws</td>\n",
       "      <td>4</td>\n",
       "      <td>0</td>\n",
       "      <td>0</td>\n",
       "    </tr>\n",
       "  </tbody>\n",
       "</table>\n",
       "</div>"
      ],
      "text/plain": [
       "  attitude.roll attitude.pitch attitude.yaw gravity.x gravity.y gravity.z  \\\n",
       "0           mid            low          mid       mid      high       mid   \n",
       "1           mid            low          mid       mid      high       mid   \n",
       "2           mid            low          mid       mid      high       mid   \n",
       "3           mid            low          mid       mid      high       mid   \n",
       "4           mid            low          mid       mid      high       mid   \n",
       "\n",
       "  rotationRate.x rotationRate.y rotationRate.z userAcceleration.x  \\\n",
       "0            low            mid            mid                mid   \n",
       "1            low            mid            mid                low   \n",
       "2            mid            mid            mid                low   \n",
       "3            mid            mid            mid                low   \n",
       "4            low            mid            mid                low   \n",
       "\n",
       "  userAcceleration.y userAcceleration.z type  row_num  outlier  labels  \n",
       "0                low                mid  dws        0        0       0  \n",
       "1                mid                low  dws        1        0       0  \n",
       "2                low                mid  dws        2        0       0  \n",
       "3                low                mid  dws        3        0       0  \n",
       "4                low                mid  dws        4        0       0  "
      ]
     },
     "execution_count": 95,
     "metadata": {},
     "output_type": "execute_result"
    }
   ],
   "source": [
    "df.head()"
   ]
  },
  {
   "cell_type": "code",
   "execution_count": 96,
   "id": "406ecf74-9c54-4482-8e1a-6d268594ee7a",
   "metadata": {},
   "outputs": [
    {
     "name": "stdout",
     "output_type": "stream",
     "text": [
      "labels       0      1\n",
      "outlier              \n",
      "0        21830  11070\n",
      "1          175    157\n"
     ]
    }
   ],
   "source": [
    "df_temp = df[['outlier', 'labels']]\n",
    "counts = df_temp.groupby('outlier')['labels'].value_counts().unstack().fillna(0)\n",
    "print(counts)\n"
   ]
  },
  {
   "cell_type": "code",
   "execution_count": 97,
   "id": "e13f1b74-aa14-416d-b825-0b98468f0995",
   "metadata": {},
   "outputs": [
    {
     "name": "stdout",
     "output_type": "stream",
     "text": [
      "labels       0       1\n",
      "type                  \n",
      "dws     4453.0  1299.0\n",
      "jog     4863.0   665.0\n",
      "sit        0.0   157.0\n",
      "std      175.0     0.0\n",
      "ups     4351.0  2368.0\n",
      "wlk     8163.0  6738.0\n"
     ]
    }
   ],
   "source": [
    "df_temp = df[['type', 'labels']]\n",
    "counts = df_temp.groupby('type')['labels'].value_counts().unstack().fillna(0)\n",
    "print(counts)\n"
   ]
  },
  {
   "cell_type": "markdown",
   "id": "e42f45b6-4469-45fb-9608-9aa7bba3475b",
   "metadata": {},
   "source": [
    "## Average with Euclidean (Z3)"
   ]
  },
  {
   "cell_type": "code",
   "execution_count": 98,
   "id": "6170e861-c8f8-4734-b840-a0d5610cf28b",
   "metadata": {},
   "outputs": [
    {
     "name": "stdout",
     "output_type": "stream",
     "text": [
      "[0 0 0 ... 2 2 2]\n"
     ]
    }
   ],
   "source": [
    "Z5 = AgglomerativeClustering(n_clusters=len(datao['type'].unique()), linkage='average')\n",
    "Z5.fit_predict(datao[columns_to_categorize])\n",
    "print(Z5.labels_)"
   ]
  },
  {
   "cell_type": "code",
   "execution_count": 99,
   "id": "071fd640-6eaa-4ad5-954d-ba664cee2b6f",
   "metadata": {},
   "outputs": [],
   "source": [
    "df['labels'] = Z5.labels_"
   ]
  },
  {
   "cell_type": "code",
   "execution_count": 100,
   "id": "3acec17e-c29b-4813-b327-47e6f1fe2b50",
   "metadata": {},
   "outputs": [
    {
     "data": {
      "text/html": [
       "<div>\n",
       "<style scoped>\n",
       "    .dataframe tbody tr th:only-of-type {\n",
       "        vertical-align: middle;\n",
       "    }\n",
       "\n",
       "    .dataframe tbody tr th {\n",
       "        vertical-align: top;\n",
       "    }\n",
       "\n",
       "    .dataframe thead th {\n",
       "        text-align: right;\n",
       "    }\n",
       "</style>\n",
       "<table border=\"1\" class=\"dataframe\">\n",
       "  <thead>\n",
       "    <tr style=\"text-align: right;\">\n",
       "      <th></th>\n",
       "      <th>attitude.roll</th>\n",
       "      <th>attitude.pitch</th>\n",
       "      <th>attitude.yaw</th>\n",
       "      <th>gravity.x</th>\n",
       "      <th>gravity.y</th>\n",
       "      <th>gravity.z</th>\n",
       "      <th>rotationRate.x</th>\n",
       "      <th>rotationRate.y</th>\n",
       "      <th>rotationRate.z</th>\n",
       "      <th>userAcceleration.x</th>\n",
       "      <th>userAcceleration.y</th>\n",
       "      <th>userAcceleration.z</th>\n",
       "      <th>type</th>\n",
       "      <th>row_num</th>\n",
       "      <th>outlier</th>\n",
       "      <th>labels</th>\n",
       "    </tr>\n",
       "  </thead>\n",
       "  <tbody>\n",
       "    <tr>\n",
       "      <th>0</th>\n",
       "      <td>mid</td>\n",
       "      <td>low</td>\n",
       "      <td>mid</td>\n",
       "      <td>mid</td>\n",
       "      <td>high</td>\n",
       "      <td>mid</td>\n",
       "      <td>low</td>\n",
       "      <td>mid</td>\n",
       "      <td>mid</td>\n",
       "      <td>mid</td>\n",
       "      <td>low</td>\n",
       "      <td>mid</td>\n",
       "      <td>dws</td>\n",
       "      <td>0</td>\n",
       "      <td>0</td>\n",
       "      <td>0</td>\n",
       "    </tr>\n",
       "    <tr>\n",
       "      <th>1</th>\n",
       "      <td>mid</td>\n",
       "      <td>low</td>\n",
       "      <td>mid</td>\n",
       "      <td>mid</td>\n",
       "      <td>high</td>\n",
       "      <td>mid</td>\n",
       "      <td>low</td>\n",
       "      <td>mid</td>\n",
       "      <td>mid</td>\n",
       "      <td>low</td>\n",
       "      <td>mid</td>\n",
       "      <td>low</td>\n",
       "      <td>dws</td>\n",
       "      <td>1</td>\n",
       "      <td>0</td>\n",
       "      <td>0</td>\n",
       "    </tr>\n",
       "    <tr>\n",
       "      <th>2</th>\n",
       "      <td>mid</td>\n",
       "      <td>low</td>\n",
       "      <td>mid</td>\n",
       "      <td>mid</td>\n",
       "      <td>high</td>\n",
       "      <td>mid</td>\n",
       "      <td>mid</td>\n",
       "      <td>mid</td>\n",
       "      <td>mid</td>\n",
       "      <td>low</td>\n",
       "      <td>low</td>\n",
       "      <td>mid</td>\n",
       "      <td>dws</td>\n",
       "      <td>2</td>\n",
       "      <td>0</td>\n",
       "      <td>0</td>\n",
       "    </tr>\n",
       "    <tr>\n",
       "      <th>3</th>\n",
       "      <td>mid</td>\n",
       "      <td>low</td>\n",
       "      <td>mid</td>\n",
       "      <td>mid</td>\n",
       "      <td>high</td>\n",
       "      <td>mid</td>\n",
       "      <td>mid</td>\n",
       "      <td>mid</td>\n",
       "      <td>mid</td>\n",
       "      <td>low</td>\n",
       "      <td>low</td>\n",
       "      <td>mid</td>\n",
       "      <td>dws</td>\n",
       "      <td>3</td>\n",
       "      <td>0</td>\n",
       "      <td>0</td>\n",
       "    </tr>\n",
       "    <tr>\n",
       "      <th>4</th>\n",
       "      <td>mid</td>\n",
       "      <td>low</td>\n",
       "      <td>mid</td>\n",
       "      <td>mid</td>\n",
       "      <td>high</td>\n",
       "      <td>mid</td>\n",
       "      <td>low</td>\n",
       "      <td>mid</td>\n",
       "      <td>mid</td>\n",
       "      <td>low</td>\n",
       "      <td>low</td>\n",
       "      <td>mid</td>\n",
       "      <td>dws</td>\n",
       "      <td>4</td>\n",
       "      <td>0</td>\n",
       "      <td>0</td>\n",
       "    </tr>\n",
       "  </tbody>\n",
       "</table>\n",
       "</div>"
      ],
      "text/plain": [
       "  attitude.roll attitude.pitch attitude.yaw gravity.x gravity.y gravity.z  \\\n",
       "0           mid            low          mid       mid      high       mid   \n",
       "1           mid            low          mid       mid      high       mid   \n",
       "2           mid            low          mid       mid      high       mid   \n",
       "3           mid            low          mid       mid      high       mid   \n",
       "4           mid            low          mid       mid      high       mid   \n",
       "\n",
       "  rotationRate.x rotationRate.y rotationRate.z userAcceleration.x  \\\n",
       "0            low            mid            mid                mid   \n",
       "1            low            mid            mid                low   \n",
       "2            mid            mid            mid                low   \n",
       "3            mid            mid            mid                low   \n",
       "4            low            mid            mid                low   \n",
       "\n",
       "  userAcceleration.y userAcceleration.z type  row_num  outlier  labels  \n",
       "0                low                mid  dws        0        0       0  \n",
       "1                mid                low  dws        1        0       0  \n",
       "2                low                mid  dws        2        0       0  \n",
       "3                low                mid  dws        3        0       0  \n",
       "4                low                mid  dws        4        0       0  "
      ]
     },
     "execution_count": 100,
     "metadata": {},
     "output_type": "execute_result"
    }
   ],
   "source": [
    "df.head()"
   ]
  },
  {
   "cell_type": "code",
   "execution_count": 101,
   "id": "c70d031d-7a04-4edc-bec0-8797b3d1a75a",
   "metadata": {},
   "outputs": [
    {
     "name": "stdout",
     "output_type": "stream",
     "text": [
      "labels         0      1       2    3    4    5\n",
      "outlier                                       \n",
      "0        29702.0    0.0  3192.0  1.0  3.0  2.0\n",
      "1           38.0  157.0   137.0  0.0  0.0  0.0\n"
     ]
    }
   ],
   "source": [
    "df_temp = df[['outlier', 'labels']]\n",
    "counts = df_temp.groupby('outlier')['labels'].value_counts().unstack().fillna(0)\n",
    "print(counts)\n"
   ]
  },
  {
   "cell_type": "code",
   "execution_count": 102,
   "id": "83c85706-e3bc-47a7-80f2-936f1514d850",
   "metadata": {},
   "outputs": [
    {
     "name": "stdout",
     "output_type": "stream",
     "text": [
      "labels        0      1       2    3    4    5\n",
      "type                                         \n",
      "dws      5474.0    0.0   278.0  0.0  0.0  0.0\n",
      "jog      4148.0    0.0  1374.0  1.0  3.0  2.0\n",
      "sit         0.0  157.0     0.0  0.0  0.0  0.0\n",
      "std        38.0    0.0   137.0  0.0  0.0  0.0\n",
      "ups      6055.0    0.0   664.0  0.0  0.0  0.0\n",
      "wlk     14025.0    0.0   876.0  0.0  0.0  0.0\n"
     ]
    }
   ],
   "source": [
    "df_temp = df[['type', 'labels']]\n",
    "counts = df_temp.groupby('type')['labels'].value_counts().unstack().fillna(0)\n",
    "print(counts)\n"
   ]
  },
  {
   "cell_type": "markdown",
   "id": "584ee195-b6ef-49b4-a029-98135d3b7af4",
   "metadata": {},
   "source": [
    "### Taking sit and stand as one category so 5 clusters"
   ]
  },
  {
   "cell_type": "code",
   "execution_count": 103,
   "id": "f7b61e4b-31a1-4895-94d1-c3b81768d97b",
   "metadata": {},
   "outputs": [
    {
     "name": "stdout",
     "output_type": "stream",
     "text": [
      "[0 0 0 ... 0 0 0]\n"
     ]
    }
   ],
   "source": [
    "Z5 = AgglomerativeClustering(n_clusters=5, linkage='average')\n",
    "Z5.fit_predict(datao[columns_to_categorize])\n",
    "print(Z5.labels_)"
   ]
  },
  {
   "cell_type": "code",
   "execution_count": 104,
   "id": "ef838a7a-1b2f-47a9-9da5-1ef6ddfaf6cd",
   "metadata": {},
   "outputs": [],
   "source": [
    "df['labels'] = Z5.labels_"
   ]
  },
  {
   "cell_type": "code",
   "execution_count": 105,
   "id": "043a735a-d4fe-4f99-94d8-76af8adc4991",
   "metadata": {},
   "outputs": [
    {
     "data": {
      "text/html": [
       "<div>\n",
       "<style scoped>\n",
       "    .dataframe tbody tr th:only-of-type {\n",
       "        vertical-align: middle;\n",
       "    }\n",
       "\n",
       "    .dataframe tbody tr th {\n",
       "        vertical-align: top;\n",
       "    }\n",
       "\n",
       "    .dataframe thead th {\n",
       "        text-align: right;\n",
       "    }\n",
       "</style>\n",
       "<table border=\"1\" class=\"dataframe\">\n",
       "  <thead>\n",
       "    <tr style=\"text-align: right;\">\n",
       "      <th></th>\n",
       "      <th>attitude.roll</th>\n",
       "      <th>attitude.pitch</th>\n",
       "      <th>attitude.yaw</th>\n",
       "      <th>gravity.x</th>\n",
       "      <th>gravity.y</th>\n",
       "      <th>gravity.z</th>\n",
       "      <th>rotationRate.x</th>\n",
       "      <th>rotationRate.y</th>\n",
       "      <th>rotationRate.z</th>\n",
       "      <th>userAcceleration.x</th>\n",
       "      <th>userAcceleration.y</th>\n",
       "      <th>userAcceleration.z</th>\n",
       "      <th>type</th>\n",
       "      <th>row_num</th>\n",
       "      <th>outlier</th>\n",
       "      <th>labels</th>\n",
       "    </tr>\n",
       "  </thead>\n",
       "  <tbody>\n",
       "    <tr>\n",
       "      <th>0</th>\n",
       "      <td>mid</td>\n",
       "      <td>low</td>\n",
       "      <td>mid</td>\n",
       "      <td>mid</td>\n",
       "      <td>high</td>\n",
       "      <td>mid</td>\n",
       "      <td>low</td>\n",
       "      <td>mid</td>\n",
       "      <td>mid</td>\n",
       "      <td>mid</td>\n",
       "      <td>low</td>\n",
       "      <td>mid</td>\n",
       "      <td>dws</td>\n",
       "      <td>0</td>\n",
       "      <td>0</td>\n",
       "      <td>0</td>\n",
       "    </tr>\n",
       "    <tr>\n",
       "      <th>1</th>\n",
       "      <td>mid</td>\n",
       "      <td>low</td>\n",
       "      <td>mid</td>\n",
       "      <td>mid</td>\n",
       "      <td>high</td>\n",
       "      <td>mid</td>\n",
       "      <td>low</td>\n",
       "      <td>mid</td>\n",
       "      <td>mid</td>\n",
       "      <td>low</td>\n",
       "      <td>mid</td>\n",
       "      <td>low</td>\n",
       "      <td>dws</td>\n",
       "      <td>1</td>\n",
       "      <td>0</td>\n",
       "      <td>0</td>\n",
       "    </tr>\n",
       "    <tr>\n",
       "      <th>2</th>\n",
       "      <td>mid</td>\n",
       "      <td>low</td>\n",
       "      <td>mid</td>\n",
       "      <td>mid</td>\n",
       "      <td>high</td>\n",
       "      <td>mid</td>\n",
       "      <td>mid</td>\n",
       "      <td>mid</td>\n",
       "      <td>mid</td>\n",
       "      <td>low</td>\n",
       "      <td>low</td>\n",
       "      <td>mid</td>\n",
       "      <td>dws</td>\n",
       "      <td>2</td>\n",
       "      <td>0</td>\n",
       "      <td>0</td>\n",
       "    </tr>\n",
       "    <tr>\n",
       "      <th>3</th>\n",
       "      <td>mid</td>\n",
       "      <td>low</td>\n",
       "      <td>mid</td>\n",
       "      <td>mid</td>\n",
       "      <td>high</td>\n",
       "      <td>mid</td>\n",
       "      <td>mid</td>\n",
       "      <td>mid</td>\n",
       "      <td>mid</td>\n",
       "      <td>low</td>\n",
       "      <td>low</td>\n",
       "      <td>mid</td>\n",
       "      <td>dws</td>\n",
       "      <td>3</td>\n",
       "      <td>0</td>\n",
       "      <td>0</td>\n",
       "    </tr>\n",
       "    <tr>\n",
       "      <th>4</th>\n",
       "      <td>mid</td>\n",
       "      <td>low</td>\n",
       "      <td>mid</td>\n",
       "      <td>mid</td>\n",
       "      <td>high</td>\n",
       "      <td>mid</td>\n",
       "      <td>low</td>\n",
       "      <td>mid</td>\n",
       "      <td>mid</td>\n",
       "      <td>low</td>\n",
       "      <td>low</td>\n",
       "      <td>mid</td>\n",
       "      <td>dws</td>\n",
       "      <td>4</td>\n",
       "      <td>0</td>\n",
       "      <td>0</td>\n",
       "    </tr>\n",
       "  </tbody>\n",
       "</table>\n",
       "</div>"
      ],
      "text/plain": [
       "  attitude.roll attitude.pitch attitude.yaw gravity.x gravity.y gravity.z  \\\n",
       "0           mid            low          mid       mid      high       mid   \n",
       "1           mid            low          mid       mid      high       mid   \n",
       "2           mid            low          mid       mid      high       mid   \n",
       "3           mid            low          mid       mid      high       mid   \n",
       "4           mid            low          mid       mid      high       mid   \n",
       "\n",
       "  rotationRate.x rotationRate.y rotationRate.z userAcceleration.x  \\\n",
       "0            low            mid            mid                mid   \n",
       "1            low            mid            mid                low   \n",
       "2            mid            mid            mid                low   \n",
       "3            mid            mid            mid                low   \n",
       "4            low            mid            mid                low   \n",
       "\n",
       "  userAcceleration.y userAcceleration.z type  row_num  outlier  labels  \n",
       "0                low                mid  dws        0        0       0  \n",
       "1                mid                low  dws        1        0       0  \n",
       "2                low                mid  dws        2        0       0  \n",
       "3                low                mid  dws        3        0       0  \n",
       "4                low                mid  dws        4        0       0  "
      ]
     },
     "execution_count": 105,
     "metadata": {},
     "output_type": "execute_result"
    }
   ],
   "source": [
    "df.head()"
   ]
  },
  {
   "cell_type": "code",
   "execution_count": 106,
   "id": "4220aefd-23be-437e-8e76-8c25e53db29b",
   "metadata": {},
   "outputs": [
    {
     "name": "stdout",
     "output_type": "stream",
     "text": [
      "labels         0      1    2    3    4\n",
      "outlier                               \n",
      "0        32894.0    0.0  2.0  1.0  3.0\n",
      "1          175.0  157.0  0.0  0.0  0.0\n"
     ]
    }
   ],
   "source": [
    "df_temp = df[['outlier', 'labels']]\n",
    "counts = df_temp.groupby('outlier')['labels'].value_counts().unstack().fillna(0)\n",
    "print(counts)\n"
   ]
  },
  {
   "cell_type": "code",
   "execution_count": 107,
   "id": "5568dd38-4656-4adb-9500-30c3d232a7f1",
   "metadata": {},
   "outputs": [
    {
     "name": "stdout",
     "output_type": "stream",
     "text": [
      "labels        0      1    2    3    4\n",
      "type                                 \n",
      "dws      5752.0    0.0  0.0  0.0  0.0\n",
      "jog      5522.0    0.0  2.0  1.0  3.0\n",
      "sit         0.0  157.0  0.0  0.0  0.0\n",
      "std       175.0    0.0  0.0  0.0  0.0\n",
      "ups      6719.0    0.0  0.0  0.0  0.0\n",
      "wlk     14901.0    0.0  0.0  0.0  0.0\n"
     ]
    }
   ],
   "source": [
    "df_temp = df[['type', 'labels']]\n",
    "counts = df_temp.groupby('type')['labels'].value_counts().unstack().fillna(0)\n",
    "print(counts)\n"
   ]
  },
  {
   "cell_type": "markdown",
   "id": "44820d8a-e318-4ff3-9881-0e97eb9231c1",
   "metadata": {},
   "source": [
    "### Taking motion (downstairs, upstairs, run, walk) or no motion (sit and stand) as the only categories so 2 clusters"
   ]
  },
  {
   "cell_type": "code",
   "execution_count": 108,
   "id": "77932f3c-8840-4c53-925e-460f370e0e76",
   "metadata": {},
   "outputs": [
    {
     "name": "stdout",
     "output_type": "stream",
     "text": [
      "[0 0 0 ... 0 0 0]\n"
     ]
    }
   ],
   "source": [
    "Z5 = AgglomerativeClustering(n_clusters=2, linkage='average')\n",
    "Z5.fit_predict(datao[columns_to_categorize])\n",
    "print(Z5.labels_)"
   ]
  },
  {
   "cell_type": "code",
   "execution_count": 109,
   "id": "3959e8b9-4d98-412a-b18b-e7a5c825b946",
   "metadata": {},
   "outputs": [],
   "source": [
    "df['labels'] = Z5.labels_"
   ]
  },
  {
   "cell_type": "code",
   "execution_count": 110,
   "id": "25893ef5-69df-42be-99c2-c7d47d9607e7",
   "metadata": {},
   "outputs": [
    {
     "data": {
      "text/html": [
       "<div>\n",
       "<style scoped>\n",
       "    .dataframe tbody tr th:only-of-type {\n",
       "        vertical-align: middle;\n",
       "    }\n",
       "\n",
       "    .dataframe tbody tr th {\n",
       "        vertical-align: top;\n",
       "    }\n",
       "\n",
       "    .dataframe thead th {\n",
       "        text-align: right;\n",
       "    }\n",
       "</style>\n",
       "<table border=\"1\" class=\"dataframe\">\n",
       "  <thead>\n",
       "    <tr style=\"text-align: right;\">\n",
       "      <th></th>\n",
       "      <th>attitude.roll</th>\n",
       "      <th>attitude.pitch</th>\n",
       "      <th>attitude.yaw</th>\n",
       "      <th>gravity.x</th>\n",
       "      <th>gravity.y</th>\n",
       "      <th>gravity.z</th>\n",
       "      <th>rotationRate.x</th>\n",
       "      <th>rotationRate.y</th>\n",
       "      <th>rotationRate.z</th>\n",
       "      <th>userAcceleration.x</th>\n",
       "      <th>userAcceleration.y</th>\n",
       "      <th>userAcceleration.z</th>\n",
       "      <th>type</th>\n",
       "      <th>row_num</th>\n",
       "      <th>outlier</th>\n",
       "      <th>labels</th>\n",
       "    </tr>\n",
       "  </thead>\n",
       "  <tbody>\n",
       "    <tr>\n",
       "      <th>0</th>\n",
       "      <td>mid</td>\n",
       "      <td>low</td>\n",
       "      <td>mid</td>\n",
       "      <td>mid</td>\n",
       "      <td>high</td>\n",
       "      <td>mid</td>\n",
       "      <td>low</td>\n",
       "      <td>mid</td>\n",
       "      <td>mid</td>\n",
       "      <td>mid</td>\n",
       "      <td>low</td>\n",
       "      <td>mid</td>\n",
       "      <td>dws</td>\n",
       "      <td>0</td>\n",
       "      <td>0</td>\n",
       "      <td>0</td>\n",
       "    </tr>\n",
       "    <tr>\n",
       "      <th>1</th>\n",
       "      <td>mid</td>\n",
       "      <td>low</td>\n",
       "      <td>mid</td>\n",
       "      <td>mid</td>\n",
       "      <td>high</td>\n",
       "      <td>mid</td>\n",
       "      <td>low</td>\n",
       "      <td>mid</td>\n",
       "      <td>mid</td>\n",
       "      <td>low</td>\n",
       "      <td>mid</td>\n",
       "      <td>low</td>\n",
       "      <td>dws</td>\n",
       "      <td>1</td>\n",
       "      <td>0</td>\n",
       "      <td>0</td>\n",
       "    </tr>\n",
       "    <tr>\n",
       "      <th>2</th>\n",
       "      <td>mid</td>\n",
       "      <td>low</td>\n",
       "      <td>mid</td>\n",
       "      <td>mid</td>\n",
       "      <td>high</td>\n",
       "      <td>mid</td>\n",
       "      <td>mid</td>\n",
       "      <td>mid</td>\n",
       "      <td>mid</td>\n",
       "      <td>low</td>\n",
       "      <td>low</td>\n",
       "      <td>mid</td>\n",
       "      <td>dws</td>\n",
       "      <td>2</td>\n",
       "      <td>0</td>\n",
       "      <td>0</td>\n",
       "    </tr>\n",
       "    <tr>\n",
       "      <th>3</th>\n",
       "      <td>mid</td>\n",
       "      <td>low</td>\n",
       "      <td>mid</td>\n",
       "      <td>mid</td>\n",
       "      <td>high</td>\n",
       "      <td>mid</td>\n",
       "      <td>mid</td>\n",
       "      <td>mid</td>\n",
       "      <td>mid</td>\n",
       "      <td>low</td>\n",
       "      <td>low</td>\n",
       "      <td>mid</td>\n",
       "      <td>dws</td>\n",
       "      <td>3</td>\n",
       "      <td>0</td>\n",
       "      <td>0</td>\n",
       "    </tr>\n",
       "    <tr>\n",
       "      <th>4</th>\n",
       "      <td>mid</td>\n",
       "      <td>low</td>\n",
       "      <td>mid</td>\n",
       "      <td>mid</td>\n",
       "      <td>high</td>\n",
       "      <td>mid</td>\n",
       "      <td>low</td>\n",
       "      <td>mid</td>\n",
       "      <td>mid</td>\n",
       "      <td>low</td>\n",
       "      <td>low</td>\n",
       "      <td>mid</td>\n",
       "      <td>dws</td>\n",
       "      <td>4</td>\n",
       "      <td>0</td>\n",
       "      <td>0</td>\n",
       "    </tr>\n",
       "  </tbody>\n",
       "</table>\n",
       "</div>"
      ],
      "text/plain": [
       "  attitude.roll attitude.pitch attitude.yaw gravity.x gravity.y gravity.z  \\\n",
       "0           mid            low          mid       mid      high       mid   \n",
       "1           mid            low          mid       mid      high       mid   \n",
       "2           mid            low          mid       mid      high       mid   \n",
       "3           mid            low          mid       mid      high       mid   \n",
       "4           mid            low          mid       mid      high       mid   \n",
       "\n",
       "  rotationRate.x rotationRate.y rotationRate.z userAcceleration.x  \\\n",
       "0            low            mid            mid                mid   \n",
       "1            low            mid            mid                low   \n",
       "2            mid            mid            mid                low   \n",
       "3            mid            mid            mid                low   \n",
       "4            low            mid            mid                low   \n",
       "\n",
       "  userAcceleration.y userAcceleration.z type  row_num  outlier  labels  \n",
       "0                low                mid  dws        0        0       0  \n",
       "1                mid                low  dws        1        0       0  \n",
       "2                low                mid  dws        2        0       0  \n",
       "3                low                mid  dws        3        0       0  \n",
       "4                low                mid  dws        4        0       0  "
      ]
     },
     "execution_count": 110,
     "metadata": {},
     "output_type": "execute_result"
    }
   ],
   "source": [
    "df.head()"
   ]
  },
  {
   "cell_type": "code",
   "execution_count": 111,
   "id": "34c49921-71a1-4360-b873-31eeebc3c121",
   "metadata": {},
   "outputs": [
    {
     "name": "stdout",
     "output_type": "stream",
     "text": [
      "labels         0      1\n",
      "outlier                \n",
      "0        32900.0    0.0\n",
      "1          175.0  157.0\n"
     ]
    }
   ],
   "source": [
    "df_temp = df[['outlier', 'labels']]\n",
    "counts = df_temp.groupby('outlier')['labels'].value_counts().unstack().fillna(0)\n",
    "print(counts)\n"
   ]
  },
  {
   "cell_type": "code",
   "execution_count": 112,
   "id": "3205624c-4aac-4935-8a91-75045258145a",
   "metadata": {},
   "outputs": [
    {
     "name": "stdout",
     "output_type": "stream",
     "text": [
      "labels        0      1\n",
      "type                  \n",
      "dws      5752.0    0.0\n",
      "jog      5528.0    0.0\n",
      "sit         0.0  157.0\n",
      "std       175.0    0.0\n",
      "ups      6719.0    0.0\n",
      "wlk     14901.0    0.0\n"
     ]
    }
   ],
   "source": [
    "df_temp = df[['type', 'labels']]\n",
    "counts = df_temp.groupby('type')['labels'].value_counts().unstack().fillna(0)\n",
    "print(counts)\n"
   ]
  },
  {
   "cell_type": "markdown",
   "id": "373387c0-db8b-4095-b137-566041107702",
   "metadata": {},
   "source": [
    "## Complete with Euclidean (Z2)"
   ]
  },
  {
   "cell_type": "code",
   "execution_count": 113,
   "id": "a335afce-65d3-4b5c-8e7f-1446ddae2a65",
   "metadata": {},
   "outputs": [
    {
     "name": "stdout",
     "output_type": "stream",
     "text": [
      "[2 2 2 ... 4 4 4]\n"
     ]
    }
   ],
   "source": [
    "Z5 = AgglomerativeClustering(n_clusters=len(datao['type'].unique()), linkage='complete')\n",
    "Z5.fit_predict(datao[columns_to_categorize])\n",
    "print(Z5.labels_)"
   ]
  },
  {
   "cell_type": "code",
   "execution_count": 114,
   "id": "3d81cb94-4c4e-445b-bfd3-30eb810d69d4",
   "metadata": {},
   "outputs": [],
   "source": [
    "df['labels'] = Z5.labels_"
   ]
  },
  {
   "cell_type": "code",
   "execution_count": 115,
   "id": "eb67250f-d4dd-423d-8ef5-c0902ae92ff5",
   "metadata": {},
   "outputs": [
    {
     "data": {
      "text/html": [
       "<div>\n",
       "<style scoped>\n",
       "    .dataframe tbody tr th:only-of-type {\n",
       "        vertical-align: middle;\n",
       "    }\n",
       "\n",
       "    .dataframe tbody tr th {\n",
       "        vertical-align: top;\n",
       "    }\n",
       "\n",
       "    .dataframe thead th {\n",
       "        text-align: right;\n",
       "    }\n",
       "</style>\n",
       "<table border=\"1\" class=\"dataframe\">\n",
       "  <thead>\n",
       "    <tr style=\"text-align: right;\">\n",
       "      <th></th>\n",
       "      <th>attitude.roll</th>\n",
       "      <th>attitude.pitch</th>\n",
       "      <th>attitude.yaw</th>\n",
       "      <th>gravity.x</th>\n",
       "      <th>gravity.y</th>\n",
       "      <th>gravity.z</th>\n",
       "      <th>rotationRate.x</th>\n",
       "      <th>rotationRate.y</th>\n",
       "      <th>rotationRate.z</th>\n",
       "      <th>userAcceleration.x</th>\n",
       "      <th>userAcceleration.y</th>\n",
       "      <th>userAcceleration.z</th>\n",
       "      <th>type</th>\n",
       "      <th>row_num</th>\n",
       "      <th>outlier</th>\n",
       "      <th>labels</th>\n",
       "    </tr>\n",
       "  </thead>\n",
       "  <tbody>\n",
       "    <tr>\n",
       "      <th>0</th>\n",
       "      <td>mid</td>\n",
       "      <td>low</td>\n",
       "      <td>mid</td>\n",
       "      <td>mid</td>\n",
       "      <td>high</td>\n",
       "      <td>mid</td>\n",
       "      <td>low</td>\n",
       "      <td>mid</td>\n",
       "      <td>mid</td>\n",
       "      <td>mid</td>\n",
       "      <td>low</td>\n",
       "      <td>mid</td>\n",
       "      <td>dws</td>\n",
       "      <td>0</td>\n",
       "      <td>0</td>\n",
       "      <td>2</td>\n",
       "    </tr>\n",
       "    <tr>\n",
       "      <th>1</th>\n",
       "      <td>mid</td>\n",
       "      <td>low</td>\n",
       "      <td>mid</td>\n",
       "      <td>mid</td>\n",
       "      <td>high</td>\n",
       "      <td>mid</td>\n",
       "      <td>low</td>\n",
       "      <td>mid</td>\n",
       "      <td>mid</td>\n",
       "      <td>low</td>\n",
       "      <td>mid</td>\n",
       "      <td>low</td>\n",
       "      <td>dws</td>\n",
       "      <td>1</td>\n",
       "      <td>0</td>\n",
       "      <td>2</td>\n",
       "    </tr>\n",
       "    <tr>\n",
       "      <th>2</th>\n",
       "      <td>mid</td>\n",
       "      <td>low</td>\n",
       "      <td>mid</td>\n",
       "      <td>mid</td>\n",
       "      <td>high</td>\n",
       "      <td>mid</td>\n",
       "      <td>mid</td>\n",
       "      <td>mid</td>\n",
       "      <td>mid</td>\n",
       "      <td>low</td>\n",
       "      <td>low</td>\n",
       "      <td>mid</td>\n",
       "      <td>dws</td>\n",
       "      <td>2</td>\n",
       "      <td>0</td>\n",
       "      <td>2</td>\n",
       "    </tr>\n",
       "    <tr>\n",
       "      <th>3</th>\n",
       "      <td>mid</td>\n",
       "      <td>low</td>\n",
       "      <td>mid</td>\n",
       "      <td>mid</td>\n",
       "      <td>high</td>\n",
       "      <td>mid</td>\n",
       "      <td>mid</td>\n",
       "      <td>mid</td>\n",
       "      <td>mid</td>\n",
       "      <td>low</td>\n",
       "      <td>low</td>\n",
       "      <td>mid</td>\n",
       "      <td>dws</td>\n",
       "      <td>3</td>\n",
       "      <td>0</td>\n",
       "      <td>2</td>\n",
       "    </tr>\n",
       "    <tr>\n",
       "      <th>4</th>\n",
       "      <td>mid</td>\n",
       "      <td>low</td>\n",
       "      <td>mid</td>\n",
       "      <td>mid</td>\n",
       "      <td>high</td>\n",
       "      <td>mid</td>\n",
       "      <td>low</td>\n",
       "      <td>mid</td>\n",
       "      <td>mid</td>\n",
       "      <td>low</td>\n",
       "      <td>low</td>\n",
       "      <td>mid</td>\n",
       "      <td>dws</td>\n",
       "      <td>4</td>\n",
       "      <td>0</td>\n",
       "      <td>2</td>\n",
       "    </tr>\n",
       "  </tbody>\n",
       "</table>\n",
       "</div>"
      ],
      "text/plain": [
       "  attitude.roll attitude.pitch attitude.yaw gravity.x gravity.y gravity.z  \\\n",
       "0           mid            low          mid       mid      high       mid   \n",
       "1           mid            low          mid       mid      high       mid   \n",
       "2           mid            low          mid       mid      high       mid   \n",
       "3           mid            low          mid       mid      high       mid   \n",
       "4           mid            low          mid       mid      high       mid   \n",
       "\n",
       "  rotationRate.x rotationRate.y rotationRate.z userAcceleration.x  \\\n",
       "0            low            mid            mid                mid   \n",
       "1            low            mid            mid                low   \n",
       "2            mid            mid            mid                low   \n",
       "3            mid            mid            mid                low   \n",
       "4            low            mid            mid                low   \n",
       "\n",
       "  userAcceleration.y userAcceleration.z type  row_num  outlier  labels  \n",
       "0                low                mid  dws        0        0       2  \n",
       "1                mid                low  dws        1        0       2  \n",
       "2                low                mid  dws        2        0       2  \n",
       "3                low                mid  dws        3        0       2  \n",
       "4                low                mid  dws        4        0       2  "
      ]
     },
     "execution_count": 115,
     "metadata": {},
     "output_type": "execute_result"
    }
   ],
   "source": [
    "df.head()"
   ]
  },
  {
   "cell_type": "code",
   "execution_count": 116,
   "id": "ed35d4d0-d1aa-482e-9b86-665263f9d746",
   "metadata": {},
   "outputs": [
    {
     "name": "stdout",
     "output_type": "stream",
     "text": [
      "labels        0       1        2       3       4       5\n",
      "outlier                                                 \n",
      "0        5772.0  6553.0  10454.0  4537.0  2036.0  3548.0\n",
      "1         157.0     0.0      1.0     0.0    33.0   141.0\n"
     ]
    }
   ],
   "source": [
    "df_temp = df[['outlier', 'labels']]\n",
    "counts = df_temp.groupby('outlier')['labels'].value_counts().unstack().fillna(0)\n",
    "print(counts)\n"
   ]
  },
  {
   "cell_type": "code",
   "execution_count": 117,
   "id": "7aa5f345-80b7-4615-ba5f-e2050e0f790f",
   "metadata": {},
   "outputs": [
    {
     "name": "stdout",
     "output_type": "stream",
     "text": [
      "labels       0       1       2       3       4       5\n",
      "type                                                  \n",
      "dws      367.0  1022.0  2056.0  1539.0   193.0   575.0\n",
      "jog      179.0  1056.0  1358.0   975.0  1144.0   816.0\n",
      "sit      157.0     0.0     0.0     0.0     0.0     0.0\n",
      "std        0.0     0.0     1.0     0.0    33.0   141.0\n",
      "ups      980.0  1433.0  2341.0   932.0   377.0   656.0\n",
      "wlk     4246.0  3042.0  4699.0  1091.0   322.0  1501.0\n"
     ]
    }
   ],
   "source": [
    "df_temp = df[['type', 'labels']]\n",
    "counts = df_temp.groupby('type')['labels'].value_counts().unstack().fillna(0)\n",
    "print(counts)\n"
   ]
  },
  {
   "cell_type": "markdown",
   "id": "ac483004-00a3-4b6c-9836-ffcb87fc8fe0",
   "metadata": {
    "tags": []
   },
   "source": [
    "### Taking sit and stand as one category so 5 clusters"
   ]
  },
  {
   "cell_type": "code",
   "execution_count": 118,
   "id": "ded7612f-95f9-4790-9d7e-85e4281d6ecf",
   "metadata": {},
   "outputs": [
    {
     "name": "stdout",
     "output_type": "stream",
     "text": [
      "[2 2 2 ... 4 4 4]\n"
     ]
    }
   ],
   "source": [
    "Z5 = AgglomerativeClustering(n_clusters=5, linkage='complete')\n",
    "Z5.fit_predict(datao[columns_to_categorize])\n",
    "print(Z5.labels_)"
   ]
  },
  {
   "cell_type": "code",
   "execution_count": 119,
   "id": "e4e8445a-bd8c-435d-9aa8-90a08dd37bd4",
   "metadata": {},
   "outputs": [],
   "source": [
    "df['labels'] = Z5.labels_"
   ]
  },
  {
   "cell_type": "code",
   "execution_count": 120,
   "id": "3c71b901-c52f-4893-b6a2-50d54275b1bc",
   "metadata": {},
   "outputs": [
    {
     "data": {
      "text/html": [
       "<div>\n",
       "<style scoped>\n",
       "    .dataframe tbody tr th:only-of-type {\n",
       "        vertical-align: middle;\n",
       "    }\n",
       "\n",
       "    .dataframe tbody tr th {\n",
       "        vertical-align: top;\n",
       "    }\n",
       "\n",
       "    .dataframe thead th {\n",
       "        text-align: right;\n",
       "    }\n",
       "</style>\n",
       "<table border=\"1\" class=\"dataframe\">\n",
       "  <thead>\n",
       "    <tr style=\"text-align: right;\">\n",
       "      <th></th>\n",
       "      <th>attitude.roll</th>\n",
       "      <th>attitude.pitch</th>\n",
       "      <th>attitude.yaw</th>\n",
       "      <th>gravity.x</th>\n",
       "      <th>gravity.y</th>\n",
       "      <th>gravity.z</th>\n",
       "      <th>rotationRate.x</th>\n",
       "      <th>rotationRate.y</th>\n",
       "      <th>rotationRate.z</th>\n",
       "      <th>userAcceleration.x</th>\n",
       "      <th>userAcceleration.y</th>\n",
       "      <th>userAcceleration.z</th>\n",
       "      <th>type</th>\n",
       "      <th>row_num</th>\n",
       "      <th>outlier</th>\n",
       "      <th>labels</th>\n",
       "    </tr>\n",
       "  </thead>\n",
       "  <tbody>\n",
       "    <tr>\n",
       "      <th>0</th>\n",
       "      <td>mid</td>\n",
       "      <td>low</td>\n",
       "      <td>mid</td>\n",
       "      <td>mid</td>\n",
       "      <td>high</td>\n",
       "      <td>mid</td>\n",
       "      <td>low</td>\n",
       "      <td>mid</td>\n",
       "      <td>mid</td>\n",
       "      <td>mid</td>\n",
       "      <td>low</td>\n",
       "      <td>mid</td>\n",
       "      <td>dws</td>\n",
       "      <td>0</td>\n",
       "      <td>0</td>\n",
       "      <td>2</td>\n",
       "    </tr>\n",
       "    <tr>\n",
       "      <th>1</th>\n",
       "      <td>mid</td>\n",
       "      <td>low</td>\n",
       "      <td>mid</td>\n",
       "      <td>mid</td>\n",
       "      <td>high</td>\n",
       "      <td>mid</td>\n",
       "      <td>low</td>\n",
       "      <td>mid</td>\n",
       "      <td>mid</td>\n",
       "      <td>low</td>\n",
       "      <td>mid</td>\n",
       "      <td>low</td>\n",
       "      <td>dws</td>\n",
       "      <td>1</td>\n",
       "      <td>0</td>\n",
       "      <td>2</td>\n",
       "    </tr>\n",
       "    <tr>\n",
       "      <th>2</th>\n",
       "      <td>mid</td>\n",
       "      <td>low</td>\n",
       "      <td>mid</td>\n",
       "      <td>mid</td>\n",
       "      <td>high</td>\n",
       "      <td>mid</td>\n",
       "      <td>mid</td>\n",
       "      <td>mid</td>\n",
       "      <td>mid</td>\n",
       "      <td>low</td>\n",
       "      <td>low</td>\n",
       "      <td>mid</td>\n",
       "      <td>dws</td>\n",
       "      <td>2</td>\n",
       "      <td>0</td>\n",
       "      <td>2</td>\n",
       "    </tr>\n",
       "    <tr>\n",
       "      <th>3</th>\n",
       "      <td>mid</td>\n",
       "      <td>low</td>\n",
       "      <td>mid</td>\n",
       "      <td>mid</td>\n",
       "      <td>high</td>\n",
       "      <td>mid</td>\n",
       "      <td>mid</td>\n",
       "      <td>mid</td>\n",
       "      <td>mid</td>\n",
       "      <td>low</td>\n",
       "      <td>low</td>\n",
       "      <td>mid</td>\n",
       "      <td>dws</td>\n",
       "      <td>3</td>\n",
       "      <td>0</td>\n",
       "      <td>2</td>\n",
       "    </tr>\n",
       "    <tr>\n",
       "      <th>4</th>\n",
       "      <td>mid</td>\n",
       "      <td>low</td>\n",
       "      <td>mid</td>\n",
       "      <td>mid</td>\n",
       "      <td>high</td>\n",
       "      <td>mid</td>\n",
       "      <td>low</td>\n",
       "      <td>mid</td>\n",
       "      <td>mid</td>\n",
       "      <td>low</td>\n",
       "      <td>low</td>\n",
       "      <td>mid</td>\n",
       "      <td>dws</td>\n",
       "      <td>4</td>\n",
       "      <td>0</td>\n",
       "      <td>2</td>\n",
       "    </tr>\n",
       "  </tbody>\n",
       "</table>\n",
       "</div>"
      ],
      "text/plain": [
       "  attitude.roll attitude.pitch attitude.yaw gravity.x gravity.y gravity.z  \\\n",
       "0           mid            low          mid       mid      high       mid   \n",
       "1           mid            low          mid       mid      high       mid   \n",
       "2           mid            low          mid       mid      high       mid   \n",
       "3           mid            low          mid       mid      high       mid   \n",
       "4           mid            low          mid       mid      high       mid   \n",
       "\n",
       "  rotationRate.x rotationRate.y rotationRate.z userAcceleration.x  \\\n",
       "0            low            mid            mid                mid   \n",
       "1            low            mid            mid                low   \n",
       "2            mid            mid            mid                low   \n",
       "3            mid            mid            mid                low   \n",
       "4            low            mid            mid                low   \n",
       "\n",
       "  userAcceleration.y userAcceleration.z type  row_num  outlier  labels  \n",
       "0                low                mid  dws        0        0       2  \n",
       "1                mid                low  dws        1        0       2  \n",
       "2                low                mid  dws        2        0       2  \n",
       "3                low                mid  dws        3        0       2  \n",
       "4                low                mid  dws        4        0       2  "
      ]
     },
     "execution_count": 120,
     "metadata": {},
     "output_type": "execute_result"
    }
   ],
   "source": [
    "df.head()"
   ]
  },
  {
   "cell_type": "code",
   "execution_count": 121,
   "id": "49896f3c-f427-4787-b258-09fd0f741c4c",
   "metadata": {},
   "outputs": [
    {
     "name": "stdout",
     "output_type": "stream",
     "text": [
      "labels        0       1        2       3       4\n",
      "outlier                                         \n",
      "0        8085.0  5772.0  10454.0  6553.0  2036.0\n",
      "1         141.0   157.0      1.0     0.0    33.0\n"
     ]
    }
   ],
   "source": [
    "df_temp = df[['outlier', 'labels']]\n",
    "counts = df_temp.groupby('outlier')['labels'].value_counts().unstack().fillna(0)\n",
    "print(counts)\n"
   ]
  },
  {
   "cell_type": "code",
   "execution_count": 122,
   "id": "560c32c7-2510-4d8f-8811-fd237da0114e",
   "metadata": {},
   "outputs": [
    {
     "name": "stdout",
     "output_type": "stream",
     "text": [
      "labels       0       1       2       3       4\n",
      "type                                          \n",
      "dws     2114.0   367.0  2056.0  1022.0   193.0\n",
      "jog     1791.0   179.0  1358.0  1056.0  1144.0\n",
      "sit        0.0   157.0     0.0     0.0     0.0\n",
      "std      141.0     0.0     1.0     0.0    33.0\n",
      "ups     1588.0   980.0  2341.0  1433.0   377.0\n",
      "wlk     2592.0  4246.0  4699.0  3042.0   322.0\n"
     ]
    }
   ],
   "source": [
    "df_temp = df[['type', 'labels']]\n",
    "counts = df_temp.groupby('type')['labels'].value_counts().unstack().fillna(0)\n",
    "print(counts)\n"
   ]
  },
  {
   "cell_type": "markdown",
   "id": "1fdd2c20-47f7-42f3-b5c3-2236a5e330c6",
   "metadata": {},
   "source": [
    "### Taking motion (downstairs, upstairs, run, walk) or no motion (sit and stand) as the only categories so 2 clusters"
   ]
  },
  {
   "cell_type": "code",
   "execution_count": 123,
   "id": "199f97c9-c63c-46ef-944d-923af7233974",
   "metadata": {},
   "outputs": [
    {
     "name": "stdout",
     "output_type": "stream",
     "text": [
      "[0 0 0 ... 0 0 0]\n"
     ]
    }
   ],
   "source": [
    "Z5 = AgglomerativeClustering(n_clusters=2, linkage='complete')\n",
    "Z5.fit_predict(datao[columns_to_categorize])\n",
    "print(Z5.labels_)"
   ]
  },
  {
   "cell_type": "code",
   "execution_count": 124,
   "id": "7426bf4c-db4d-4827-8950-81b11cd904b2",
   "metadata": {},
   "outputs": [],
   "source": [
    "df['labels'] = Z5.labels_"
   ]
  },
  {
   "cell_type": "code",
   "execution_count": 125,
   "id": "a19f95a9-529c-4fed-9da2-4e7a0e7bf637",
   "metadata": {},
   "outputs": [
    {
     "data": {
      "text/html": [
       "<div>\n",
       "<style scoped>\n",
       "    .dataframe tbody tr th:only-of-type {\n",
       "        vertical-align: middle;\n",
       "    }\n",
       "\n",
       "    .dataframe tbody tr th {\n",
       "        vertical-align: top;\n",
       "    }\n",
       "\n",
       "    .dataframe thead th {\n",
       "        text-align: right;\n",
       "    }\n",
       "</style>\n",
       "<table border=\"1\" class=\"dataframe\">\n",
       "  <thead>\n",
       "    <tr style=\"text-align: right;\">\n",
       "      <th></th>\n",
       "      <th>attitude.roll</th>\n",
       "      <th>attitude.pitch</th>\n",
       "      <th>attitude.yaw</th>\n",
       "      <th>gravity.x</th>\n",
       "      <th>gravity.y</th>\n",
       "      <th>gravity.z</th>\n",
       "      <th>rotationRate.x</th>\n",
       "      <th>rotationRate.y</th>\n",
       "      <th>rotationRate.z</th>\n",
       "      <th>userAcceleration.x</th>\n",
       "      <th>userAcceleration.y</th>\n",
       "      <th>userAcceleration.z</th>\n",
       "      <th>type</th>\n",
       "      <th>row_num</th>\n",
       "      <th>outlier</th>\n",
       "      <th>labels</th>\n",
       "    </tr>\n",
       "  </thead>\n",
       "  <tbody>\n",
       "    <tr>\n",
       "      <th>0</th>\n",
       "      <td>mid</td>\n",
       "      <td>low</td>\n",
       "      <td>mid</td>\n",
       "      <td>mid</td>\n",
       "      <td>high</td>\n",
       "      <td>mid</td>\n",
       "      <td>low</td>\n",
       "      <td>mid</td>\n",
       "      <td>mid</td>\n",
       "      <td>mid</td>\n",
       "      <td>low</td>\n",
       "      <td>mid</td>\n",
       "      <td>dws</td>\n",
       "      <td>0</td>\n",
       "      <td>0</td>\n",
       "      <td>0</td>\n",
       "    </tr>\n",
       "    <tr>\n",
       "      <th>1</th>\n",
       "      <td>mid</td>\n",
       "      <td>low</td>\n",
       "      <td>mid</td>\n",
       "      <td>mid</td>\n",
       "      <td>high</td>\n",
       "      <td>mid</td>\n",
       "      <td>low</td>\n",
       "      <td>mid</td>\n",
       "      <td>mid</td>\n",
       "      <td>low</td>\n",
       "      <td>mid</td>\n",
       "      <td>low</td>\n",
       "      <td>dws</td>\n",
       "      <td>1</td>\n",
       "      <td>0</td>\n",
       "      <td>0</td>\n",
       "    </tr>\n",
       "    <tr>\n",
       "      <th>2</th>\n",
       "      <td>mid</td>\n",
       "      <td>low</td>\n",
       "      <td>mid</td>\n",
       "      <td>mid</td>\n",
       "      <td>high</td>\n",
       "      <td>mid</td>\n",
       "      <td>mid</td>\n",
       "      <td>mid</td>\n",
       "      <td>mid</td>\n",
       "      <td>low</td>\n",
       "      <td>low</td>\n",
       "      <td>mid</td>\n",
       "      <td>dws</td>\n",
       "      <td>2</td>\n",
       "      <td>0</td>\n",
       "      <td>0</td>\n",
       "    </tr>\n",
       "    <tr>\n",
       "      <th>3</th>\n",
       "      <td>mid</td>\n",
       "      <td>low</td>\n",
       "      <td>mid</td>\n",
       "      <td>mid</td>\n",
       "      <td>high</td>\n",
       "      <td>mid</td>\n",
       "      <td>mid</td>\n",
       "      <td>mid</td>\n",
       "      <td>mid</td>\n",
       "      <td>low</td>\n",
       "      <td>low</td>\n",
       "      <td>mid</td>\n",
       "      <td>dws</td>\n",
       "      <td>3</td>\n",
       "      <td>0</td>\n",
       "      <td>0</td>\n",
       "    </tr>\n",
       "    <tr>\n",
       "      <th>4</th>\n",
       "      <td>mid</td>\n",
       "      <td>low</td>\n",
       "      <td>mid</td>\n",
       "      <td>mid</td>\n",
       "      <td>high</td>\n",
       "      <td>mid</td>\n",
       "      <td>low</td>\n",
       "      <td>mid</td>\n",
       "      <td>mid</td>\n",
       "      <td>low</td>\n",
       "      <td>low</td>\n",
       "      <td>mid</td>\n",
       "      <td>dws</td>\n",
       "      <td>4</td>\n",
       "      <td>0</td>\n",
       "      <td>0</td>\n",
       "    </tr>\n",
       "  </tbody>\n",
       "</table>\n",
       "</div>"
      ],
      "text/plain": [
       "  attitude.roll attitude.pitch attitude.yaw gravity.x gravity.y gravity.z  \\\n",
       "0           mid            low          mid       mid      high       mid   \n",
       "1           mid            low          mid       mid      high       mid   \n",
       "2           mid            low          mid       mid      high       mid   \n",
       "3           mid            low          mid       mid      high       mid   \n",
       "4           mid            low          mid       mid      high       mid   \n",
       "\n",
       "  rotationRate.x rotationRate.y rotationRate.z userAcceleration.x  \\\n",
       "0            low            mid            mid                mid   \n",
       "1            low            mid            mid                low   \n",
       "2            mid            mid            mid                low   \n",
       "3            mid            mid            mid                low   \n",
       "4            low            mid            mid                low   \n",
       "\n",
       "  userAcceleration.y userAcceleration.z type  row_num  outlier  labels  \n",
       "0                low                mid  dws        0        0       0  \n",
       "1                mid                low  dws        1        0       0  \n",
       "2                low                mid  dws        2        0       0  \n",
       "3                low                mid  dws        3        0       0  \n",
       "4                low                mid  dws        4        0       0  "
      ]
     },
     "execution_count": 125,
     "metadata": {},
     "output_type": "execute_result"
    }
   ],
   "source": [
    "df.head()"
   ]
  },
  {
   "cell_type": "code",
   "execution_count": 126,
   "id": "b0246556-108f-4e99-957b-ab3c2e37771e",
   "metadata": {},
   "outputs": [
    {
     "name": "stdout",
     "output_type": "stream",
     "text": [
      "labels       0     1\n",
      "outlier             \n",
      "0        27128  5772\n",
      "1          175   157\n"
     ]
    }
   ],
   "source": [
    "df_temp = df[['outlier', 'labels']]\n",
    "counts = df_temp.groupby('outlier')['labels'].value_counts().unstack().fillna(0)\n",
    "print(counts)\n"
   ]
  },
  {
   "cell_type": "code",
   "execution_count": 127,
   "id": "4f92ed33-c25a-484a-951c-23b06369f735",
   "metadata": {},
   "outputs": [
    {
     "name": "stdout",
     "output_type": "stream",
     "text": [
      "labels        0       1\n",
      "type                   \n",
      "dws      5385.0   367.0\n",
      "jog      5349.0   179.0\n",
      "sit         0.0   157.0\n",
      "std       175.0     0.0\n",
      "ups      5739.0   980.0\n",
      "wlk     10655.0  4246.0\n"
     ]
    }
   ],
   "source": [
    "df_temp = df[['type', 'labels']]\n",
    "counts = df_temp.groupby('type')['labels'].value_counts().unstack().fillna(0)\n",
    "print(counts)\n"
   ]
  },
  {
   "cell_type": "markdown",
   "id": "e4f0a5f1-4e15-470e-afdb-f93d10b7a267",
   "metadata": {
    "tags": []
   },
   "source": [
    "## Digging deep in average linkage with other distance metrics and hyperparameters"
   ]
  },
  {
   "cell_type": "markdown",
   "id": "8c52b5c5-d164-48d9-b09d-b2540648c4ac",
   "metadata": {},
   "source": [
    "#### Mahattan distance (L1)"
   ]
  },
  {
   "cell_type": "code",
   "execution_count": 128,
   "id": "07a810f2-258d-456c-bdec-d51bca19dfd6",
   "metadata": {},
   "outputs": [
    {
     "name": "stderr",
     "output_type": "stream",
     "text": [
      "/nfs/home/ikq2724/.local/lib/python3.9/site-packages/sklearn/cluster/_agglomerative.py:983: FutureWarning: Attribute `affinity` was deprecated in version 1.2 and will be removed in 1.4. Use `metric` instead\n",
      "  warnings.warn(\n"
     ]
    },
    {
     "name": "stdout",
     "output_type": "stream",
     "text": [
      "[0 0 0 ... 0 0 0]\n"
     ]
    }
   ],
   "source": [
    "Z5 = AgglomerativeClustering(n_clusters=2, linkage='average', affinity='l1')\n",
    "Z5.fit_predict(datao[columns_to_categorize])\n",
    "print(Z5.labels_)"
   ]
  },
  {
   "cell_type": "code",
   "execution_count": 129,
   "id": "f5ba544e-830f-47dc-b65e-5d7c9f36731c",
   "metadata": {},
   "outputs": [],
   "source": [
    "df['labels'] = Z5.labels_"
   ]
  },
  {
   "cell_type": "code",
   "execution_count": 130,
   "id": "0b10d799-5dfd-4e12-bc88-6f842fcaa71f",
   "metadata": {},
   "outputs": [
    {
     "data": {
      "text/html": [
       "<div>\n",
       "<style scoped>\n",
       "    .dataframe tbody tr th:only-of-type {\n",
       "        vertical-align: middle;\n",
       "    }\n",
       "\n",
       "    .dataframe tbody tr th {\n",
       "        vertical-align: top;\n",
       "    }\n",
       "\n",
       "    .dataframe thead th {\n",
       "        text-align: right;\n",
       "    }\n",
       "</style>\n",
       "<table border=\"1\" class=\"dataframe\">\n",
       "  <thead>\n",
       "    <tr style=\"text-align: right;\">\n",
       "      <th></th>\n",
       "      <th>attitude.roll</th>\n",
       "      <th>attitude.pitch</th>\n",
       "      <th>attitude.yaw</th>\n",
       "      <th>gravity.x</th>\n",
       "      <th>gravity.y</th>\n",
       "      <th>gravity.z</th>\n",
       "      <th>rotationRate.x</th>\n",
       "      <th>rotationRate.y</th>\n",
       "      <th>rotationRate.z</th>\n",
       "      <th>userAcceleration.x</th>\n",
       "      <th>userAcceleration.y</th>\n",
       "      <th>userAcceleration.z</th>\n",
       "      <th>type</th>\n",
       "      <th>row_num</th>\n",
       "      <th>outlier</th>\n",
       "      <th>labels</th>\n",
       "    </tr>\n",
       "  </thead>\n",
       "  <tbody>\n",
       "    <tr>\n",
       "      <th>0</th>\n",
       "      <td>mid</td>\n",
       "      <td>low</td>\n",
       "      <td>mid</td>\n",
       "      <td>mid</td>\n",
       "      <td>high</td>\n",
       "      <td>mid</td>\n",
       "      <td>low</td>\n",
       "      <td>mid</td>\n",
       "      <td>mid</td>\n",
       "      <td>mid</td>\n",
       "      <td>low</td>\n",
       "      <td>mid</td>\n",
       "      <td>dws</td>\n",
       "      <td>0</td>\n",
       "      <td>0</td>\n",
       "      <td>0</td>\n",
       "    </tr>\n",
       "    <tr>\n",
       "      <th>1</th>\n",
       "      <td>mid</td>\n",
       "      <td>low</td>\n",
       "      <td>mid</td>\n",
       "      <td>mid</td>\n",
       "      <td>high</td>\n",
       "      <td>mid</td>\n",
       "      <td>low</td>\n",
       "      <td>mid</td>\n",
       "      <td>mid</td>\n",
       "      <td>low</td>\n",
       "      <td>mid</td>\n",
       "      <td>low</td>\n",
       "      <td>dws</td>\n",
       "      <td>1</td>\n",
       "      <td>0</td>\n",
       "      <td>0</td>\n",
       "    </tr>\n",
       "    <tr>\n",
       "      <th>2</th>\n",
       "      <td>mid</td>\n",
       "      <td>low</td>\n",
       "      <td>mid</td>\n",
       "      <td>mid</td>\n",
       "      <td>high</td>\n",
       "      <td>mid</td>\n",
       "      <td>mid</td>\n",
       "      <td>mid</td>\n",
       "      <td>mid</td>\n",
       "      <td>low</td>\n",
       "      <td>low</td>\n",
       "      <td>mid</td>\n",
       "      <td>dws</td>\n",
       "      <td>2</td>\n",
       "      <td>0</td>\n",
       "      <td>0</td>\n",
       "    </tr>\n",
       "    <tr>\n",
       "      <th>3</th>\n",
       "      <td>mid</td>\n",
       "      <td>low</td>\n",
       "      <td>mid</td>\n",
       "      <td>mid</td>\n",
       "      <td>high</td>\n",
       "      <td>mid</td>\n",
       "      <td>mid</td>\n",
       "      <td>mid</td>\n",
       "      <td>mid</td>\n",
       "      <td>low</td>\n",
       "      <td>low</td>\n",
       "      <td>mid</td>\n",
       "      <td>dws</td>\n",
       "      <td>3</td>\n",
       "      <td>0</td>\n",
       "      <td>0</td>\n",
       "    </tr>\n",
       "    <tr>\n",
       "      <th>4</th>\n",
       "      <td>mid</td>\n",
       "      <td>low</td>\n",
       "      <td>mid</td>\n",
       "      <td>mid</td>\n",
       "      <td>high</td>\n",
       "      <td>mid</td>\n",
       "      <td>low</td>\n",
       "      <td>mid</td>\n",
       "      <td>mid</td>\n",
       "      <td>low</td>\n",
       "      <td>low</td>\n",
       "      <td>mid</td>\n",
       "      <td>dws</td>\n",
       "      <td>4</td>\n",
       "      <td>0</td>\n",
       "      <td>0</td>\n",
       "    </tr>\n",
       "  </tbody>\n",
       "</table>\n",
       "</div>"
      ],
      "text/plain": [
       "  attitude.roll attitude.pitch attitude.yaw gravity.x gravity.y gravity.z  \\\n",
       "0           mid            low          mid       mid      high       mid   \n",
       "1           mid            low          mid       mid      high       mid   \n",
       "2           mid            low          mid       mid      high       mid   \n",
       "3           mid            low          mid       mid      high       mid   \n",
       "4           mid            low          mid       mid      high       mid   \n",
       "\n",
       "  rotationRate.x rotationRate.y rotationRate.z userAcceleration.x  \\\n",
       "0            low            mid            mid                mid   \n",
       "1            low            mid            mid                low   \n",
       "2            mid            mid            mid                low   \n",
       "3            mid            mid            mid                low   \n",
       "4            low            mid            mid                low   \n",
       "\n",
       "  userAcceleration.y userAcceleration.z type  row_num  outlier  labels  \n",
       "0                low                mid  dws        0        0       0  \n",
       "1                mid                low  dws        1        0       0  \n",
       "2                low                mid  dws        2        0       0  \n",
       "3                low                mid  dws        3        0       0  \n",
       "4                low                mid  dws        4        0       0  "
      ]
     },
     "execution_count": 130,
     "metadata": {},
     "output_type": "execute_result"
    }
   ],
   "source": [
    "df.head()"
   ]
  },
  {
   "cell_type": "code",
   "execution_count": 131,
   "id": "58388c83-6e34-4e4c-9dad-dbff0f949f06",
   "metadata": {},
   "outputs": [
    {
     "name": "stdout",
     "output_type": "stream",
     "text": [
      "labels         0      1\n",
      "outlier                \n",
      "0        32900.0    0.0\n",
      "1          175.0  157.0\n"
     ]
    }
   ],
   "source": [
    "df_temp = df[['outlier', 'labels']]\n",
    "counts = df_temp.groupby('outlier')['labels'].value_counts().unstack().fillna(0)\n",
    "print(counts)\n"
   ]
  },
  {
   "cell_type": "code",
   "execution_count": 132,
   "id": "b1a60707-172a-47c4-a950-19e5e29b7c9f",
   "metadata": {},
   "outputs": [
    {
     "name": "stdout",
     "output_type": "stream",
     "text": [
      "labels        0      1\n",
      "type                  \n",
      "dws      5752.0    0.0\n",
      "jog      5528.0    0.0\n",
      "sit         0.0  157.0\n",
      "std       175.0    0.0\n",
      "ups      6719.0    0.0\n",
      "wlk     14901.0    0.0\n"
     ]
    }
   ],
   "source": [
    "df_temp = df[['type', 'labels']]\n",
    "counts = df_temp.groupby('type')['labels'].value_counts().unstack().fillna(0)\n",
    "print(counts)\n"
   ]
  },
  {
   "cell_type": "markdown",
   "id": "e3bc8f29-1692-4c9f-aa72-8de77a12fb98",
   "metadata": {},
   "source": [
    "#### Mahattan distance (L1) and connectivity of 2 neighbors"
   ]
  },
  {
   "cell_type": "code",
   "execution_count": 133,
   "id": "2e832484-6cd5-4cc5-aa87-c5d5338cd8e4",
   "metadata": {},
   "outputs": [],
   "source": [
    "connectivity_2_clusters = kneighbors_graph(datao[columns_to_categorize], n_neighbors=2, include_self=False)"
   ]
  },
  {
   "cell_type": "code",
   "execution_count": 134,
   "id": "7d05edb3-ca23-469a-b41a-b651d511db89",
   "metadata": {},
   "outputs": [
    {
     "data": {
      "text/plain": [
       "array([1., 1., 1., ..., 1., 1., 1.])"
      ]
     },
     "execution_count": 134,
     "metadata": {},
     "output_type": "execute_result"
    }
   ],
   "source": [
    "connectivity_2_clusters.data"
   ]
  },
  {
   "cell_type": "code",
   "execution_count": 135,
   "id": "16b7e425-5250-41a4-82a6-0b41c0aeb5f2",
   "metadata": {},
   "outputs": [
    {
     "name": "stderr",
     "output_type": "stream",
     "text": [
      "/nfs/home/ikq2724/.local/lib/python3.9/site-packages/sklearn/cluster/_agglomerative.py:983: FutureWarning: Attribute `affinity` was deprecated in version 1.2 and will be removed in 1.4. Use `metric` instead\n",
      "  warnings.warn(\n",
      "/nfs/home/ikq2724/.local/lib/python3.9/site-packages/sklearn/cluster/_agglomerative.py:552: UserWarning: the number of connected components of the connectivity matrix is 153 > 1. Completing it to avoid stopping the tree early.\n",
      "  connectivity, n_connected_components = _fix_connectivity(\n"
     ]
    },
    {
     "name": "stdout",
     "output_type": "stream",
     "text": [
      "[0 0 0 ... 0 0 0]\n"
     ]
    }
   ],
   "source": [
    "Z5 = AgglomerativeClustering(n_clusters=2, linkage='average', affinity='l1', connectivity=connectivity_2_clusters)\n",
    "Z5.fit_predict(datao[columns_to_categorize])\n",
    "print(Z5.labels_)"
   ]
  },
  {
   "cell_type": "code",
   "execution_count": 136,
   "id": "031744ee-0096-4e1c-b9ba-881c55016ce6",
   "metadata": {},
   "outputs": [],
   "source": [
    "df['labels'] = Z5.labels_"
   ]
  },
  {
   "cell_type": "code",
   "execution_count": 137,
   "id": "eae1eb97-67da-43af-99f8-d1f0d8404e98",
   "metadata": {},
   "outputs": [
    {
     "data": {
      "text/html": [
       "<div>\n",
       "<style scoped>\n",
       "    .dataframe tbody tr th:only-of-type {\n",
       "        vertical-align: middle;\n",
       "    }\n",
       "\n",
       "    .dataframe tbody tr th {\n",
       "        vertical-align: top;\n",
       "    }\n",
       "\n",
       "    .dataframe thead th {\n",
       "        text-align: right;\n",
       "    }\n",
       "</style>\n",
       "<table border=\"1\" class=\"dataframe\">\n",
       "  <thead>\n",
       "    <tr style=\"text-align: right;\">\n",
       "      <th></th>\n",
       "      <th>attitude.roll</th>\n",
       "      <th>attitude.pitch</th>\n",
       "      <th>attitude.yaw</th>\n",
       "      <th>gravity.x</th>\n",
       "      <th>gravity.y</th>\n",
       "      <th>gravity.z</th>\n",
       "      <th>rotationRate.x</th>\n",
       "      <th>rotationRate.y</th>\n",
       "      <th>rotationRate.z</th>\n",
       "      <th>userAcceleration.x</th>\n",
       "      <th>userAcceleration.y</th>\n",
       "      <th>userAcceleration.z</th>\n",
       "      <th>type</th>\n",
       "      <th>row_num</th>\n",
       "      <th>outlier</th>\n",
       "      <th>labels</th>\n",
       "    </tr>\n",
       "  </thead>\n",
       "  <tbody>\n",
       "    <tr>\n",
       "      <th>0</th>\n",
       "      <td>mid</td>\n",
       "      <td>low</td>\n",
       "      <td>mid</td>\n",
       "      <td>mid</td>\n",
       "      <td>high</td>\n",
       "      <td>mid</td>\n",
       "      <td>low</td>\n",
       "      <td>mid</td>\n",
       "      <td>mid</td>\n",
       "      <td>mid</td>\n",
       "      <td>low</td>\n",
       "      <td>mid</td>\n",
       "      <td>dws</td>\n",
       "      <td>0</td>\n",
       "      <td>0</td>\n",
       "      <td>0</td>\n",
       "    </tr>\n",
       "    <tr>\n",
       "      <th>1</th>\n",
       "      <td>mid</td>\n",
       "      <td>low</td>\n",
       "      <td>mid</td>\n",
       "      <td>mid</td>\n",
       "      <td>high</td>\n",
       "      <td>mid</td>\n",
       "      <td>low</td>\n",
       "      <td>mid</td>\n",
       "      <td>mid</td>\n",
       "      <td>low</td>\n",
       "      <td>mid</td>\n",
       "      <td>low</td>\n",
       "      <td>dws</td>\n",
       "      <td>1</td>\n",
       "      <td>0</td>\n",
       "      <td>0</td>\n",
       "    </tr>\n",
       "    <tr>\n",
       "      <th>2</th>\n",
       "      <td>mid</td>\n",
       "      <td>low</td>\n",
       "      <td>mid</td>\n",
       "      <td>mid</td>\n",
       "      <td>high</td>\n",
       "      <td>mid</td>\n",
       "      <td>mid</td>\n",
       "      <td>mid</td>\n",
       "      <td>mid</td>\n",
       "      <td>low</td>\n",
       "      <td>low</td>\n",
       "      <td>mid</td>\n",
       "      <td>dws</td>\n",
       "      <td>2</td>\n",
       "      <td>0</td>\n",
       "      <td>0</td>\n",
       "    </tr>\n",
       "    <tr>\n",
       "      <th>3</th>\n",
       "      <td>mid</td>\n",
       "      <td>low</td>\n",
       "      <td>mid</td>\n",
       "      <td>mid</td>\n",
       "      <td>high</td>\n",
       "      <td>mid</td>\n",
       "      <td>mid</td>\n",
       "      <td>mid</td>\n",
       "      <td>mid</td>\n",
       "      <td>low</td>\n",
       "      <td>low</td>\n",
       "      <td>mid</td>\n",
       "      <td>dws</td>\n",
       "      <td>3</td>\n",
       "      <td>0</td>\n",
       "      <td>0</td>\n",
       "    </tr>\n",
       "    <tr>\n",
       "      <th>4</th>\n",
       "      <td>mid</td>\n",
       "      <td>low</td>\n",
       "      <td>mid</td>\n",
       "      <td>mid</td>\n",
       "      <td>high</td>\n",
       "      <td>mid</td>\n",
       "      <td>low</td>\n",
       "      <td>mid</td>\n",
       "      <td>mid</td>\n",
       "      <td>low</td>\n",
       "      <td>low</td>\n",
       "      <td>mid</td>\n",
       "      <td>dws</td>\n",
       "      <td>4</td>\n",
       "      <td>0</td>\n",
       "      <td>0</td>\n",
       "    </tr>\n",
       "  </tbody>\n",
       "</table>\n",
       "</div>"
      ],
      "text/plain": [
       "  attitude.roll attitude.pitch attitude.yaw gravity.x gravity.y gravity.z  \\\n",
       "0           mid            low          mid       mid      high       mid   \n",
       "1           mid            low          mid       mid      high       mid   \n",
       "2           mid            low          mid       mid      high       mid   \n",
       "3           mid            low          mid       mid      high       mid   \n",
       "4           mid            low          mid       mid      high       mid   \n",
       "\n",
       "  rotationRate.x rotationRate.y rotationRate.z userAcceleration.x  \\\n",
       "0            low            mid            mid                mid   \n",
       "1            low            mid            mid                low   \n",
       "2            mid            mid            mid                low   \n",
       "3            mid            mid            mid                low   \n",
       "4            low            mid            mid                low   \n",
       "\n",
       "  userAcceleration.y userAcceleration.z type  row_num  outlier  labels  \n",
       "0                low                mid  dws        0        0       0  \n",
       "1                mid                low  dws        1        0       0  \n",
       "2                low                mid  dws        2        0       0  \n",
       "3                low                mid  dws        3        0       0  \n",
       "4                low                mid  dws        4        0       0  "
      ]
     },
     "execution_count": 137,
     "metadata": {},
     "output_type": "execute_result"
    }
   ],
   "source": [
    "df.head()"
   ]
  },
  {
   "cell_type": "code",
   "execution_count": 138,
   "id": "c4d65d3b-59a5-4c9a-92f5-5fe823fcf4ac",
   "metadata": {},
   "outputs": [
    {
     "name": "stdout",
     "output_type": "stream",
     "text": [
      "labels         0      1\n",
      "outlier                \n",
      "0        32900.0    0.0\n",
      "1          175.0  157.0\n"
     ]
    }
   ],
   "source": [
    "df_temp = df[['outlier', 'labels']]\n",
    "counts = df_temp.groupby('outlier')['labels'].value_counts().unstack().fillna(0)\n",
    "print(counts)\n"
   ]
  },
  {
   "cell_type": "code",
   "execution_count": 139,
   "id": "7a230f45-1faa-425c-a66a-48e878591f96",
   "metadata": {},
   "outputs": [
    {
     "name": "stdout",
     "output_type": "stream",
     "text": [
      "labels        0      1\n",
      "type                  \n",
      "dws      5752.0    0.0\n",
      "jog      5528.0    0.0\n",
      "sit         0.0  157.0\n",
      "std       175.0    0.0\n",
      "ups      6719.0    0.0\n",
      "wlk     14901.0    0.0\n"
     ]
    }
   ],
   "source": [
    "df_temp = df[['type', 'labels']]\n",
    "counts = df_temp.groupby('type')['labels'].value_counts().unstack().fillna(0)\n",
    "print(counts)\n"
   ]
  },
  {
   "cell_type": "markdown",
   "id": "2687994e-4225-4131-a754-155dc8372536",
   "metadata": {},
   "source": [
    "#### Mahattan distance (L1) and connectivity of 5 neighbors"
   ]
  },
  {
   "cell_type": "code",
   "execution_count": 140,
   "id": "b6c85feb-a48a-47f7-ba00-16b68c04b850",
   "metadata": {},
   "outputs": [],
   "source": [
    "connectivity_5_clusters = kneighbors_graph(datao[columns_to_categorize], n_neighbors=5, include_self=False)"
   ]
  },
  {
   "cell_type": "code",
   "execution_count": 141,
   "id": "0b8ae497-ad75-4b7d-973a-eb778d4d3424",
   "metadata": {},
   "outputs": [
    {
     "data": {
      "text/plain": [
       "array([1., 1., 1., ..., 1., 1., 1.])"
      ]
     },
     "execution_count": 141,
     "metadata": {},
     "output_type": "execute_result"
    }
   ],
   "source": [
    "connectivity_5_clusters.data"
   ]
  },
  {
   "cell_type": "code",
   "execution_count": 142,
   "id": "3a7bbc99-9867-429f-890d-27dad039e57a",
   "metadata": {},
   "outputs": [
    {
     "name": "stderr",
     "output_type": "stream",
     "text": [
      "/nfs/home/ikq2724/.local/lib/python3.9/site-packages/sklearn/cluster/_agglomerative.py:983: FutureWarning: Attribute `affinity` was deprecated in version 1.2 and will be removed in 1.4. Use `metric` instead\n",
      "  warnings.warn(\n",
      "/nfs/home/ikq2724/.local/lib/python3.9/site-packages/sklearn/cluster/_agglomerative.py:552: UserWarning: the number of connected components of the connectivity matrix is 8 > 1. Completing it to avoid stopping the tree early.\n",
      "  connectivity, n_connected_components = _fix_connectivity(\n"
     ]
    },
    {
     "name": "stdout",
     "output_type": "stream",
     "text": [
      "[0 0 0 ... 0 0 0]\n"
     ]
    }
   ],
   "source": [
    "Z5 = AgglomerativeClustering(n_clusters=2, linkage='average', affinity='l1', connectivity=connectivity_5_clusters)\n",
    "Z5.fit_predict(datao[columns_to_categorize])\n",
    "print(Z5.labels_)"
   ]
  },
  {
   "cell_type": "code",
   "execution_count": 143,
   "id": "e308a99d-6527-4a6e-96ba-631d06a4bf87",
   "metadata": {},
   "outputs": [],
   "source": [
    "df['labels'] = Z5.labels_"
   ]
  },
  {
   "cell_type": "code",
   "execution_count": 144,
   "id": "c8584737-5f8d-4a55-92cc-2908c9ba1c8a",
   "metadata": {},
   "outputs": [
    {
     "data": {
      "text/html": [
       "<div>\n",
       "<style scoped>\n",
       "    .dataframe tbody tr th:only-of-type {\n",
       "        vertical-align: middle;\n",
       "    }\n",
       "\n",
       "    .dataframe tbody tr th {\n",
       "        vertical-align: top;\n",
       "    }\n",
       "\n",
       "    .dataframe thead th {\n",
       "        text-align: right;\n",
       "    }\n",
       "</style>\n",
       "<table border=\"1\" class=\"dataframe\">\n",
       "  <thead>\n",
       "    <tr style=\"text-align: right;\">\n",
       "      <th></th>\n",
       "      <th>attitude.roll</th>\n",
       "      <th>attitude.pitch</th>\n",
       "      <th>attitude.yaw</th>\n",
       "      <th>gravity.x</th>\n",
       "      <th>gravity.y</th>\n",
       "      <th>gravity.z</th>\n",
       "      <th>rotationRate.x</th>\n",
       "      <th>rotationRate.y</th>\n",
       "      <th>rotationRate.z</th>\n",
       "      <th>userAcceleration.x</th>\n",
       "      <th>userAcceleration.y</th>\n",
       "      <th>userAcceleration.z</th>\n",
       "      <th>type</th>\n",
       "      <th>row_num</th>\n",
       "      <th>outlier</th>\n",
       "      <th>labels</th>\n",
       "    </tr>\n",
       "  </thead>\n",
       "  <tbody>\n",
       "    <tr>\n",
       "      <th>0</th>\n",
       "      <td>mid</td>\n",
       "      <td>low</td>\n",
       "      <td>mid</td>\n",
       "      <td>mid</td>\n",
       "      <td>high</td>\n",
       "      <td>mid</td>\n",
       "      <td>low</td>\n",
       "      <td>mid</td>\n",
       "      <td>mid</td>\n",
       "      <td>mid</td>\n",
       "      <td>low</td>\n",
       "      <td>mid</td>\n",
       "      <td>dws</td>\n",
       "      <td>0</td>\n",
       "      <td>0</td>\n",
       "      <td>0</td>\n",
       "    </tr>\n",
       "    <tr>\n",
       "      <th>1</th>\n",
       "      <td>mid</td>\n",
       "      <td>low</td>\n",
       "      <td>mid</td>\n",
       "      <td>mid</td>\n",
       "      <td>high</td>\n",
       "      <td>mid</td>\n",
       "      <td>low</td>\n",
       "      <td>mid</td>\n",
       "      <td>mid</td>\n",
       "      <td>low</td>\n",
       "      <td>mid</td>\n",
       "      <td>low</td>\n",
       "      <td>dws</td>\n",
       "      <td>1</td>\n",
       "      <td>0</td>\n",
       "      <td>0</td>\n",
       "    </tr>\n",
       "    <tr>\n",
       "      <th>2</th>\n",
       "      <td>mid</td>\n",
       "      <td>low</td>\n",
       "      <td>mid</td>\n",
       "      <td>mid</td>\n",
       "      <td>high</td>\n",
       "      <td>mid</td>\n",
       "      <td>mid</td>\n",
       "      <td>mid</td>\n",
       "      <td>mid</td>\n",
       "      <td>low</td>\n",
       "      <td>low</td>\n",
       "      <td>mid</td>\n",
       "      <td>dws</td>\n",
       "      <td>2</td>\n",
       "      <td>0</td>\n",
       "      <td>0</td>\n",
       "    </tr>\n",
       "    <tr>\n",
       "      <th>3</th>\n",
       "      <td>mid</td>\n",
       "      <td>low</td>\n",
       "      <td>mid</td>\n",
       "      <td>mid</td>\n",
       "      <td>high</td>\n",
       "      <td>mid</td>\n",
       "      <td>mid</td>\n",
       "      <td>mid</td>\n",
       "      <td>mid</td>\n",
       "      <td>low</td>\n",
       "      <td>low</td>\n",
       "      <td>mid</td>\n",
       "      <td>dws</td>\n",
       "      <td>3</td>\n",
       "      <td>0</td>\n",
       "      <td>0</td>\n",
       "    </tr>\n",
       "    <tr>\n",
       "      <th>4</th>\n",
       "      <td>mid</td>\n",
       "      <td>low</td>\n",
       "      <td>mid</td>\n",
       "      <td>mid</td>\n",
       "      <td>high</td>\n",
       "      <td>mid</td>\n",
       "      <td>low</td>\n",
       "      <td>mid</td>\n",
       "      <td>mid</td>\n",
       "      <td>low</td>\n",
       "      <td>low</td>\n",
       "      <td>mid</td>\n",
       "      <td>dws</td>\n",
       "      <td>4</td>\n",
       "      <td>0</td>\n",
       "      <td>0</td>\n",
       "    </tr>\n",
       "  </tbody>\n",
       "</table>\n",
       "</div>"
      ],
      "text/plain": [
       "  attitude.roll attitude.pitch attitude.yaw gravity.x gravity.y gravity.z  \\\n",
       "0           mid            low          mid       mid      high       mid   \n",
       "1           mid            low          mid       mid      high       mid   \n",
       "2           mid            low          mid       mid      high       mid   \n",
       "3           mid            low          mid       mid      high       mid   \n",
       "4           mid            low          mid       mid      high       mid   \n",
       "\n",
       "  rotationRate.x rotationRate.y rotationRate.z userAcceleration.x  \\\n",
       "0            low            mid            mid                mid   \n",
       "1            low            mid            mid                low   \n",
       "2            mid            mid            mid                low   \n",
       "3            mid            mid            mid                low   \n",
       "4            low            mid            mid                low   \n",
       "\n",
       "  userAcceleration.y userAcceleration.z type  row_num  outlier  labels  \n",
       "0                low                mid  dws        0        0       0  \n",
       "1                mid                low  dws        1        0       0  \n",
       "2                low                mid  dws        2        0       0  \n",
       "3                low                mid  dws        3        0       0  \n",
       "4                low                mid  dws        4        0       0  "
      ]
     },
     "execution_count": 144,
     "metadata": {},
     "output_type": "execute_result"
    }
   ],
   "source": [
    "df.head()"
   ]
  },
  {
   "cell_type": "code",
   "execution_count": 145,
   "id": "8e0e9aae-d030-4967-8521-2186c0118790",
   "metadata": {},
   "outputs": [
    {
     "name": "stdout",
     "output_type": "stream",
     "text": [
      "labels         0      1\n",
      "outlier                \n",
      "0        32900.0    0.0\n",
      "1          175.0  157.0\n"
     ]
    }
   ],
   "source": [
    "df_temp = df[['outlier', 'labels']]\n",
    "counts = df_temp.groupby('outlier')['labels'].value_counts().unstack().fillna(0)\n",
    "print(counts)\n"
   ]
  },
  {
   "cell_type": "code",
   "execution_count": 146,
   "id": "6f9b54f8-dde4-4355-b6ca-738c2eb1fd18",
   "metadata": {},
   "outputs": [
    {
     "name": "stdout",
     "output_type": "stream",
     "text": [
      "labels        0      1\n",
      "type                  \n",
      "dws      5752.0    0.0\n",
      "jog      5528.0    0.0\n",
      "sit         0.0  157.0\n",
      "std       175.0    0.0\n",
      "ups      6719.0    0.0\n",
      "wlk     14901.0    0.0\n"
     ]
    }
   ],
   "source": [
    "df_temp = df[['type', 'labels']]\n",
    "counts = df_temp.groupby('type')['labels'].value_counts().unstack().fillna(0)\n",
    "print(counts)\n"
   ]
  },
  {
   "cell_type": "markdown",
   "id": "a09c2797-3ded-478c-8c37-e55d132e7e93",
   "metadata": {},
   "source": [
    "### 5 neighbors in aggclustering with 5 connectivity"
   ]
  },
  {
   "cell_type": "code",
   "execution_count": 147,
   "id": "18413dac-e5f4-4f3f-84fc-c25ff12f8bac",
   "metadata": {},
   "outputs": [
    {
     "name": "stderr",
     "output_type": "stream",
     "text": [
      "/nfs/home/ikq2724/.local/lib/python3.9/site-packages/sklearn/cluster/_agglomerative.py:983: FutureWarning: Attribute `affinity` was deprecated in version 1.2 and will be removed in 1.4. Use `metric` instead\n",
      "  warnings.warn(\n",
      "/nfs/home/ikq2724/.local/lib/python3.9/site-packages/sklearn/cluster/_agglomerative.py:552: UserWarning: the number of connected components of the connectivity matrix is 8 > 1. Completing it to avoid stopping the tree early.\n",
      "  connectivity, n_connected_components = _fix_connectivity(\n"
     ]
    },
    {
     "name": "stdout",
     "output_type": "stream",
     "text": [
      "[0 0 0 ... 0 0 0]\n"
     ]
    }
   ],
   "source": [
    "Z5 = AgglomerativeClustering(n_clusters=5, linkage='average', affinity='l1', connectivity=connectivity_5_clusters)\n",
    "Z5.fit_predict(datao[columns_to_categorize])\n",
    "print(Z5.labels_)"
   ]
  },
  {
   "cell_type": "code",
   "execution_count": 148,
   "id": "1e063079-6397-4a6d-835c-4f3977131799",
   "metadata": {},
   "outputs": [],
   "source": [
    "df['labels'] = Z5.labels_"
   ]
  },
  {
   "cell_type": "code",
   "execution_count": 149,
   "id": "89eca90e-f465-4c4f-8c98-d71edd577ca3",
   "metadata": {},
   "outputs": [
    {
     "data": {
      "text/html": [
       "<div>\n",
       "<style scoped>\n",
       "    .dataframe tbody tr th:only-of-type {\n",
       "        vertical-align: middle;\n",
       "    }\n",
       "\n",
       "    .dataframe tbody tr th {\n",
       "        vertical-align: top;\n",
       "    }\n",
       "\n",
       "    .dataframe thead th {\n",
       "        text-align: right;\n",
       "    }\n",
       "</style>\n",
       "<table border=\"1\" class=\"dataframe\">\n",
       "  <thead>\n",
       "    <tr style=\"text-align: right;\">\n",
       "      <th></th>\n",
       "      <th>attitude.roll</th>\n",
       "      <th>attitude.pitch</th>\n",
       "      <th>attitude.yaw</th>\n",
       "      <th>gravity.x</th>\n",
       "      <th>gravity.y</th>\n",
       "      <th>gravity.z</th>\n",
       "      <th>rotationRate.x</th>\n",
       "      <th>rotationRate.y</th>\n",
       "      <th>rotationRate.z</th>\n",
       "      <th>userAcceleration.x</th>\n",
       "      <th>userAcceleration.y</th>\n",
       "      <th>userAcceleration.z</th>\n",
       "      <th>type</th>\n",
       "      <th>row_num</th>\n",
       "      <th>outlier</th>\n",
       "      <th>labels</th>\n",
       "    </tr>\n",
       "  </thead>\n",
       "  <tbody>\n",
       "    <tr>\n",
       "      <th>0</th>\n",
       "      <td>mid</td>\n",
       "      <td>low</td>\n",
       "      <td>mid</td>\n",
       "      <td>mid</td>\n",
       "      <td>high</td>\n",
       "      <td>mid</td>\n",
       "      <td>low</td>\n",
       "      <td>mid</td>\n",
       "      <td>mid</td>\n",
       "      <td>mid</td>\n",
       "      <td>low</td>\n",
       "      <td>mid</td>\n",
       "      <td>dws</td>\n",
       "      <td>0</td>\n",
       "      <td>0</td>\n",
       "      <td>0</td>\n",
       "    </tr>\n",
       "    <tr>\n",
       "      <th>1</th>\n",
       "      <td>mid</td>\n",
       "      <td>low</td>\n",
       "      <td>mid</td>\n",
       "      <td>mid</td>\n",
       "      <td>high</td>\n",
       "      <td>mid</td>\n",
       "      <td>low</td>\n",
       "      <td>mid</td>\n",
       "      <td>mid</td>\n",
       "      <td>low</td>\n",
       "      <td>mid</td>\n",
       "      <td>low</td>\n",
       "      <td>dws</td>\n",
       "      <td>1</td>\n",
       "      <td>0</td>\n",
       "      <td>0</td>\n",
       "    </tr>\n",
       "    <tr>\n",
       "      <th>2</th>\n",
       "      <td>mid</td>\n",
       "      <td>low</td>\n",
       "      <td>mid</td>\n",
       "      <td>mid</td>\n",
       "      <td>high</td>\n",
       "      <td>mid</td>\n",
       "      <td>mid</td>\n",
       "      <td>mid</td>\n",
       "      <td>mid</td>\n",
       "      <td>low</td>\n",
       "      <td>low</td>\n",
       "      <td>mid</td>\n",
       "      <td>dws</td>\n",
       "      <td>2</td>\n",
       "      <td>0</td>\n",
       "      <td>0</td>\n",
       "    </tr>\n",
       "    <tr>\n",
       "      <th>3</th>\n",
       "      <td>mid</td>\n",
       "      <td>low</td>\n",
       "      <td>mid</td>\n",
       "      <td>mid</td>\n",
       "      <td>high</td>\n",
       "      <td>mid</td>\n",
       "      <td>mid</td>\n",
       "      <td>mid</td>\n",
       "      <td>mid</td>\n",
       "      <td>low</td>\n",
       "      <td>low</td>\n",
       "      <td>mid</td>\n",
       "      <td>dws</td>\n",
       "      <td>3</td>\n",
       "      <td>0</td>\n",
       "      <td>0</td>\n",
       "    </tr>\n",
       "    <tr>\n",
       "      <th>4</th>\n",
       "      <td>mid</td>\n",
       "      <td>low</td>\n",
       "      <td>mid</td>\n",
       "      <td>mid</td>\n",
       "      <td>high</td>\n",
       "      <td>mid</td>\n",
       "      <td>low</td>\n",
       "      <td>mid</td>\n",
       "      <td>mid</td>\n",
       "      <td>low</td>\n",
       "      <td>low</td>\n",
       "      <td>mid</td>\n",
       "      <td>dws</td>\n",
       "      <td>4</td>\n",
       "      <td>0</td>\n",
       "      <td>0</td>\n",
       "    </tr>\n",
       "  </tbody>\n",
       "</table>\n",
       "</div>"
      ],
      "text/plain": [
       "  attitude.roll attitude.pitch attitude.yaw gravity.x gravity.y gravity.z  \\\n",
       "0           mid            low          mid       mid      high       mid   \n",
       "1           mid            low          mid       mid      high       mid   \n",
       "2           mid            low          mid       mid      high       mid   \n",
       "3           mid            low          mid       mid      high       mid   \n",
       "4           mid            low          mid       mid      high       mid   \n",
       "\n",
       "  rotationRate.x rotationRate.y rotationRate.z userAcceleration.x  \\\n",
       "0            low            mid            mid                mid   \n",
       "1            low            mid            mid                low   \n",
       "2            mid            mid            mid                low   \n",
       "3            mid            mid            mid                low   \n",
       "4            low            mid            mid                low   \n",
       "\n",
       "  userAcceleration.y userAcceleration.z type  row_num  outlier  labels  \n",
       "0                low                mid  dws        0        0       0  \n",
       "1                mid                low  dws        1        0       0  \n",
       "2                low                mid  dws        2        0       0  \n",
       "3                low                mid  dws        3        0       0  \n",
       "4                low                mid  dws        4        0       0  "
      ]
     },
     "execution_count": 149,
     "metadata": {},
     "output_type": "execute_result"
    }
   ],
   "source": [
    "df.head()"
   ]
  },
  {
   "cell_type": "code",
   "execution_count": 150,
   "id": "ea990e06-371b-4557-9bec-f180e4ee907e",
   "metadata": {},
   "outputs": [
    {
     "name": "stdout",
     "output_type": "stream",
     "text": [
      "labels         0      1    2    3    4\n",
      "outlier                               \n",
      "0        32896.0    0.0  1.0  1.0  2.0\n",
      "1          175.0  157.0  0.0  0.0  0.0\n"
     ]
    }
   ],
   "source": [
    "df_temp = df[['outlier', 'labels']]\n",
    "counts = df_temp.groupby('outlier')['labels'].value_counts().unstack().fillna(0)\n",
    "print(counts)\n"
   ]
  },
  {
   "cell_type": "code",
   "execution_count": 151,
   "id": "4ee94293-340c-4a1e-b505-313bbeaebd1a",
   "metadata": {},
   "outputs": [
    {
     "name": "stdout",
     "output_type": "stream",
     "text": [
      "labels        0      1    2    3    4\n",
      "type                                 \n",
      "dws      5752.0    0.0  0.0  0.0  0.0\n",
      "jog      5524.0    0.0  1.0  1.0  2.0\n",
      "sit         0.0  157.0  0.0  0.0  0.0\n",
      "std       175.0    0.0  0.0  0.0  0.0\n",
      "ups      6719.0    0.0  0.0  0.0  0.0\n",
      "wlk     14901.0    0.0  0.0  0.0  0.0\n"
     ]
    }
   ],
   "source": [
    "df_temp = df[['type', 'labels']]\n",
    "counts = df_temp.groupby('type')['labels'].value_counts().unstack().fillna(0)\n",
    "print(counts)\n"
   ]
  },
  {
   "cell_type": "markdown",
   "id": "ec883038-6b5a-416e-b160-b7f8637a83e7",
   "metadata": {},
   "source": [
    "### 5 neighbors in aggclustering with 2 connectivity"
   ]
  },
  {
   "cell_type": "code",
   "execution_count": 152,
   "id": "4d133d3f-d6c3-48d4-9220-9aad2420fe83",
   "metadata": {},
   "outputs": [
    {
     "name": "stderr",
     "output_type": "stream",
     "text": [
      "/nfs/home/ikq2724/.local/lib/python3.9/site-packages/sklearn/cluster/_agglomerative.py:983: FutureWarning: Attribute `affinity` was deprecated in version 1.2 and will be removed in 1.4. Use `metric` instead\n",
      "  warnings.warn(\n",
      "/nfs/home/ikq2724/.local/lib/python3.9/site-packages/sklearn/cluster/_agglomerative.py:552: UserWarning: the number of connected components of the connectivity matrix is 153 > 1. Completing it to avoid stopping the tree early.\n",
      "  connectivity, n_connected_components = _fix_connectivity(\n"
     ]
    },
    {
     "name": "stdout",
     "output_type": "stream",
     "text": [
      "[0 2 0 ... 1 1 1]\n"
     ]
    }
   ],
   "source": [
    "Z5 = AgglomerativeClustering(n_clusters=5, linkage='average', affinity='l1', connectivity=connectivity_2_clusters)\n",
    "Z5.fit_predict(datao[columns_to_categorize])\n",
    "print(Z5.labels_)"
   ]
  },
  {
   "cell_type": "code",
   "execution_count": 153,
   "id": "c2ff8a2a-b69e-4c8b-8b18-bef51c438b5c",
   "metadata": {},
   "outputs": [],
   "source": [
    "df['labels'] = Z5.labels_"
   ]
  },
  {
   "cell_type": "code",
   "execution_count": 154,
   "id": "5a6e04e8-b127-43fb-831c-0bf32c88a7fa",
   "metadata": {},
   "outputs": [
    {
     "data": {
      "text/html": [
       "<div>\n",
       "<style scoped>\n",
       "    .dataframe tbody tr th:only-of-type {\n",
       "        vertical-align: middle;\n",
       "    }\n",
       "\n",
       "    .dataframe tbody tr th {\n",
       "        vertical-align: top;\n",
       "    }\n",
       "\n",
       "    .dataframe thead th {\n",
       "        text-align: right;\n",
       "    }\n",
       "</style>\n",
       "<table border=\"1\" class=\"dataframe\">\n",
       "  <thead>\n",
       "    <tr style=\"text-align: right;\">\n",
       "      <th></th>\n",
       "      <th>attitude.roll</th>\n",
       "      <th>attitude.pitch</th>\n",
       "      <th>attitude.yaw</th>\n",
       "      <th>gravity.x</th>\n",
       "      <th>gravity.y</th>\n",
       "      <th>gravity.z</th>\n",
       "      <th>rotationRate.x</th>\n",
       "      <th>rotationRate.y</th>\n",
       "      <th>rotationRate.z</th>\n",
       "      <th>userAcceleration.x</th>\n",
       "      <th>userAcceleration.y</th>\n",
       "      <th>userAcceleration.z</th>\n",
       "      <th>type</th>\n",
       "      <th>row_num</th>\n",
       "      <th>outlier</th>\n",
       "      <th>labels</th>\n",
       "    </tr>\n",
       "  </thead>\n",
       "  <tbody>\n",
       "    <tr>\n",
       "      <th>0</th>\n",
       "      <td>mid</td>\n",
       "      <td>low</td>\n",
       "      <td>mid</td>\n",
       "      <td>mid</td>\n",
       "      <td>high</td>\n",
       "      <td>mid</td>\n",
       "      <td>low</td>\n",
       "      <td>mid</td>\n",
       "      <td>mid</td>\n",
       "      <td>mid</td>\n",
       "      <td>low</td>\n",
       "      <td>mid</td>\n",
       "      <td>dws</td>\n",
       "      <td>0</td>\n",
       "      <td>0</td>\n",
       "      <td>0</td>\n",
       "    </tr>\n",
       "    <tr>\n",
       "      <th>1</th>\n",
       "      <td>mid</td>\n",
       "      <td>low</td>\n",
       "      <td>mid</td>\n",
       "      <td>mid</td>\n",
       "      <td>high</td>\n",
       "      <td>mid</td>\n",
       "      <td>low</td>\n",
       "      <td>mid</td>\n",
       "      <td>mid</td>\n",
       "      <td>low</td>\n",
       "      <td>mid</td>\n",
       "      <td>low</td>\n",
       "      <td>dws</td>\n",
       "      <td>1</td>\n",
       "      <td>0</td>\n",
       "      <td>2</td>\n",
       "    </tr>\n",
       "    <tr>\n",
       "      <th>2</th>\n",
       "      <td>mid</td>\n",
       "      <td>low</td>\n",
       "      <td>mid</td>\n",
       "      <td>mid</td>\n",
       "      <td>high</td>\n",
       "      <td>mid</td>\n",
       "      <td>mid</td>\n",
       "      <td>mid</td>\n",
       "      <td>mid</td>\n",
       "      <td>low</td>\n",
       "      <td>low</td>\n",
       "      <td>mid</td>\n",
       "      <td>dws</td>\n",
       "      <td>2</td>\n",
       "      <td>0</td>\n",
       "      <td>0</td>\n",
       "    </tr>\n",
       "    <tr>\n",
       "      <th>3</th>\n",
       "      <td>mid</td>\n",
       "      <td>low</td>\n",
       "      <td>mid</td>\n",
       "      <td>mid</td>\n",
       "      <td>high</td>\n",
       "      <td>mid</td>\n",
       "      <td>mid</td>\n",
       "      <td>mid</td>\n",
       "      <td>mid</td>\n",
       "      <td>low</td>\n",
       "      <td>low</td>\n",
       "      <td>mid</td>\n",
       "      <td>dws</td>\n",
       "      <td>3</td>\n",
       "      <td>0</td>\n",
       "      <td>0</td>\n",
       "    </tr>\n",
       "    <tr>\n",
       "      <th>4</th>\n",
       "      <td>mid</td>\n",
       "      <td>low</td>\n",
       "      <td>mid</td>\n",
       "      <td>mid</td>\n",
       "      <td>high</td>\n",
       "      <td>mid</td>\n",
       "      <td>low</td>\n",
       "      <td>mid</td>\n",
       "      <td>mid</td>\n",
       "      <td>low</td>\n",
       "      <td>low</td>\n",
       "      <td>mid</td>\n",
       "      <td>dws</td>\n",
       "      <td>4</td>\n",
       "      <td>0</td>\n",
       "      <td>0</td>\n",
       "    </tr>\n",
       "  </tbody>\n",
       "</table>\n",
       "</div>"
      ],
      "text/plain": [
       "  attitude.roll attitude.pitch attitude.yaw gravity.x gravity.y gravity.z  \\\n",
       "0           mid            low          mid       mid      high       mid   \n",
       "1           mid            low          mid       mid      high       mid   \n",
       "2           mid            low          mid       mid      high       mid   \n",
       "3           mid            low          mid       mid      high       mid   \n",
       "4           mid            low          mid       mid      high       mid   \n",
       "\n",
       "  rotationRate.x rotationRate.y rotationRate.z userAcceleration.x  \\\n",
       "0            low            mid            mid                mid   \n",
       "1            low            mid            mid                low   \n",
       "2            mid            mid            mid                low   \n",
       "3            mid            mid            mid                low   \n",
       "4            low            mid            mid                low   \n",
       "\n",
       "  userAcceleration.y userAcceleration.z type  row_num  outlier  labels  \n",
       "0                low                mid  dws        0        0       0  \n",
       "1                mid                low  dws        1        0       2  \n",
       "2                low                mid  dws        2        0       0  \n",
       "3                low                mid  dws        3        0       0  \n",
       "4                low                mid  dws        4        0       0  "
      ]
     },
     "execution_count": 154,
     "metadata": {},
     "output_type": "execute_result"
    }
   ],
   "source": [
    "df.head()"
   ]
  },
  {
   "cell_type": "code",
   "execution_count": 155,
   "id": "386ebc2e-dc45-4f2a-8b31-7f2cb152de33",
   "metadata": {},
   "outputs": [
    {
     "name": "stdout",
     "output_type": "stream",
     "text": [
      "labels         0       1        2    3      4\n",
      "outlier                                      \n",
      "0        17210.0  4095.0  11591.0  4.0    0.0\n",
      "1            1.0   174.0      0.0  0.0  157.0\n"
     ]
    }
   ],
   "source": [
    "df_temp = df[['outlier', 'labels']]\n",
    "counts = df_temp.groupby('outlier')['labels'].value_counts().unstack().fillna(0)\n",
    "print(counts)\n"
   ]
  },
  {
   "cell_type": "code",
   "execution_count": 156,
   "id": "9de18d7b-5659-4595-aaf1-bb846852230d",
   "metadata": {},
   "outputs": [
    {
     "name": "stdout",
     "output_type": "stream",
     "text": [
      "labels       0       1       2    3      4\n",
      "type                                      \n",
      "dws     3812.0   163.0  1777.0  0.0    0.0\n",
      "jog     2398.0  1485.0  1641.0  4.0    0.0\n",
      "sit        0.0     0.0     0.0  0.0  157.0\n",
      "std        1.0   174.0     0.0  0.0    0.0\n",
      "ups     3355.0   723.0  2641.0  0.0    0.0\n",
      "wlk     7645.0  1724.0  5532.0  0.0    0.0\n"
     ]
    }
   ],
   "source": [
    "df_temp = df[['type', 'labels']]\n",
    "counts = df_temp.groupby('type')['labels'].value_counts().unstack().fillna(0)\n",
    "print(counts)\n"
   ]
  },
  {
   "cell_type": "markdown",
   "id": "e92ec794-48ca-4d72-87ac-92e030e947a5",
   "metadata": {},
   "source": [
    "It is getting there and standing is getting filtered out a bit"
   ]
  },
  {
   "cell_type": "markdown",
   "id": "637af4f4-91ca-43cf-ab39-af31401f5e16",
   "metadata": {},
   "source": [
    "## Further refinement"
   ]
  },
  {
   "cell_type": "markdown",
   "id": "344ee973-38d6-4625-bf96-9c6cb50de01e",
   "metadata": {},
   "source": [
    "#### connectivity = 2, 5 clusters with L2"
   ]
  },
  {
   "cell_type": "code",
   "execution_count": 157,
   "id": "45f7176a-e507-40d3-8e70-9586219d578d",
   "metadata": {},
   "outputs": [
    {
     "name": "stderr",
     "output_type": "stream",
     "text": [
      "/nfs/home/ikq2724/.local/lib/python3.9/site-packages/sklearn/cluster/_agglomerative.py:983: FutureWarning: Attribute `affinity` was deprecated in version 1.2 and will be removed in 1.4. Use `metric` instead\n",
      "  warnings.warn(\n",
      "/nfs/home/ikq2724/.local/lib/python3.9/site-packages/sklearn/cluster/_agglomerative.py:552: UserWarning: the number of connected components of the connectivity matrix is 153 > 1. Completing it to avoid stopping the tree early.\n",
      "  connectivity, n_connected_components = _fix_connectivity(\n"
     ]
    },
    {
     "name": "stdout",
     "output_type": "stream",
     "text": [
      "[0 0 0 ... 2 2 2]\n"
     ]
    }
   ],
   "source": [
    "Z5 = AgglomerativeClustering(n_clusters=5, linkage='average', affinity='l2', connectivity=connectivity_2_clusters)\n",
    "Z5.fit_predict(datao[columns_to_categorize])\n",
    "print(Z5.labels_)"
   ]
  },
  {
   "cell_type": "code",
   "execution_count": 158,
   "id": "458dddbb-36ef-4295-96b0-0b66a241e582",
   "metadata": {},
   "outputs": [],
   "source": [
    "df['labels'] = Z5.labels_"
   ]
  },
  {
   "cell_type": "code",
   "execution_count": 159,
   "id": "3959d051-0099-44a4-9454-268cc7ca7f41",
   "metadata": {},
   "outputs": [
    {
     "data": {
      "text/html": [
       "<div>\n",
       "<style scoped>\n",
       "    .dataframe tbody tr th:only-of-type {\n",
       "        vertical-align: middle;\n",
       "    }\n",
       "\n",
       "    .dataframe tbody tr th {\n",
       "        vertical-align: top;\n",
       "    }\n",
       "\n",
       "    .dataframe thead th {\n",
       "        text-align: right;\n",
       "    }\n",
       "</style>\n",
       "<table border=\"1\" class=\"dataframe\">\n",
       "  <thead>\n",
       "    <tr style=\"text-align: right;\">\n",
       "      <th></th>\n",
       "      <th>attitude.roll</th>\n",
       "      <th>attitude.pitch</th>\n",
       "      <th>attitude.yaw</th>\n",
       "      <th>gravity.x</th>\n",
       "      <th>gravity.y</th>\n",
       "      <th>gravity.z</th>\n",
       "      <th>rotationRate.x</th>\n",
       "      <th>rotationRate.y</th>\n",
       "      <th>rotationRate.z</th>\n",
       "      <th>userAcceleration.x</th>\n",
       "      <th>userAcceleration.y</th>\n",
       "      <th>userAcceleration.z</th>\n",
       "      <th>type</th>\n",
       "      <th>row_num</th>\n",
       "      <th>outlier</th>\n",
       "      <th>labels</th>\n",
       "    </tr>\n",
       "  </thead>\n",
       "  <tbody>\n",
       "    <tr>\n",
       "      <th>0</th>\n",
       "      <td>mid</td>\n",
       "      <td>low</td>\n",
       "      <td>mid</td>\n",
       "      <td>mid</td>\n",
       "      <td>high</td>\n",
       "      <td>mid</td>\n",
       "      <td>low</td>\n",
       "      <td>mid</td>\n",
       "      <td>mid</td>\n",
       "      <td>mid</td>\n",
       "      <td>low</td>\n",
       "      <td>mid</td>\n",
       "      <td>dws</td>\n",
       "      <td>0</td>\n",
       "      <td>0</td>\n",
       "      <td>0</td>\n",
       "    </tr>\n",
       "    <tr>\n",
       "      <th>1</th>\n",
       "      <td>mid</td>\n",
       "      <td>low</td>\n",
       "      <td>mid</td>\n",
       "      <td>mid</td>\n",
       "      <td>high</td>\n",
       "      <td>mid</td>\n",
       "      <td>low</td>\n",
       "      <td>mid</td>\n",
       "      <td>mid</td>\n",
       "      <td>low</td>\n",
       "      <td>mid</td>\n",
       "      <td>low</td>\n",
       "      <td>dws</td>\n",
       "      <td>1</td>\n",
       "      <td>0</td>\n",
       "      <td>0</td>\n",
       "    </tr>\n",
       "    <tr>\n",
       "      <th>2</th>\n",
       "      <td>mid</td>\n",
       "      <td>low</td>\n",
       "      <td>mid</td>\n",
       "      <td>mid</td>\n",
       "      <td>high</td>\n",
       "      <td>mid</td>\n",
       "      <td>mid</td>\n",
       "      <td>mid</td>\n",
       "      <td>mid</td>\n",
       "      <td>low</td>\n",
       "      <td>low</td>\n",
       "      <td>mid</td>\n",
       "      <td>dws</td>\n",
       "      <td>2</td>\n",
       "      <td>0</td>\n",
       "      <td>0</td>\n",
       "    </tr>\n",
       "    <tr>\n",
       "      <th>3</th>\n",
       "      <td>mid</td>\n",
       "      <td>low</td>\n",
       "      <td>mid</td>\n",
       "      <td>mid</td>\n",
       "      <td>high</td>\n",
       "      <td>mid</td>\n",
       "      <td>mid</td>\n",
       "      <td>mid</td>\n",
       "      <td>mid</td>\n",
       "      <td>low</td>\n",
       "      <td>low</td>\n",
       "      <td>mid</td>\n",
       "      <td>dws</td>\n",
       "      <td>3</td>\n",
       "      <td>0</td>\n",
       "      <td>0</td>\n",
       "    </tr>\n",
       "    <tr>\n",
       "      <th>4</th>\n",
       "      <td>mid</td>\n",
       "      <td>low</td>\n",
       "      <td>mid</td>\n",
       "      <td>mid</td>\n",
       "      <td>high</td>\n",
       "      <td>mid</td>\n",
       "      <td>low</td>\n",
       "      <td>mid</td>\n",
       "      <td>mid</td>\n",
       "      <td>low</td>\n",
       "      <td>low</td>\n",
       "      <td>mid</td>\n",
       "      <td>dws</td>\n",
       "      <td>4</td>\n",
       "      <td>0</td>\n",
       "      <td>0</td>\n",
       "    </tr>\n",
       "  </tbody>\n",
       "</table>\n",
       "</div>"
      ],
      "text/plain": [
       "  attitude.roll attitude.pitch attitude.yaw gravity.x gravity.y gravity.z  \\\n",
       "0           mid            low          mid       mid      high       mid   \n",
       "1           mid            low          mid       mid      high       mid   \n",
       "2           mid            low          mid       mid      high       mid   \n",
       "3           mid            low          mid       mid      high       mid   \n",
       "4           mid            low          mid       mid      high       mid   \n",
       "\n",
       "  rotationRate.x rotationRate.y rotationRate.z userAcceleration.x  \\\n",
       "0            low            mid            mid                mid   \n",
       "1            low            mid            mid                low   \n",
       "2            mid            mid            mid                low   \n",
       "3            mid            mid            mid                low   \n",
       "4            low            mid            mid                low   \n",
       "\n",
       "  userAcceleration.y userAcceleration.z type  row_num  outlier  labels  \n",
       "0                low                mid  dws        0        0       0  \n",
       "1                mid                low  dws        1        0       0  \n",
       "2                low                mid  dws        2        0       0  \n",
       "3                low                mid  dws        3        0       0  \n",
       "4                low                mid  dws        4        0       0  "
      ]
     },
     "execution_count": 159,
     "metadata": {},
     "output_type": "execute_result"
    }
   ],
   "source": [
    "df.head()"
   ]
  },
  {
   "cell_type": "code",
   "execution_count": 160,
   "id": "76d14de5-bbc6-4de4-9798-b8d47479030f",
   "metadata": {},
   "outputs": [
    {
     "name": "stdout",
     "output_type": "stream",
     "text": [
      "labels         0      1       2       3      4\n",
      "outlier                                       \n",
      "0        25002.0    0.0  3318.0  4450.0  130.0\n",
      "1            1.0  157.0   174.0     0.0    0.0\n"
     ]
    }
   ],
   "source": [
    "df_temp = df[['outlier', 'labels']]\n",
    "counts = df_temp.groupby('outlier')['labels'].value_counts().unstack().fillna(0)\n",
    "print(counts)\n"
   ]
  },
  {
   "cell_type": "code",
   "execution_count": 161,
   "id": "e4afb811-0133-49f7-b8dc-87eca1c9ef23",
   "metadata": {},
   "outputs": [
    {
     "name": "stdout",
     "output_type": "stream",
     "text": [
      "labels        0      1       2       3      4\n",
      "type                                         \n",
      "dws      3901.0    0.0   267.0  1583.0    1.0\n",
      "jog      2208.0    0.0  1389.0  1829.0  102.0\n",
      "sit         0.0  157.0     0.0     0.0    0.0\n",
      "std         1.0    0.0   174.0     0.0    0.0\n",
      "ups      5025.0    0.0   648.0  1036.0   10.0\n",
      "wlk     13868.0    0.0  1014.0     2.0   17.0\n"
     ]
    }
   ],
   "source": [
    "df_temp = df[['type', 'labels']]\n",
    "counts = df_temp.groupby('type')['labels'].value_counts().unstack().fillna(0)\n",
    "print(counts)\n"
   ]
  },
  {
   "cell_type": "markdown",
   "id": "d84465bf-2584-4eeb-a284-c37513f0b2e5",
   "metadata": {},
   "source": [
    "#### connectivity = 2, 5 clusters with cosine"
   ]
  },
  {
   "cell_type": "code",
   "execution_count": 162,
   "id": "bd5eda3c-fa82-4d97-a7be-2cf025b39d90",
   "metadata": {},
   "outputs": [
    {
     "name": "stderr",
     "output_type": "stream",
     "text": [
      "/nfs/home/ikq2724/.local/lib/python3.9/site-packages/sklearn/cluster/_agglomerative.py:983: FutureWarning: Attribute `affinity` was deprecated in version 1.2 and will be removed in 1.4. Use `metric` instead\n",
      "  warnings.warn(\n",
      "/nfs/home/ikq2724/.local/lib/python3.9/site-packages/sklearn/cluster/_agglomerative.py:552: UserWarning: the number of connected components of the connectivity matrix is 153 > 1. Completing it to avoid stopping the tree early.\n",
      "  connectivity, n_connected_components = _fix_connectivity(\n"
     ]
    },
    {
     "name": "stdout",
     "output_type": "stream",
     "text": [
      "[0 0 0 ... 4 4 4]\n"
     ]
    }
   ],
   "source": [
    "Z5 = AgglomerativeClustering(n_clusters=5, linkage='average', affinity='cosine', connectivity=connectivity_2_clusters)\n",
    "Z5.fit_predict(datao[columns_to_categorize])\n",
    "print(Z5.labels_)"
   ]
  },
  {
   "cell_type": "code",
   "execution_count": 163,
   "id": "22e225ff-6ac2-4d12-84a5-d8324d9292fb",
   "metadata": {},
   "outputs": [],
   "source": [
    "df['labels'] = Z5.labels_"
   ]
  },
  {
   "cell_type": "code",
   "execution_count": 164,
   "id": "d4200a1b-223d-4a0f-aa69-a14f83e3a3aa",
   "metadata": {},
   "outputs": [
    {
     "data": {
      "text/html": [
       "<div>\n",
       "<style scoped>\n",
       "    .dataframe tbody tr th:only-of-type {\n",
       "        vertical-align: middle;\n",
       "    }\n",
       "\n",
       "    .dataframe tbody tr th {\n",
       "        vertical-align: top;\n",
       "    }\n",
       "\n",
       "    .dataframe thead th {\n",
       "        text-align: right;\n",
       "    }\n",
       "</style>\n",
       "<table border=\"1\" class=\"dataframe\">\n",
       "  <thead>\n",
       "    <tr style=\"text-align: right;\">\n",
       "      <th></th>\n",
       "      <th>attitude.roll</th>\n",
       "      <th>attitude.pitch</th>\n",
       "      <th>attitude.yaw</th>\n",
       "      <th>gravity.x</th>\n",
       "      <th>gravity.y</th>\n",
       "      <th>gravity.z</th>\n",
       "      <th>rotationRate.x</th>\n",
       "      <th>rotationRate.y</th>\n",
       "      <th>rotationRate.z</th>\n",
       "      <th>userAcceleration.x</th>\n",
       "      <th>userAcceleration.y</th>\n",
       "      <th>userAcceleration.z</th>\n",
       "      <th>type</th>\n",
       "      <th>row_num</th>\n",
       "      <th>outlier</th>\n",
       "      <th>labels</th>\n",
       "    </tr>\n",
       "  </thead>\n",
       "  <tbody>\n",
       "    <tr>\n",
       "      <th>0</th>\n",
       "      <td>mid</td>\n",
       "      <td>low</td>\n",
       "      <td>mid</td>\n",
       "      <td>mid</td>\n",
       "      <td>high</td>\n",
       "      <td>mid</td>\n",
       "      <td>low</td>\n",
       "      <td>mid</td>\n",
       "      <td>mid</td>\n",
       "      <td>mid</td>\n",
       "      <td>low</td>\n",
       "      <td>mid</td>\n",
       "      <td>dws</td>\n",
       "      <td>0</td>\n",
       "      <td>0</td>\n",
       "      <td>0</td>\n",
       "    </tr>\n",
       "    <tr>\n",
       "      <th>1</th>\n",
       "      <td>mid</td>\n",
       "      <td>low</td>\n",
       "      <td>mid</td>\n",
       "      <td>mid</td>\n",
       "      <td>high</td>\n",
       "      <td>mid</td>\n",
       "      <td>low</td>\n",
       "      <td>mid</td>\n",
       "      <td>mid</td>\n",
       "      <td>low</td>\n",
       "      <td>mid</td>\n",
       "      <td>low</td>\n",
       "      <td>dws</td>\n",
       "      <td>1</td>\n",
       "      <td>0</td>\n",
       "      <td>0</td>\n",
       "    </tr>\n",
       "    <tr>\n",
       "      <th>2</th>\n",
       "      <td>mid</td>\n",
       "      <td>low</td>\n",
       "      <td>mid</td>\n",
       "      <td>mid</td>\n",
       "      <td>high</td>\n",
       "      <td>mid</td>\n",
       "      <td>mid</td>\n",
       "      <td>mid</td>\n",
       "      <td>mid</td>\n",
       "      <td>low</td>\n",
       "      <td>low</td>\n",
       "      <td>mid</td>\n",
       "      <td>dws</td>\n",
       "      <td>2</td>\n",
       "      <td>0</td>\n",
       "      <td>0</td>\n",
       "    </tr>\n",
       "    <tr>\n",
       "      <th>3</th>\n",
       "      <td>mid</td>\n",
       "      <td>low</td>\n",
       "      <td>mid</td>\n",
       "      <td>mid</td>\n",
       "      <td>high</td>\n",
       "      <td>mid</td>\n",
       "      <td>mid</td>\n",
       "      <td>mid</td>\n",
       "      <td>mid</td>\n",
       "      <td>low</td>\n",
       "      <td>low</td>\n",
       "      <td>mid</td>\n",
       "      <td>dws</td>\n",
       "      <td>3</td>\n",
       "      <td>0</td>\n",
       "      <td>0</td>\n",
       "    </tr>\n",
       "    <tr>\n",
       "      <th>4</th>\n",
       "      <td>mid</td>\n",
       "      <td>low</td>\n",
       "      <td>mid</td>\n",
       "      <td>mid</td>\n",
       "      <td>high</td>\n",
       "      <td>mid</td>\n",
       "      <td>low</td>\n",
       "      <td>mid</td>\n",
       "      <td>mid</td>\n",
       "      <td>low</td>\n",
       "      <td>low</td>\n",
       "      <td>mid</td>\n",
       "      <td>dws</td>\n",
       "      <td>4</td>\n",
       "      <td>0</td>\n",
       "      <td>0</td>\n",
       "    </tr>\n",
       "  </tbody>\n",
       "</table>\n",
       "</div>"
      ],
      "text/plain": [
       "  attitude.roll attitude.pitch attitude.yaw gravity.x gravity.y gravity.z  \\\n",
       "0           mid            low          mid       mid      high       mid   \n",
       "1           mid            low          mid       mid      high       mid   \n",
       "2           mid            low          mid       mid      high       mid   \n",
       "3           mid            low          mid       mid      high       mid   \n",
       "4           mid            low          mid       mid      high       mid   \n",
       "\n",
       "  rotationRate.x rotationRate.y rotationRate.z userAcceleration.x  \\\n",
       "0            low            mid            mid                mid   \n",
       "1            low            mid            mid                low   \n",
       "2            mid            mid            mid                low   \n",
       "3            mid            mid            mid                low   \n",
       "4            low            mid            mid                low   \n",
       "\n",
       "  userAcceleration.y userAcceleration.z type  row_num  outlier  labels  \n",
       "0                low                mid  dws        0        0       0  \n",
       "1                mid                low  dws        1        0       0  \n",
       "2                low                mid  dws        2        0       0  \n",
       "3                low                mid  dws        3        0       0  \n",
       "4                low                mid  dws        4        0       0  "
      ]
     },
     "execution_count": 164,
     "metadata": {},
     "output_type": "execute_result"
    }
   ],
   "source": [
    "df.head()"
   ]
  },
  {
   "cell_type": "code",
   "execution_count": 165,
   "id": "fb12edaa-c23a-4256-8923-5696ea734313",
   "metadata": {},
   "outputs": [
    {
     "name": "stdout",
     "output_type": "stream",
     "text": [
      "labels         0      1       2       3       4\n",
      "outlier                                        \n",
      "0        22762.0    0.0  2451.0  3795.0  3892.0\n",
      "1            1.0  157.0     0.0     0.0   174.0\n"
     ]
    }
   ],
   "source": [
    "df_temp = df[['outlier', 'labels']]\n",
    "counts = df_temp.groupby('outlier')['labels'].value_counts().unstack().fillna(0)\n",
    "print(counts)\n"
   ]
  },
  {
   "cell_type": "code",
   "execution_count": 166,
   "id": "b9e027bd-168e-410f-b285-57f0b4053ee4",
   "metadata": {},
   "outputs": [
    {
     "name": "stdout",
     "output_type": "stream",
     "text": [
      "labels        0      1       2       3       4\n",
      "type                                          \n",
      "dws      3666.0    0.0   138.0  1650.0   298.0\n",
      "jog      3989.0    0.0     1.0   139.0  1399.0\n",
      "sit         0.0  157.0     0.0     0.0     0.0\n",
      "std         1.0    0.0     0.0     0.0   174.0\n",
      "ups      3280.0    0.0   634.0  1849.0   956.0\n",
      "wlk     11827.0    0.0  1678.0   157.0  1239.0\n"
     ]
    }
   ],
   "source": [
    "df_temp = df[['type', 'labels']]\n",
    "counts = df_temp.groupby('type')['labels'].value_counts().unstack().fillna(0)\n",
    "print(counts)\n"
   ]
  },
  {
   "cell_type": "markdown",
   "id": "220879ec-c59e-4672-971a-d75207bd8929",
   "metadata": {},
   "source": [
    "#### connectivity = 2, 5 clusters with manhattan"
   ]
  },
  {
   "cell_type": "code",
   "execution_count": 167,
   "id": "a48628ac-d9c1-4e3c-a82e-e6438c5502c6",
   "metadata": {},
   "outputs": [
    {
     "name": "stderr",
     "output_type": "stream",
     "text": [
      "/nfs/home/ikq2724/.local/lib/python3.9/site-packages/sklearn/cluster/_agglomerative.py:983: FutureWarning: Attribute `affinity` was deprecated in version 1.2 and will be removed in 1.4. Use `metric` instead\n",
      "  warnings.warn(\n",
      "/nfs/home/ikq2724/.local/lib/python3.9/site-packages/sklearn/cluster/_agglomerative.py:552: UserWarning: the number of connected components of the connectivity matrix is 153 > 1. Completing it to avoid stopping the tree early.\n",
      "  connectivity, n_connected_components = _fix_connectivity(\n"
     ]
    },
    {
     "name": "stdout",
     "output_type": "stream",
     "text": [
      "[0 2 0 ... 1 1 1]\n"
     ]
    }
   ],
   "source": [
    "Z5 = AgglomerativeClustering(n_clusters=5, linkage='average', affinity='l1', connectivity=connectivity_2_clusters)\n",
    "Z5.fit_predict(datao[columns_to_categorize])\n",
    "print(Z5.labels_)"
   ]
  },
  {
   "cell_type": "code",
   "execution_count": 168,
   "id": "be9618af-3e66-4a80-82b2-6d66108e97fc",
   "metadata": {},
   "outputs": [],
   "source": [
    "df['labels'] = Z5.labels_"
   ]
  },
  {
   "cell_type": "code",
   "execution_count": 169,
   "id": "3a2d6aab-c726-4c57-aa69-822311d02a0c",
   "metadata": {},
   "outputs": [
    {
     "data": {
      "text/html": [
       "<div>\n",
       "<style scoped>\n",
       "    .dataframe tbody tr th:only-of-type {\n",
       "        vertical-align: middle;\n",
       "    }\n",
       "\n",
       "    .dataframe tbody tr th {\n",
       "        vertical-align: top;\n",
       "    }\n",
       "\n",
       "    .dataframe thead th {\n",
       "        text-align: right;\n",
       "    }\n",
       "</style>\n",
       "<table border=\"1\" class=\"dataframe\">\n",
       "  <thead>\n",
       "    <tr style=\"text-align: right;\">\n",
       "      <th></th>\n",
       "      <th>attitude.roll</th>\n",
       "      <th>attitude.pitch</th>\n",
       "      <th>attitude.yaw</th>\n",
       "      <th>gravity.x</th>\n",
       "      <th>gravity.y</th>\n",
       "      <th>gravity.z</th>\n",
       "      <th>rotationRate.x</th>\n",
       "      <th>rotationRate.y</th>\n",
       "      <th>rotationRate.z</th>\n",
       "      <th>userAcceleration.x</th>\n",
       "      <th>userAcceleration.y</th>\n",
       "      <th>userAcceleration.z</th>\n",
       "      <th>type</th>\n",
       "      <th>row_num</th>\n",
       "      <th>outlier</th>\n",
       "      <th>labels</th>\n",
       "    </tr>\n",
       "  </thead>\n",
       "  <tbody>\n",
       "    <tr>\n",
       "      <th>0</th>\n",
       "      <td>mid</td>\n",
       "      <td>low</td>\n",
       "      <td>mid</td>\n",
       "      <td>mid</td>\n",
       "      <td>high</td>\n",
       "      <td>mid</td>\n",
       "      <td>low</td>\n",
       "      <td>mid</td>\n",
       "      <td>mid</td>\n",
       "      <td>mid</td>\n",
       "      <td>low</td>\n",
       "      <td>mid</td>\n",
       "      <td>dws</td>\n",
       "      <td>0</td>\n",
       "      <td>0</td>\n",
       "      <td>0</td>\n",
       "    </tr>\n",
       "    <tr>\n",
       "      <th>1</th>\n",
       "      <td>mid</td>\n",
       "      <td>low</td>\n",
       "      <td>mid</td>\n",
       "      <td>mid</td>\n",
       "      <td>high</td>\n",
       "      <td>mid</td>\n",
       "      <td>low</td>\n",
       "      <td>mid</td>\n",
       "      <td>mid</td>\n",
       "      <td>low</td>\n",
       "      <td>mid</td>\n",
       "      <td>low</td>\n",
       "      <td>dws</td>\n",
       "      <td>1</td>\n",
       "      <td>0</td>\n",
       "      <td>2</td>\n",
       "    </tr>\n",
       "    <tr>\n",
       "      <th>2</th>\n",
       "      <td>mid</td>\n",
       "      <td>low</td>\n",
       "      <td>mid</td>\n",
       "      <td>mid</td>\n",
       "      <td>high</td>\n",
       "      <td>mid</td>\n",
       "      <td>mid</td>\n",
       "      <td>mid</td>\n",
       "      <td>mid</td>\n",
       "      <td>low</td>\n",
       "      <td>low</td>\n",
       "      <td>mid</td>\n",
       "      <td>dws</td>\n",
       "      <td>2</td>\n",
       "      <td>0</td>\n",
       "      <td>0</td>\n",
       "    </tr>\n",
       "    <tr>\n",
       "      <th>3</th>\n",
       "      <td>mid</td>\n",
       "      <td>low</td>\n",
       "      <td>mid</td>\n",
       "      <td>mid</td>\n",
       "      <td>high</td>\n",
       "      <td>mid</td>\n",
       "      <td>mid</td>\n",
       "      <td>mid</td>\n",
       "      <td>mid</td>\n",
       "      <td>low</td>\n",
       "      <td>low</td>\n",
       "      <td>mid</td>\n",
       "      <td>dws</td>\n",
       "      <td>3</td>\n",
       "      <td>0</td>\n",
       "      <td>0</td>\n",
       "    </tr>\n",
       "    <tr>\n",
       "      <th>4</th>\n",
       "      <td>mid</td>\n",
       "      <td>low</td>\n",
       "      <td>mid</td>\n",
       "      <td>mid</td>\n",
       "      <td>high</td>\n",
       "      <td>mid</td>\n",
       "      <td>low</td>\n",
       "      <td>mid</td>\n",
       "      <td>mid</td>\n",
       "      <td>low</td>\n",
       "      <td>low</td>\n",
       "      <td>mid</td>\n",
       "      <td>dws</td>\n",
       "      <td>4</td>\n",
       "      <td>0</td>\n",
       "      <td>0</td>\n",
       "    </tr>\n",
       "  </tbody>\n",
       "</table>\n",
       "</div>"
      ],
      "text/plain": [
       "  attitude.roll attitude.pitch attitude.yaw gravity.x gravity.y gravity.z  \\\n",
       "0           mid            low          mid       mid      high       mid   \n",
       "1           mid            low          mid       mid      high       mid   \n",
       "2           mid            low          mid       mid      high       mid   \n",
       "3           mid            low          mid       mid      high       mid   \n",
       "4           mid            low          mid       mid      high       mid   \n",
       "\n",
       "  rotationRate.x rotationRate.y rotationRate.z userAcceleration.x  \\\n",
       "0            low            mid            mid                mid   \n",
       "1            low            mid            mid                low   \n",
       "2            mid            mid            mid                low   \n",
       "3            mid            mid            mid                low   \n",
       "4            low            mid            mid                low   \n",
       "\n",
       "  userAcceleration.y userAcceleration.z type  row_num  outlier  labels  \n",
       "0                low                mid  dws        0        0       0  \n",
       "1                mid                low  dws        1        0       2  \n",
       "2                low                mid  dws        2        0       0  \n",
       "3                low                mid  dws        3        0       0  \n",
       "4                low                mid  dws        4        0       0  "
      ]
     },
     "execution_count": 169,
     "metadata": {},
     "output_type": "execute_result"
    }
   ],
   "source": [
    "df.head()"
   ]
  },
  {
   "cell_type": "code",
   "execution_count": 170,
   "id": "11de3c4e-b6a7-4254-8f58-2af7ba0ce0e4",
   "metadata": {},
   "outputs": [
    {
     "name": "stdout",
     "output_type": "stream",
     "text": [
      "labels         0       1        2    3      4\n",
      "outlier                                      \n",
      "0        17210.0  4095.0  11591.0  4.0    0.0\n",
      "1            1.0   174.0      0.0  0.0  157.0\n"
     ]
    }
   ],
   "source": [
    "df_temp = df[['outlier', 'labels']]\n",
    "counts = df_temp.groupby('outlier')['labels'].value_counts().unstack().fillna(0)\n",
    "print(counts)\n"
   ]
  },
  {
   "cell_type": "code",
   "execution_count": 171,
   "id": "fb8900b9-4e9e-427e-91ed-10a8eebfb570",
   "metadata": {},
   "outputs": [
    {
     "name": "stdout",
     "output_type": "stream",
     "text": [
      "labels       0       1       2    3      4\n",
      "type                                      \n",
      "dws     3812.0   163.0  1777.0  0.0    0.0\n",
      "jog     2398.0  1485.0  1641.0  4.0    0.0\n",
      "sit        0.0     0.0     0.0  0.0  157.0\n",
      "std        1.0   174.0     0.0  0.0    0.0\n",
      "ups     3355.0   723.0  2641.0  0.0    0.0\n",
      "wlk     7645.0  1724.0  5532.0  0.0    0.0\n"
     ]
    }
   ],
   "source": [
    "df_temp = df[['type', 'labels']]\n",
    "counts = df_temp.groupby('type')['labels'].value_counts().unstack().fillna(0)\n",
    "print(counts)\n"
   ]
  },
  {
   "cell_type": "markdown",
   "id": "fd4a6b88-019b-4ae0-b3c0-9984d0d8b23f",
   "metadata": {},
   "source": [
    "### Winner: connectivity = 2, 5 clusters with L2"
   ]
  },
  {
   "cell_type": "markdown",
   "id": "6a25edba-80a6-4dd6-a88c-dd4d4c430fe1",
   "metadata": {},
   "source": [
    "### Plot Clusters"
   ]
  },
  {
   "cell_type": "code",
   "execution_count": 172,
   "id": "e63ee753-4adb-4706-a518-146e03f8ccfe",
   "metadata": {},
   "outputs": [],
   "source": [
    "# fig, ax = plt.subplots(figsize=(8, 8))\n",
    "\n",
    "# scatter = ax.scatter(df['latitude'], df['longitude'], c=Z5.labels_, cmap='rainbow')\n",
    "\n",
    "# legend = ax.legend(*scatter.legend_elements(), title=\"Clusters\", bbox_to_anchor=(1, 1))\n",
    "# ax.add_artist(legend)\n",
    "\n",
    "# for index, row in df.iterrows():\n",
    "#     plt.annotate(str(row['name']), xy=(row['latitude'], row['longitude']), xytext=(1, 1), textcoords='offset points')\n",
    "#     labels.append(row['name'])\n",
    "\n",
    "# plt.xlabel('Latitude')\n",
    "# plt.ylabel('Longitude')\n",
    "# plt.title('Countries')\n",
    "# plt.locator_params(nbins=10)\n",
    "# plt.grid()\n",
    "\n",
    "# plt.show()"
   ]
  },
  {
   "cell_type": "code",
   "execution_count": null,
   "id": "0c78ae44-e601-4fcb-a432-935072be8fa6",
   "metadata": {},
   "outputs": [],
   "source": []
  },
  {
   "cell_type": "code",
   "execution_count": null,
   "id": "8723f447-e52c-4399-a1c1-aa20b5f59e96",
   "metadata": {},
   "outputs": [],
   "source": []
  },
  {
   "cell_type": "code",
   "execution_count": null,
   "id": "483a1592-9b39-41b7-82d3-11bb5a964c88",
   "metadata": {},
   "outputs": [],
   "source": []
  },
  {
   "cell_type": "code",
   "execution_count": null,
   "id": "1025112d-6506-408a-b1d5-387c682b7821",
   "metadata": {},
   "outputs": [],
   "source": []
  },
  {
   "cell_type": "code",
   "execution_count": null,
   "id": "5a12add8-095f-498a-a01e-665e32a2f7cf",
   "metadata": {},
   "outputs": [],
   "source": []
  },
  {
   "cell_type": "code",
   "execution_count": null,
   "id": "7252def9-835e-416f-8c4e-0561e09d6af4",
   "metadata": {},
   "outputs": [],
   "source": []
  },
  {
   "cell_type": "code",
   "execution_count": null,
   "id": "917df454-6ad3-4aeb-a7d2-05d828843442",
   "metadata": {},
   "outputs": [],
   "source": []
  }
 ],
 "metadata": {
  "kernelspec": {
   "display_name": "Python 3 (ipykernel)",
   "language": "python",
   "name": "python3"
  },
  "language_info": {
   "codemirror_mode": {
    "name": "ipython",
    "version": 3
   },
   "file_extension": ".py",
   "mimetype": "text/x-python",
   "name": "python",
   "nbconvert_exporter": "python",
   "pygments_lexer": "ipython3",
   "version": "3.9.7"
  }
 },
 "nbformat": 4,
 "nbformat_minor": 5
}
